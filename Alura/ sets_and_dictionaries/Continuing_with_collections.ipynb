{
  "nbformat": 4,
  "nbformat_minor": 0,
  "metadata": {
    "colab": {
      "name": "Continuing_with_collections.ipynb",
      "provenance": [],
      "authorship_tag": "ABX9TyN0eXrktb/Ucdq9YoYIxo9O",
      "include_colab_link": true
    },
    "kernelspec": {
      "name": "python3",
      "display_name": "Python 3"
    },
    "language_info": {
      "name": "python"
    }
  },
  "cells": [
    {
      "cell_type": "markdown",
      "metadata": {
        "id": "view-in-github",
        "colab_type": "text"
      },
      "source": [
        "<a href=\"https://colab.research.google.com/github/ApoloGrecco/projects_py/blob/main/%20sets_and_dictionaries/Continuing_with_collections.ipynb\" target=\"_parent\"><img src=\"https://colab.research.google.com/assets/colab-badge.svg\" alt=\"Open In Colab\"/></a>"
      ]
    },
    {
      "cell_type": "code",
      "execution_count": null,
      "metadata": {
        "id": "cYuLII6Y14gA"
      },
      "outputs": [],
      "source": [
        "users_data_science = [15, 23, 43, 56]\n",
        "users_machine_learning = [13, 23, 56, 42]"
      ]
    },
    {
      "cell_type": "code",
      "source": [
        "watched = users_data_science.copy()\n",
        "watched.extend(users_machine_learning)\n",
        "watched"
      ],
      "metadata": {
        "colab": {
          "base_uri": "https://localhost:8080/"
        },
        "id": "mONJ-WxI3nRZ",
        "outputId": "1f669989-c9d7-4c3c-b246-05c221386d74"
      },
      "execution_count": null,
      "outputs": [
        {
          "output_type": "execute_result",
          "data": {
            "text/plain": [
              "[15, 23, 43, 56, 13, 23, 56, 42]"
            ]
          },
          "metadata": {},
          "execution_count": 2
        }
      ]
    },
    {
      "cell_type": "code",
      "source": [
        "len(watched)"
      ],
      "metadata": {
        "colab": {
          "base_uri": "https://localhost:8080/"
        },
        "id": "C2wKUF7r36xQ",
        "outputId": "8bcf5c36-00cf-478b-a9c0-5ae96190990a"
      },
      "execution_count": null,
      "outputs": [
        {
          "output_type": "execute_result",
          "data": {
            "text/plain": [
              "8"
            ]
          },
          "metadata": {},
          "execution_count": 3
        }
      ]
    },
    {
      "cell_type": "code",
      "source": [
        "set(watched)"
      ],
      "metadata": {
        "id": "r9YRroiH4YGv",
        "colab": {
          "base_uri": "https://localhost:8080/"
        },
        "outputId": "37a78dfd-dbb0-4b52-b1a2-dfc18b6cf709"
      },
      "execution_count": null,
      "outputs": [
        {
          "output_type": "execute_result",
          "data": {
            "text/plain": [
              "{13, 15, 23, 42, 43, 56}"
            ]
          },
          "metadata": {},
          "execution_count": 4
        }
      ]
    },
    {
      "cell_type": "code",
      "source": [
        "set([1,2,3,1])"
      ],
      "metadata": {
        "colab": {
          "base_uri": "https://localhost:8080/"
        },
        "id": "5PZvUhuvRwy-",
        "outputId": "1bc70534-8416-4754-fdb4-fa924e918ee1"
      },
      "execution_count": null,
      "outputs": [
        {
          "output_type": "execute_result",
          "data": {
            "text/plain": [
              "{1, 2, 3}"
            ]
          },
          "metadata": {},
          "execution_count": 5
        }
      ]
    },
    {
      "cell_type": "code",
      "source": [
        "{4, 1, 2, 3, 1}"
      ],
      "metadata": {
        "colab": {
          "base_uri": "https://localhost:8080/"
        },
        "id": "EaOJKZEoR7zW",
        "outputId": "ca898edb-6254-4d15-eb94-ba85842a61b8"
      },
      "execution_count": null,
      "outputs": [
        {
          "output_type": "execute_result",
          "data": {
            "text/plain": [
              "{1, 2, 3, 4}"
            ]
          },
          "metadata": {},
          "execution_count": 6
        }
      ]
    },
    {
      "cell_type": "code",
      "source": [
        "type({1,2})"
      ],
      "metadata": {
        "colab": {
          "base_uri": "https://localhost:8080/"
        },
        "id": "_DSZwmx_SCA_",
        "outputId": "58c803f2-87a7-4f20-bc2d-159fe53a8ad8"
      },
      "execution_count": null,
      "outputs": [
        {
          "output_type": "execute_result",
          "data": {
            "text/plain": [
              "set"
            ]
          },
          "metadata": {},
          "execution_count": 7
        }
      ]
    },
    {
      "cell_type": "code",
      "source": [
        "users_data_science = {15, 23, 43, 56}\n",
        "users_machine_learning = {13, 23, 56, 42}"
      ],
      "metadata": {
        "id": "KxuZXa3CSGT6"
      },
      "execution_count": null,
      "outputs": []
    },
    {
      "cell_type": "code",
      "source": [
        "users_machine_learning"
      ],
      "metadata": {
        "colab": {
          "base_uri": "https://localhost:8080/"
        },
        "id": "9qfTjwIhSYe4",
        "outputId": "652b825b-48c3-4932-b216-e6d05de0a094"
      },
      "execution_count": null,
      "outputs": [
        {
          "output_type": "execute_result",
          "data": {
            "text/plain": [
              "{13, 23, 42, 56}"
            ]
          },
          "metadata": {},
          "execution_count": 9
        }
      ]
    },
    {
      "cell_type": "code",
      "source": [
        "users_machine_learning[3]"
      ],
      "metadata": {
        "colab": {
          "base_uri": "https://localhost:8080/",
          "height": 164
        },
        "id": "JzWXIR5LSaIj",
        "outputId": "6d666722-c779-4dc0-c8fb-467dfcdee779"
      },
      "execution_count": null,
      "outputs": [
        {
          "output_type": "error",
          "ename": "TypeError",
          "evalue": "ignored",
          "traceback": [
            "\u001b[0;31m---------------------------------------------------------------------------\u001b[0m",
            "\u001b[0;31mTypeError\u001b[0m                                 Traceback (most recent call last)",
            "\u001b[0;32m<ipython-input-10-bddaca91db6d>\u001b[0m in \u001b[0;36m<module>\u001b[0;34m()\u001b[0m\n\u001b[0;32m----> 1\u001b[0;31m \u001b[0musers_machine_learning\u001b[0m\u001b[0;34m[\u001b[0m\u001b[0;36m3\u001b[0m\u001b[0;34m]\u001b[0m\u001b[0;34m\u001b[0m\u001b[0;34m\u001b[0m\u001b[0m\n\u001b[0m",
            "\u001b[0;31mTypeError\u001b[0m: 'set' object is not subscriptable"
          ]
        }
      ]
    },
    {
      "cell_type": "code",
      "source": [
        "for users in set(watched):\n",
        "    print(users)"
      ],
      "metadata": {
        "colab": {
          "base_uri": "https://localhost:8080/"
        },
        "id": "bewz_M2sSfnd",
        "outputId": "12977fce-06d0-4d7f-e262-ce11e6d5a4ea"
      },
      "execution_count": null,
      "outputs": [
        {
          "output_type": "stream",
          "name": "stdout",
          "text": [
            "42\n",
            "43\n",
            "13\n",
            "15\n",
            "23\n",
            "56\n"
          ]
        }
      ]
    },
    {
      "cell_type": "code",
      "source": [
        "users_data_science = {15, 23, 43, 56}\n",
        "users_machine_learning = {13, 23, 56, 42}"
      ],
      "metadata": {
        "id": "VNfzkqTfVYnK"
      },
      "execution_count": null,
      "outputs": []
    },
    {
      "cell_type": "code",
      "source": [
        "users_data_science | users_machine_learning"
      ],
      "metadata": {
        "colab": {
          "base_uri": "https://localhost:8080/"
        },
        "id": "tnpS5PDlRsJ-",
        "outputId": "f1dab230-6b96-4819-a5ac-b42c1caf44fc"
      },
      "execution_count": null,
      "outputs": [
        {
          "output_type": "execute_result",
          "data": {
            "text/plain": [
              "{13, 15, 23, 42, 43, 56}"
            ]
          },
          "metadata": {},
          "execution_count": 13
        }
      ]
    },
    {
      "cell_type": "code",
      "source": [
        "users_data_science & users_machine_learning"
      ],
      "metadata": {
        "colab": {
          "base_uri": "https://localhost:8080/"
        },
        "id": "FSkouO8URx3_",
        "outputId": "0ff901eb-d281-4c31-f727-dac4a719b773"
      },
      "execution_count": null,
      "outputs": [
        {
          "output_type": "execute_result",
          "data": {
            "text/plain": [
              "{23, 56}"
            ]
          },
          "metadata": {},
          "execution_count": 14
        }
      ]
    },
    {
      "cell_type": "code",
      "source": [
        "users_data_science - users_machine_learning"
      ],
      "metadata": {
        "colab": {
          "base_uri": "https://localhost:8080/"
        },
        "id": "bwfOg2PuSMG-",
        "outputId": "cfed8e69-8b80-4131-8c1b-506c4dbdebd0"
      },
      "execution_count": null,
      "outputs": [
        {
          "output_type": "execute_result",
          "data": {
            "text/plain": [
              "{15, 43}"
            ]
          },
          "metadata": {},
          "execution_count": 15
        }
      ]
    },
    {
      "cell_type": "code",
      "source": [
        "made_DS_but_not_ML = users_data_science - users_machine_learning\n",
        "15 in made_DS_but_not_ML"
      ],
      "metadata": {
        "colab": {
          "base_uri": "https://localhost:8080/"
        },
        "id": "3SEAO8RaSukH",
        "outputId": "cad90952-e5bf-4516-d1ef-708e27bdf55c"
      },
      "execution_count": null,
      "outputs": [
        {
          "output_type": "execute_result",
          "data": {
            "text/plain": [
              "True"
            ]
          },
          "metadata": {},
          "execution_count": 16
        }
      ]
    },
    {
      "cell_type": "code",
      "source": [
        "23 in made_DS_but_not_ML"
      ],
      "metadata": {
        "colab": {
          "base_uri": "https://localhost:8080/"
        },
        "id": "9dXDggHrTNSF",
        "outputId": "381c9518-05e9-4307-ca96-ce025790de8a"
      },
      "execution_count": null,
      "outputs": [
        {
          "output_type": "execute_result",
          "data": {
            "text/plain": [
              "False"
            ]
          },
          "metadata": {},
          "execution_count": 17
        }
      ]
    },
    {
      "cell_type": "code",
      "source": [
        "users_data_science ^ users_machine_learning"
      ],
      "metadata": {
        "colab": {
          "base_uri": "https://localhost:8080/"
        },
        "id": "wyxF15wITUNi",
        "outputId": "18383731-0ce9-48ac-8cbb-4408717c807c"
      },
      "execution_count": null,
      "outputs": [
        {
          "output_type": "execute_result",
          "data": {
            "text/plain": [
              "{13, 15, 42, 43}"
            ]
          },
          "metadata": {},
          "execution_count": 18
        }
      ]
    },
    {
      "cell_type": "code",
      "source": [
        "users = {1,5,76,34,52,13,17}\n",
        "len(users)"
      ],
      "metadata": {
        "colab": {
          "base_uri": "https://localhost:8080/"
        },
        "id": "MDzVjZZOVGVL",
        "outputId": "abf06fa9-20b0-4db8-97f8-d813bcdaa20d"
      },
      "execution_count": null,
      "outputs": [
        {
          "output_type": "execute_result",
          "data": {
            "text/plain": [
              "7"
            ]
          },
          "metadata": {},
          "execution_count": 19
        }
      ]
    },
    {
      "cell_type": "code",
      "source": [
        "users.add(13)\n",
        "len(users)"
      ],
      "metadata": {
        "colab": {
          "base_uri": "https://localhost:8080/"
        },
        "id": "qKu2myQ_VnFI",
        "outputId": "bb17324e-a715-42fc-e6c7-ff30546a7d58"
      },
      "execution_count": null,
      "outputs": [
        {
          "output_type": "execute_result",
          "data": {
            "text/plain": [
              "7"
            ]
          },
          "metadata": {},
          "execution_count": 22
        }
      ]
    },
    {
      "cell_type": "code",
      "source": [
        "users.add(765)\n",
        "len(users)"
      ],
      "metadata": {
        "colab": {
          "base_uri": "https://localhost:8080/"
        },
        "id": "c0S1OCTEVpFq",
        "outputId": "e854fccd-6561-4587-d898-76e6a015c477"
      },
      "execution_count": null,
      "outputs": [
        {
          "output_type": "execute_result",
          "data": {
            "text/plain": [
              "8"
            ]
          },
          "metadata": {},
          "execution_count": 25
        }
      ]
    },
    {
      "cell_type": "code",
      "source": [
        "users"
      ],
      "metadata": {
        "colab": {
          "base_uri": "https://localhost:8080/"
        },
        "id": "y5Zbh2M2V7P0",
        "outputId": "fce51d3f-7bf5-47b3-d24d-b4931d2ac93e"
      },
      "execution_count": null,
      "outputs": [
        {
          "output_type": "execute_result",
          "data": {
            "text/plain": [
              "{1, 5, 13, 17, 34, 52, 76, 765}"
            ]
          },
          "metadata": {},
          "execution_count": 24
        }
      ]
    },
    {
      "cell_type": "code",
      "source": [
        "users = frozenset(users)\n",
        "users"
      ],
      "metadata": {
        "colab": {
          "base_uri": "https://localhost:8080/"
        },
        "id": "2PA5mqldV9aw",
        "outputId": "c3f3daac-b54d-4135-c7ee-85f0631d82a7"
      },
      "execution_count": null,
      "outputs": [
        {
          "output_type": "execute_result",
          "data": {
            "text/plain": [
              "frozenset({1, 5, 13, 17, 34, 52, 76, 765})"
            ]
          },
          "metadata": {},
          "execution_count": 26
        }
      ]
    },
    {
      "cell_type": "code",
      "source": [
        "type(users)"
      ],
      "metadata": {
        "colab": {
          "base_uri": "https://localhost:8080/"
        },
        "id": "a51ChF6XWLA7",
        "outputId": "35e41c9a-d770-4979-fb65-9c213cfdfbf8"
      },
      "execution_count": null,
      "outputs": [
        {
          "output_type": "execute_result",
          "data": {
            "text/plain": [
              "frozenset"
            ]
          },
          "metadata": {},
          "execution_count": 27
        }
      ]
    },
    {
      "cell_type": "code",
      "source": [
        "users.add(134)"
      ],
      "metadata": {
        "colab": {
          "base_uri": "https://localhost:8080/",
          "height": 164
        },
        "id": "vMBCICxdWNvC",
        "outputId": "7f733de6-a7d7-43bf-dd9a-46d082df9dcc"
      },
      "execution_count": null,
      "outputs": [
        {
          "output_type": "error",
          "ename": "AttributeError",
          "evalue": "ignored",
          "traceback": [
            "\u001b[0;31m---------------------------------------------------------------------------\u001b[0m",
            "\u001b[0;31mAttributeError\u001b[0m                            Traceback (most recent call last)",
            "\u001b[0;32m<ipython-input-28-03de7f00f0b7>\u001b[0m in \u001b[0;36m<module>\u001b[0;34m()\u001b[0m\n\u001b[0;32m----> 1\u001b[0;31m \u001b[0musers\u001b[0m\u001b[0;34m.\u001b[0m\u001b[0madd\u001b[0m\u001b[0;34m(\u001b[0m\u001b[0;36m134\u001b[0m\u001b[0;34m)\u001b[0m\u001b[0;34m\u001b[0m\u001b[0;34m\u001b[0m\u001b[0m\n\u001b[0m",
            "\u001b[0;31mAttributeError\u001b[0m: 'frozenset' object has no attribute 'add'"
          ]
        }
      ]
    },
    {
      "cell_type": "code",
      "source": [
        "my_text = \"Bem vindo meu nome é Apolo eu gosto muito de nomes e tenho o meu cachorro e gosto muito de cachorro\"\n",
        "my_text.split(\" \")"
      ],
      "metadata": {
        "colab": {
          "base_uri": "https://localhost:8080/"
        },
        "id": "jKA6dhUqWr7g",
        "outputId": "a421b5e7-ebe2-4426-abb8-8bb52c6d982b"
      },
      "execution_count": null,
      "outputs": [
        {
          "output_type": "execute_result",
          "data": {
            "text/plain": [
              "['Bem',\n",
              " 'vindo',\n",
              " 'meu',\n",
              " 'nome',\n",
              " 'é',\n",
              " 'Apolo',\n",
              " 'eu',\n",
              " 'gosto',\n",
              " 'muito',\n",
              " 'de',\n",
              " 'nomes',\n",
              " 'e',\n",
              " 'tenho',\n",
              " 'o',\n",
              " 'meu',\n",
              " 'cachorro',\n",
              " 'e',\n",
              " 'gosto',\n",
              " 'muito',\n",
              " 'de',\n",
              " 'cachorro']"
            ]
          },
          "metadata": {},
          "execution_count": 29
        }
      ]
    },
    {
      "cell_type": "code",
      "source": [
        "set(my_text.split(\" \"))"
      ],
      "metadata": {
        "colab": {
          "base_uri": "https://localhost:8080/"
        },
        "id": "OVvuzzs5nUg_",
        "outputId": "26eb41d1-d61f-45fa-cf3e-f07646c14da0"
      },
      "execution_count": null,
      "outputs": [
        {
          "output_type": "execute_result",
          "data": {
            "text/plain": [
              "{'Apolo',\n",
              " 'Bem',\n",
              " 'cachorro',\n",
              " 'de',\n",
              " 'e',\n",
              " 'eu',\n",
              " 'gosto',\n",
              " 'meu',\n",
              " 'muito',\n",
              " 'nome',\n",
              " 'nomes',\n",
              " 'o',\n",
              " 'tenho',\n",
              " 'vindo',\n",
              " 'é'}"
            ]
          },
          "metadata": {},
          "execution_count": 32
        }
      ]
    },
    {
      "cell_type": "markdown",
      "source": [
        "# Dictionary (Map)"
      ],
      "metadata": {
        "id": "MhN6W07fpRZs"
      }
    },
    {
      "cell_type": "code",
      "source": [
        "apparitions = {\n",
        "    \"Guilherme\" : 1,\n",
        "    \"cachorro\" : 2,\n",
        "    \"nome\" : 3,\n",
        "    \"vindo\" : 1\n",
        "}"
      ],
      "metadata": {
        "id": "zNOj2Hy4nrJe"
      },
      "execution_count": 4,
      "outputs": []
    },
    {
      "cell_type": "code",
      "source": [
        "type(apparitions)"
      ],
      "metadata": {
        "colab": {
          "base_uri": "https://localhost:8080/"
        },
        "id": "kknWkfyO1Bzz",
        "outputId": "be9dbc7c-35ec-4404-f71c-e150f4dfe3ac"
      },
      "execution_count": 5,
      "outputs": [
        {
          "output_type": "execute_result",
          "data": {
            "text/plain": [
              "dict"
            ]
          },
          "metadata": {},
          "execution_count": 5
        }
      ]
    },
    {
      "cell_type": "code",
      "source": [
        "apparitions[\"Guilherme\"]"
      ],
      "metadata": {
        "colab": {
          "base_uri": "https://localhost:8080/"
        },
        "id": "53XltJBT1DVB",
        "outputId": "3a84aff8-9bcb-410c-ae3b-e0a26ed558a6"
      },
      "execution_count": 6,
      "outputs": [
        {
          "output_type": "execute_result",
          "data": {
            "text/plain": [
              "1"
            ]
          },
          "metadata": {},
          "execution_count": 6
        }
      ]
    },
    {
      "cell_type": "code",
      "source": [
        "apparitions[\"cachorro\"]"
      ],
      "metadata": {
        "colab": {
          "base_uri": "https://localhost:8080/"
        },
        "id": "tP80h_-S1IfH",
        "outputId": "e58cc649-54d0-486a-f748-c684d49d7f9e"
      },
      "execution_count": 7,
      "outputs": [
        {
          "output_type": "execute_result",
          "data": {
            "text/plain": [
              "2"
            ]
          },
          "metadata": {},
          "execution_count": 7
        }
      ]
    },
    {
      "cell_type": "code",
      "source": [
        "apparitions = dict(Guilherme = 2, cachorro = 1)\n",
        "apparitions"
      ],
      "metadata": {
        "colab": {
          "base_uri": "https://localhost:8080/"
        },
        "id": "TM1jh-Pw1K8X",
        "outputId": "3fe341a0-5e98-417c-b258-78b1e3ac43d2"
      },
      "execution_count": 8,
      "outputs": [
        {
          "output_type": "execute_result",
          "data": {
            "text/plain": [
              "{'Guilherme': 2, 'cachorro': 1}"
            ]
          },
          "metadata": {},
          "execution_count": 8
        }
      ]
    },
    {
      "cell_type": "code",
      "source": [
        "apparitions = {\n",
        "    \"Guilherme\" : 1,\n",
        "    \"cachorro\" : 2,\n",
        "    \"nome\" : 3,\n",
        "    \"vindo\" : 1\n",
        "}"
      ],
      "metadata": {
        "id": "Ioz-GSt31MS7"
      },
      "execution_count": 9,
      "outputs": []
    },
    {
      "cell_type": "code",
      "source": [
        "apparitions[\"Carlos\"] = 1\n"
      ],
      "metadata": {
        "id": "ylUvCy2t1rNK"
      },
      "execution_count": 10,
      "outputs": []
    },
    {
      "cell_type": "code",
      "source": [
        "apparitions"
      ],
      "metadata": {
        "colab": {
          "base_uri": "https://localhost:8080/"
        },
        "id": "br6w07st11gg",
        "outputId": "b3af1e30-3588-4696-d7d5-41132daee9e5"
      },
      "execution_count": 11,
      "outputs": [
        {
          "output_type": "execute_result",
          "data": {
            "text/plain": [
              "{'Carlos': 1, 'Guilherme': 1, 'cachorro': 2, 'nome': 3, 'vindo': 1}"
            ]
          },
          "metadata": {},
          "execution_count": 11
        }
      ]
    },
    {
      "cell_type": "code",
      "source": [
        "apparitions[\"Carlos\"] = 2\n",
        "apparitions"
      ],
      "metadata": {
        "colab": {
          "base_uri": "https://localhost:8080/"
        },
        "id": "grSY4h6q12RX",
        "outputId": "5261528c-60a3-4442-c5c0-df00f3c73a07"
      },
      "execution_count": 12,
      "outputs": [
        {
          "output_type": "execute_result",
          "data": {
            "text/plain": [
              "{'Carlos': 2, 'Guilherme': 1, 'cachorro': 2, 'nome': 3, 'vindo': 1}"
            ]
          },
          "metadata": {},
          "execution_count": 12
        }
      ]
    },
    {
      "cell_type": "code",
      "source": [
        "del apparitions[\"Carlos\"]\n",
        "apparitions"
      ],
      "metadata": {
        "colab": {
          "base_uri": "https://localhost:8080/"
        },
        "id": "T4KXZLNT15s3",
        "outputId": "13b41a9c-f792-4d1a-ef74-b74be7fb37ee"
      },
      "execution_count": 13,
      "outputs": [
        {
          "output_type": "execute_result",
          "data": {
            "text/plain": [
              "{'Guilherme': 1, 'cachorro': 2, 'nome': 3, 'vindo': 1}"
            ]
          },
          "metadata": {},
          "execution_count": 13
        }
      ]
    },
    {
      "cell_type": "code",
      "source": [
        "\"cachorro\" in apparitions"
      ],
      "metadata": {
        "colab": {
          "base_uri": "https://localhost:8080/"
        },
        "id": "h-cKxy_m1-sQ",
        "outputId": "24d3ef73-1cca-463a-d122-23bb0d83ce46"
      },
      "execution_count": 14,
      "outputs": [
        {
          "output_type": "execute_result",
          "data": {
            "text/plain": [
              "True"
            ]
          },
          "metadata": {},
          "execution_count": 14
        }
      ]
    },
    {
      "cell_type": "code",
      "source": [
        "\"Carlos\" in apparitions"
      ],
      "metadata": {
        "colab": {
          "base_uri": "https://localhost:8080/"
        },
        "id": "ZPcMS6c02DxD",
        "outputId": "33804d16-bf88-42e7-eb7d-55033ce675c1"
      },
      "execution_count": 15,
      "outputs": [
        {
          "output_type": "execute_result",
          "data": {
            "text/plain": [
              "False"
            ]
          },
          "metadata": {},
          "execution_count": 15
        }
      ]
    },
    {
      "cell_type": "code",
      "source": [
        "for element in apparitions:\n",
        "  print(element)"
      ],
      "metadata": {
        "colab": {
          "base_uri": "https://localhost:8080/"
        },
        "id": "Zl7p7NRv2GWu",
        "outputId": "8fde5cdf-40de-46eb-844f-42bbb3398532"
      },
      "execution_count": 16,
      "outputs": [
        {
          "output_type": "stream",
          "name": "stdout",
          "text": [
            "Guilherme\n",
            "cachorro\n",
            "nome\n",
            "vindo\n"
          ]
        }
      ]
    },
    {
      "cell_type": "code",
      "source": [
        "for element in apparitions.values():\n",
        "  print(element)"
      ],
      "metadata": {
        "colab": {
          "base_uri": "https://localhost:8080/"
        },
        "id": "cv3ARvoc2Jxp",
        "outputId": "9b87ea2b-a00f-4c5f-99ac-28c230b3c20f"
      },
      "execution_count": 17,
      "outputs": [
        {
          "output_type": "stream",
          "name": "stdout",
          "text": [
            "1\n",
            "2\n",
            "3\n",
            "1\n"
          ]
        }
      ]
    },
    {
      "cell_type": "code",
      "source": [
        "1 in apparitions.values()"
      ],
      "metadata": {
        "colab": {
          "base_uri": "https://localhost:8080/"
        },
        "id": "ICM8XOTu2h7u",
        "outputId": "1b7a8da5-9c91-4f89-8635-6c036ed5daaf"
      },
      "execution_count": 18,
      "outputs": [
        {
          "output_type": "execute_result",
          "data": {
            "text/plain": [
              "True"
            ]
          },
          "metadata": {},
          "execution_count": 18
        }
      ]
    },
    {
      "cell_type": "code",
      "source": [
        "for element in apparitions.keys():\n",
        "  values = apparitions[element]\n",
        "  print(element, values)"
      ],
      "metadata": {
        "colab": {
          "base_uri": "https://localhost:8080/"
        },
        "id": "sX3ZlEBW2xNW",
        "outputId": "3a9ce6b1-e2aa-4be2-d8e7-a601019083f4"
      },
      "execution_count": 19,
      "outputs": [
        {
          "output_type": "stream",
          "name": "stdout",
          "text": [
            "Guilherme 1\n",
            "cachorro 2\n",
            "nome 3\n",
            "vindo 1\n"
          ]
        }
      ]
    },
    {
      "cell_type": "code",
      "source": [
        "for element in apparitions.items():\n",
        "  print(element)"
      ],
      "metadata": {
        "colab": {
          "base_uri": "https://localhost:8080/"
        },
        "id": "7jzLO3Bp24N1",
        "outputId": "66beed3b-8dbc-4f7f-9def-ca8d8d2cd931"
      },
      "execution_count": 20,
      "outputs": [
        {
          "output_type": "stream",
          "name": "stdout",
          "text": [
            "('Guilherme', 1)\n",
            "('cachorro', 2)\n",
            "('nome', 3)\n",
            "('vindo', 1)\n"
          ]
        }
      ]
    },
    {
      "cell_type": "code",
      "source": [
        "for key, values in apparitions.items():\n",
        "  print(key, \"=\", values)"
      ],
      "metadata": {
        "colab": {
          "base_uri": "https://localhost:8080/"
        },
        "id": "e2AnZOrD3Rkm",
        "outputId": "d474a194-1d3a-4389-ecf1-6c1640c0cfb4"
      },
      "execution_count": 21,
      "outputs": [
        {
          "output_type": "stream",
          "name": "stdout",
          "text": [
            "Guilherme = 1\n",
            "cachorro = 2\n",
            "nome = 3\n",
            "vindo = 1\n"
          ]
        }
      ]
    },
    {
      "cell_type": "code",
      "source": [
        "[f\"palavra {key}\" for key in apparitions.keys()]\n"
      ],
      "metadata": {
        "colab": {
          "base_uri": "https://localhost:8080/"
        },
        "id": "zBv5qY2v3wEK",
        "outputId": "3ea43a1e-3814-47a6-ebf4-6bea2009ad84"
      },
      "execution_count": 22,
      "outputs": [
        {
          "output_type": "execute_result",
          "data": {
            "text/plain": [
              "['palavra Guilherme', 'palavra cachorro', 'palavra nome', 'palavra vindo']"
            ]
          },
          "metadata": {},
          "execution_count": 22
        }
      ]
    },
    {
      "cell_type": "code",
      "source": [
        "my_text = \"Bem vindo meu nome é Apolo eu gosto muito de nomes e tenho o meu cachorro e gosto muito de cachorro\"\n",
        "my_text = my_text.lower()\n",
        "\n",
        "apparitions = {}\n",
        "\n",
        "for word in my_text.split():\n",
        "  so_far = apparitions.get(word, 0)\n",
        "  apparitions[word] = so_far +1\n",
        "\n",
        "apparitions"
      ],
      "metadata": {
        "colab": {
          "base_uri": "https://localhost:8080/"
        },
        "id": "RDfxG9wY4KPs",
        "outputId": "e5567e36-141e-4b55-e958-a17d2893196f"
      },
      "execution_count": 23,
      "outputs": [
        {
          "output_type": "execute_result",
          "data": {
            "text/plain": [
              "{'apolo': 1,\n",
              " 'bem': 1,\n",
              " 'cachorro': 2,\n",
              " 'de': 2,\n",
              " 'e': 2,\n",
              " 'eu': 1,\n",
              " 'gosto': 2,\n",
              " 'meu': 2,\n",
              " 'muito': 2,\n",
              " 'nome': 1,\n",
              " 'nomes': 1,\n",
              " 'o': 1,\n",
              " 'tenho': 1,\n",
              " 'vindo': 1,\n",
              " 'é': 1}"
            ]
          },
          "metadata": {},
          "execution_count": 23
        }
      ]
    },
    {
      "cell_type": "code",
      "source": [
        "from collections import defaultdict\n",
        "\n",
        "apparitions = defaultdict(int)\n",
        "\n",
        "for word in my_text.split():\n",
        "  apparitions[word] += 1\n",
        "\n",
        "apparitions"
      ],
      "metadata": {
        "colab": {
          "base_uri": "https://localhost:8080/"
        },
        "id": "L_U9XNrK5C9K",
        "outputId": "b1026229-ca97-48ef-d6e4-3ebe1d476db2"
      },
      "execution_count": 24,
      "outputs": [
        {
          "output_type": "execute_result",
          "data": {
            "text/plain": [
              "defaultdict(int,\n",
              "            {'apolo': 1,\n",
              "             'bem': 1,\n",
              "             'cachorro': 2,\n",
              "             'de': 2,\n",
              "             'e': 2,\n",
              "             'eu': 1,\n",
              "             'gosto': 2,\n",
              "             'meu': 2,\n",
              "             'muito': 2,\n",
              "             'nome': 1,\n",
              "             'nomes': 1,\n",
              "             'o': 1,\n",
              "             'tenho': 1,\n",
              "             'vindo': 1,\n",
              "             'é': 1})"
            ]
          },
          "metadata": {},
          "execution_count": 24
        }
      ]
    },
    {
      "cell_type": "code",
      "source": [
        "class accounts:\n",
        "  def __init(self):\n",
        "    print(\"Criando uma conta\")"
      ],
      "metadata": {
        "id": "Pwl_zKPA9J4p"
      },
      "execution_count": 25,
      "outputs": []
    },
    {
      "cell_type": "code",
      "source": [
        "accounts = defaultdict(accounts)\n",
        "accounts[15]"
      ],
      "metadata": {
        "colab": {
          "base_uri": "https://localhost:8080/"
        },
        "id": "1cgTNXu5AIHU",
        "outputId": "226c8e47-0913-433d-baa4-c9d21af046d9"
      },
      "execution_count": 26,
      "outputs": [
        {
          "output_type": "execute_result",
          "data": {
            "text/plain": [
              "<__main__.accounts at 0x7ff769c133d0>"
            ]
          },
          "metadata": {},
          "execution_count": 26
        }
      ]
    },
    {
      "cell_type": "code",
      "source": [
        "accounts[17]"
      ],
      "metadata": {
        "colab": {
          "base_uri": "https://localhost:8080/"
        },
        "id": "CDth6lKJAadB",
        "outputId": "61961298-c6db-4c45-bfc2-bfbf6eceb9de"
      },
      "execution_count": 27,
      "outputs": [
        {
          "output_type": "execute_result",
          "data": {
            "text/plain": [
              "<__main__.accounts at 0x7ff769c13b10>"
            ]
          },
          "metadata": {},
          "execution_count": 27
        }
      ]
    },
    {
      "cell_type": "code",
      "source": [
        "accounts[15]"
      ],
      "metadata": {
        "colab": {
          "base_uri": "https://localhost:8080/"
        },
        "id": "IstCgOfkAdsc",
        "outputId": "2fafdab7-14c5-400c-983e-d3da9b333606"
      },
      "execution_count": 28,
      "outputs": [
        {
          "output_type": "execute_result",
          "data": {
            "text/plain": [
              "<__main__.accounts at 0x7ff769c133d0>"
            ]
          },
          "metadata": {},
          "execution_count": 28
        }
      ]
    },
    {
      "cell_type": "code",
      "source": [
        "from collections import Counter\n",
        "\n",
        "apparitions = Counter()\n",
        "\n",
        "for word in my_text.split():\n",
        "  apparitions[word] += 1\n",
        "\n",
        "apparitions"
      ],
      "metadata": {
        "colab": {
          "base_uri": "https://localhost:8080/"
        },
        "id": "K1tiFxaPAfcQ",
        "outputId": "b75f140b-ca11-4e61-c10f-7dc41094caef"
      },
      "execution_count": 29,
      "outputs": [
        {
          "output_type": "execute_result",
          "data": {
            "text/plain": [
              "Counter({'apolo': 1,\n",
              "         'bem': 1,\n",
              "         'cachorro': 2,\n",
              "         'de': 2,\n",
              "         'e': 2,\n",
              "         'eu': 1,\n",
              "         'gosto': 2,\n",
              "         'meu': 2,\n",
              "         'muito': 2,\n",
              "         'nome': 1,\n",
              "         'nomes': 1,\n",
              "         'o': 1,\n",
              "         'tenho': 1,\n",
              "         'vindo': 1,\n",
              "         'é': 1})"
            ]
          },
          "metadata": {},
          "execution_count": 29
        }
      ]
    },
    {
      "cell_type": "code",
      "source": [
        "apparitions = Counter(my_text.split())\n",
        "\n",
        "apparitions"
      ],
      "metadata": {
        "colab": {
          "base_uri": "https://localhost:8080/"
        },
        "id": "RVQ8cc0lA6Mh",
        "outputId": "fa0dbc08-ee32-4077-9d17-5238eed03b4f"
      },
      "execution_count": 30,
      "outputs": [
        {
          "output_type": "execute_result",
          "data": {
            "text/plain": [
              "Counter({'apolo': 1,\n",
              "         'bem': 1,\n",
              "         'cachorro': 2,\n",
              "         'de': 2,\n",
              "         'e': 2,\n",
              "         'eu': 1,\n",
              "         'gosto': 2,\n",
              "         'meu': 2,\n",
              "         'muito': 2,\n",
              "         'nome': 1,\n",
              "         'nomes': 1,\n",
              "         'o': 1,\n",
              "         'tenho': 1,\n",
              "         'vindo': 1,\n",
              "         'é': 1})"
            ]
          },
          "metadata": {},
          "execution_count": 30
        }
      ]
    },
    {
      "cell_type": "markdown",
      "source": [
        "# Testando o uso de diversas coleções"
      ],
      "metadata": {
        "id": "EFHEOkmxCnwe"
      }
    },
    {
      "cell_type": "code",
      "source": [
        "text1 = \"Não se engane: as ferramentas são apenas ferramentas. O que traz resultado é saber fazer as perguntas certas. Aprenda Data Science com estudos de casos aplicados ao mundo real, da saúde à administração.\"\n",
        "\n",
        "text2 = \"Nós conhecemos a realidade de tecnologias consagradas e vivemos as novas tendências todos os dias. Nosso time de instrutores é apaixonado por tecnologia e continua aprendendo sempre. Com conhecimentos plurais, eles estão por trás dos principais produtos digitais do país.\""
      ],
      "metadata": {
        "id": "xk2eDXR9BF4t"
      },
      "execution_count": 1,
      "outputs": []
    },
    {
      "cell_type": "code",
      "source": [
        "def analyze_letter_frequency(phrase):\n",
        "  apparations = Counter(phrase.lower())\n",
        "  total_characters = sum(apparations.values())\n",
        "\n",
        "  proportions = [(word, frequent / total_characters) for word, frequent in apparations.items()]\n",
        "  proportions = Counter(dict(proportions))\n",
        "  more_common = proportions.most_common(10)\n",
        "  for character, proportion in more_common:\n",
        "    print(f\"{character} => {100*proportion:.2f}%\")\n",
        "\n"
      ],
      "metadata": {
        "id": "H9JbJAGVDzEL"
      },
      "execution_count": 49,
      "outputs": []
    },
    {
      "cell_type": "code",
      "source": [
        "analyze_letter_frequency(text1)"
      ],
      "metadata": {
        "colab": {
          "base_uri": "https://localhost:8080/"
        },
        "id": "5SrX2GnATRQj",
        "outputId": "bfd9cd70-71e8-4f94-a71c-85e9dcd073fc"
      },
      "execution_count": 50,
      "outputs": [
        {
          "output_type": "stream",
          "name": "stdout",
          "text": [
            "  => 15.84%\n",
            "a => 13.86%\n",
            "e => 10.40%\n",
            "s => 9.41%\n",
            "r => 6.44%\n",
            "n => 5.45%\n",
            "o => 5.45%\n",
            "d => 4.95%\n",
            "t => 4.46%\n",
            "c => 2.97%\n"
          ]
        }
      ]
    },
    {
      "cell_type": "code",
      "source": [
        "analyze_letter_frequency(text2)"
      ],
      "metadata": {
        "colab": {
          "base_uri": "https://localhost:8080/"
        },
        "id": "ktICnNM5WlDA",
        "outputId": "139b2df2-4099-406d-c259-71084c194a60"
      },
      "execution_count": 51,
      "outputs": [
        {
          "output_type": "stream",
          "name": "stdout",
          "text": [
            "  => 14.39%\n",
            "o => 10.70%\n",
            "s => 9.96%\n",
            "e => 8.49%\n",
            "a => 7.75%\n",
            "n => 6.64%\n",
            "i => 6.64%\n",
            "d => 5.54%\n",
            "t => 4.80%\n",
            "r => 4.43%\n"
          ]
        }
      ]
    },
    {
      "cell_type": "code",
      "source": [
        ""
      ],
      "metadata": {
        "id": "cgB1e1cEXgSS"
      },
      "execution_count": null,
      "outputs": []
    }
  ]
}