{
 "cells": [
  {
   "cell_type": "code",
   "execution_count": 1,
   "metadata": {
    "collapsed": true,
    "pycharm": {
     "name": "#%%\n"
    }
   },
   "outputs": [
    {
     "name": "stdout",
     "output_type": "stream",
     "text": [
      "(1, 2, 3, 4, 5, 6, 7)\n",
      "<class 'tuple'>\n"
     ]
    }
   ],
   "source": [
    "# Tupes -> Sao uma sequência ordenada, onde sao expressadas como elementos separados por vírgula entre parentes.\n",
    "# Também são imutaveis, significando que não podemos mudalas depois de serem criadas.\n",
    "\n",
    "t = (1, 2, 3, 4, 5, 6, 7)\n",
    "print(t)\n",
    "print(type(t))\n"
   ]
  },
  {
   "cell_type": "code",
   "execution_count": 2,
   "outputs": [
    {
     "name": "stdout",
     "output_type": "stream",
     "text": [
      "['Michael Jackson', 10.1, 1985]\n",
      "<class 'list'>\n"
     ]
    }
   ],
   "source": [
    "# Lists -> são uma sequeência ordenada, onde a mesma é representada por colchetes.\n",
    "# List diferente das tuples, são mútaveis, assim dando a possibilidade de alteração.\n",
    "\n",
    "l = ['Michael Jackson', 10.1, 1985]\n",
    "print(l)\n",
    "print(type(l))\n"
   ],
   "metadata": {
    "collapsed": false,
    "pycharm": {
     "name": "#%%\n"
    }
   }
  },
  {
   "cell_type": "code",
   "execution_count": 3,
   "outputs": [
    {
     "name": "stdout",
     "output_type": "stream",
     "text": [
      "['Michael Jackson', 10.1, 1985, 'pop', 10]\n"
     ]
    }
   ],
   "source": [
    "l.extend([\"pop\", 10])\n",
    "print(l)\n"
   ],
   "metadata": {
    "collapsed": false,
    "pycharm": {
     "name": "#%%\n"
    }
   }
  },
  {
   "cell_type": "code",
   "execution_count": 4,
   "outputs": [
    {
     "name": "stdout",
     "output_type": "stream",
     "text": [
      "['Michael Jackson', 10.1, 1985, 'pop', 10, ['opo', 0.1]]\n"
     ]
    }
   ],
   "source": [
    "l.append([\"opo\", 0.1])\n",
    "print(l)\n"
   ],
   "metadata": {
    "collapsed": false,
    "pycharm": {
     "name": "#%%\n"
    }
   }
  },
  {
   "cell_type": "code",
   "execution_count": 5,
   "outputs": [
    {
     "name": "stdout",
     "output_type": "stream",
     "text": [
      "[10.1, 1985, 'pop', 10, ['opo', 0.1]]\n"
     ]
    }
   ],
   "source": [
    "del(l[0])\n",
    "print(l)\n"
   ],
   "metadata": {
    "collapsed": false,
    "pycharm": {
     "name": "#%%\n"
    }
   }
  },
  {
   "cell_type": "code",
   "execution_count": 6,
   "outputs": [
    {
     "name": "stdout",
     "output_type": "stream",
     "text": [
      "{'soul', 'hard rock', 'R&B', 'pop', 'rock', 'disco'}\n"
     ]
    },
    {
     "data": {
      "text/plain": "set"
     },
     "execution_count": 6,
     "metadata": {},
     "output_type": "execute_result"
    }
   ],
   "source": [
    "# Conjunto -> Nao são ordenados, só pode-se guardar um tipo de elemento dentro de um conjunto.\n",
    "# São criado por colchetes e após a criação do mesmo os itens duplicados não ficam presentes.\n",
    "\n",
    "c = {\"pop\", \"rock\", \"soul\", \"hard rock\", \"R&B\", \"rock\", \"disco\"}\n",
    "print(c)\n",
    "type(c)\n"
   ],
   "metadata": {
    "collapsed": false,
    "pycharm": {
     "name": "#%%\n"
    }
   }
  },
  {
   "cell_type": "code",
   "execution_count": 7,
   "outputs": [
    {
     "name": "stdout",
     "output_type": "stream",
     "text": [
      "{'Back in Black', 'AC/DC', 'NSYNC'}\n",
      "{'Back in Black', 'AC/DC', 'Thriller', 'NSYNC'}\n",
      "{'Back in Black', 'AC/DC', 'Thriller'}\n"
     ]
    }
   ],
   "source": [
    "a = {\"AC/DC\", \"Back in Black\", \"NSYNC\"}\n",
    "print(a)\n",
    "\n",
    "a.add(\"Thriller\")\n",
    "print(a)\n",
    "\n",
    "a.remove(\"NSYNC\")\n",
    "print(a)\n"
   ],
   "metadata": {
    "collapsed": false,
    "pycharm": {
     "name": "#%%\n"
    }
   }
  },
  {
   "cell_type": "code",
   "execution_count": 8,
   "outputs": [
    {
     "data": {
      "text/plain": "True"
     },
     "execution_count": 8,
     "metadata": {},
     "output_type": "execute_result"
    }
   ],
   "source": [
    "\"AC/DC\" in a\n"
   ],
   "metadata": {
    "collapsed": false,
    "pycharm": {
     "name": "#%%\n"
    }
   }
  },
  {
   "cell_type": "code",
   "execution_count": 9,
   "outputs": [
    {
     "name": "stdout",
     "output_type": "stream",
     "text": [
      "{'Thriller': 1982, 'Back in Black': 1980, 'The Dark Side of the Moon': 1973, 'The Bodyguard': 1992}\n",
      "<class 'dict'>\n"
     ]
    }
   ],
   "source": [
    "# Dicionários -> Possui chaves e valores, onde a chave é ánaloga ao indice, eles são como parte de um endereço.\n",
    "# para os mesmos utilizamos colchetes e a separaçaoo de chave e valores por dois pontos.\n",
    "# Valores são imútaveis e podem ser duplicados\n",
    "\n",
    "band = {\"Thriller\": 1982, \"Back in Black\": 1980, \"The Dark Side of the Moon\": 1973, \"The Bodyguard\": 1992}\n",
    "print(band)\n",
    "print(type(band))\n"
   ],
   "metadata": {
    "collapsed": false,
    "pycharm": {
     "name": "#%%\n"
    }
   }
  },
  {
   "cell_type": "code",
   "execution_count": 10,
   "outputs": [
    {
     "name": "stdout",
     "output_type": "stream",
     "text": [
      "dict_values([1982, 1980, 1973, 1992])\n",
      "dict_keys(['Thriller', 'Back in Black', 'The Dark Side of the Moon', 'The Bodyguard'])\n"
     ]
    }
   ],
   "source": [
    "print(band.values())\n",
    "print(band.keys())\n"
   ],
   "metadata": {
    "collapsed": false,
    "pycharm": {
     "name": "#%%\n"
    }
   }
  },
  {
   "cell_type": "code",
   "execution_count": null,
   "outputs": [],
   "source": [],
   "metadata": {
    "collapsed": false,
    "pycharm": {
     "name": "#%%\n"
    }
   }
  }
 ],
 "metadata": {
  "kernelspec": {
   "display_name": "Python 3",
   "language": "python",
   "name": "python3"
  },
  "language_info": {
   "codemirror_mode": {
    "name": "ipython",
    "version": 2
   },
   "file_extension": ".py",
   "mimetype": "text/x-python",
   "name": "python",
   "nbconvert_exporter": "python",
   "pygments_lexer": "ipython2",
   "version": "2.7.6"
  }
 },
 "nbformat": 4,
 "nbformat_minor": 0
}