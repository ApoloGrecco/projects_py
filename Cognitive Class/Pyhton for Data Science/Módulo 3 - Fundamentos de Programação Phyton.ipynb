{
 "cells": [
  {
   "cell_type": "code",
   "execution_count": 1,
   "metadata": {
    "collapsed": true
   },
   "outputs": [
    {
     "name": "stdout",
     "output_type": "stream",
     "text": [
      "move on\n"
     ]
    }
   ],
   "source": [
    "age = 17\n",
    "\n",
    "if age > 18:\n",
    "    print(\"you can enter\")\n",
    "print(\"move on\")\n"
   ]
  },
  {
   "cell_type": "code",
   "execution_count": 2,
   "outputs": [
    {
     "name": "stdout",
     "output_type": "stream",
     "text": [
      "you can enter\n",
      "move on\n"
     ]
    }
   ],
   "source": [
    "age = 22\n",
    "\n",
    "if age > 18:\n",
    "    print(\"you can enter\")\n",
    "print(\"move on\")\n"
   ],
   "metadata": {
    "collapsed": false
   }
  },
  {
   "cell_type": "code",
   "execution_count": 3,
   "outputs": [
    {
     "name": "stdout",
     "output_type": "stream",
     "text": [
      "Go see Meat Loaf\n",
      "Move on\n"
     ]
    }
   ],
   "source": [
    "age = 17\n",
    "\n",
    "if age > 18:\n",
    "    print(\"You can enter\")\n",
    "else:\n",
    "    print(\"Go see Meat Loaf\")\n",
    "\n",
    "print(\"Move on\")\n"
   ],
   "metadata": {
    "collapsed": false
   }
  },
  {
   "cell_type": "code",
   "execution_count": 4,
   "outputs": [
    {
     "name": "stdout",
     "output_type": "stream",
     "text": [
      "go see Pink Floyd\n",
      "move on\n"
     ]
    }
   ],
   "source": [
    "age = 18\n",
    "\n",
    "if age > 18:\n",
    "    print(\"you can enter\")\n",
    "elif age == 18:\n",
    "    print(\"go see Pink Floyd\")\n",
    "else:\n",
    "    print(\"go see Meat Loaf\")\n",
    "\n",
    "print(\"move on\")\n"
   ],
   "metadata": {
    "collapsed": false
   }
  },
  {
   "cell_type": "code",
   "execution_count": 5,
   "outputs": [
    {
     "name": "stdout",
     "output_type": "stream",
     "text": [
      "The Album was made in the 70's or 90's\n"
     ]
    }
   ],
   "source": [
    "album_year = 1990\n",
    "\n",
    "if (album_year < 1980) or (album_year > 1989):\n",
    "    print(\"The Album was made in the 70's or 90's\")\n",
    "else:\n",
    "    print(\"The Album was made in the 1980's\")\n"
   ],
   "metadata": {
    "collapsed": false
   }
  },
  {
   "cell_type": "code",
   "execution_count": 6,
   "outputs": [
    {
     "name": "stdout",
     "output_type": "stream",
     "text": [
      "The Album was made in the 80's\n"
     ]
    }
   ],
   "source": [
    "album_year = 1983\n",
    "\n",
    "if (album_year > 1979) and (album_year < 1990):\n",
    "    print(\"The Album was made in the 80's\")\n"
   ],
   "metadata": {
    "collapsed": false
   }
  },
  {
   "cell_type": "code",
   "execution_count": 7,
   "outputs": [
    {
     "name": "stdout",
     "output_type": "stream",
     "text": [
      "['red', 'yellow', 'green', 'purple', 'blue']\n",
      "['while', 'while', 'while', 'while', 'while']\n"
     ]
    }
   ],
   "source": [
    "squares = ['red', 'yellow', 'green', 'purple', 'blue']\n",
    "\n",
    "print(squares)\n",
    "\n",
    "for i in range(0,5):\n",
    "    squares[i] = 'while'\n",
    "\n",
    "print(squares)\n"
   ],
   "metadata": {
    "collapsed": false
   }
  },
  {
   "cell_type": "code",
   "execution_count": 8,
   "outputs": [
    {
     "name": "stdout",
     "output_type": "stream",
     "text": [
      "red\n",
      "yellow\n",
      "green\n"
     ]
    }
   ],
   "source": [
    "squares = ['red', 'yellow', 'green']\n",
    "\n",
    "for square in squares:\n",
    "    print(square)\n"
   ],
   "metadata": {
    "collapsed": false
   }
  },
  {
   "cell_type": "code",
   "execution_count": 9,
   "outputs": [
    {
     "name": "stdout",
     "output_type": "stream",
     "text": [
      "red\n",
      "0\n",
      "yellow\n",
      "1\n",
      "green\n",
      "2\n"
     ]
    }
   ],
   "source": [
    "squares = ['red', 'yellow', 'green']\n",
    "\n",
    "for i, square in enumerate(squares):\n",
    "    print(square)\n",
    "    print(i)\n"
   ],
   "metadata": {
    "collapsed": false
   }
  },
  {
   "cell_type": "code",
   "execution_count": 10,
   "outputs": [
    {
     "name": "stdout",
     "output_type": "stream",
     "text": [
      "['orange', 'orange', 'orange']\n"
     ]
    }
   ],
   "source": [
    "squares = ['orange', 'orange', 'orange', 'purple', 'orange', 'blue']\n",
    "\n",
    "new_squares = []\n",
    "\n",
    "i = 0\n",
    "\n",
    "while(squares[i]=='orange'):\n",
    "\n",
    "    new_squares.append(squares[i])\n",
    "\n",
    "    i = i+1\n",
    "\n",
    "print(new_squares)\n"
   ],
   "metadata": {
    "collapsed": false
   }
  },
  {
   "cell_type": "code",
   "execution_count": 11,
   "outputs": [
    {
     "name": "stdout",
     "output_type": "stream",
     "text": [
      "6\n",
      "11\n"
     ]
    }
   ],
   "source": [
    "def add1(a):\n",
    "    b=a+1\n",
    "    return b\n",
    "\n",
    "print(add1(5))\n",
    "\n",
    "c = add1(10)\n",
    "print(c)\n",
    "\n"
   ],
   "metadata": {
    "collapsed": false
   }
  },
  {
   "cell_type": "code",
   "execution_count": 12,
   "outputs": [
    {
     "name": "stdout",
     "output_type": "stream",
     "text": [
      "6\n",
      "31.400000000000002\n",
      "Michael JacksonMichael Jackson\n"
     ]
    }
   ],
   "source": [
    "def mult(a,b):\n",
    "    c = a*b\n",
    "    return c\n",
    "\n",
    "print(mult(2,3))\n",
    "print(mult(10,3.14))\n",
    "print(mult(2, 'Michael Jackson'))\n"
   ],
   "metadata": {
    "collapsed": false
   }
  },
  {
   "cell_type": "code",
   "execution_count": 13,
   "outputs": [
    {
     "name": "stdout",
     "output_type": "stream",
     "text": [
      "Michael Jackson\n",
      "None\n"
     ]
    }
   ],
   "source": [
    "def MJ():\n",
    "    print(\"Michael Jackson\")\n",
    "\n",
    "print(MJ())\n"
   ],
   "metadata": {
    "collapsed": false
   }
  },
  {
   "cell_type": "code",
   "execution_count": 14,
   "outputs": [
    {
     "name": "stdout",
     "output_type": "stream",
     "text": [
      "None\n"
     ]
    }
   ],
   "source": [
    "def NoWork():\n",
    "    pass\n",
    "\n",
    "print(NoWork())\n"
   ],
   "metadata": {
    "collapsed": false
   }
  },
  {
   "cell_type": "code",
   "execution_count": 15,
   "outputs": [
    {
     "name": "stdout",
     "output_type": "stream",
     "text": [
      "2 plus 1 equals  3\n",
      "3\n"
     ]
    }
   ],
   "source": [
    "def add1(a):\n",
    "\n",
    "    b=a+1\n",
    "\n",
    "    print(a, \"plus 1 equals \", b)\n",
    "\n",
    "    return b\n",
    "\n",
    "print(add1(2))\n"
   ],
   "metadata": {
    "collapsed": false
   }
  },
  {
   "cell_type": "code",
   "execution_count": 16,
   "outputs": [
    {
     "name": "stdout",
     "output_type": "stream",
     "text": [
      "Album 0 Rating is  10.0\n",
      "Album 1 Rating is  8.5\n",
      "Album 2 Rating is  9.5\n",
      "None\n"
     ]
    }
   ],
   "source": [
    "def PrintStuff(Stuff):\n",
    "    for i,s in enumerate(Stuff):\n",
    "        print(\"Album\", i,\"Rating is \", s)\n",
    "\n",
    "album_rating = [10.0, 8.5, 9.5]\n",
    "\n",
    "print(PrintStuff(album_rating))\n"
   ],
   "metadata": {
    "collapsed": false
   }
  },
  {
   "cell_type": "code",
   "execution_count": 17,
   "outputs": [
    {
     "name": "stdout",
     "output_type": "stream",
     "text": [
      "Michael Jackson\n",
      "AC/DC\n",
      "Pink Floyd\n"
     ]
    }
   ],
   "source": [
    "def ArtistNames(*names):\n",
    "    for name in names:\n",
    "        print(name)\n",
    "\n",
    "ArtistNames(\"Michael Jackson\", \"AC/DC\", \"Pink Floyd\")\n"
   ],
   "metadata": {
    "collapsed": false
   }
  },
  {
   "cell_type": "code",
   "execution_count": 18,
   "outputs": [
    {
     "name": "stdout",
     "output_type": "stream",
     "text": [
      "ACDC\n"
     ]
    }
   ],
   "source": [
    "def addDC(y):\n",
    "    x=y+\"DC\"\n",
    "    print(x)\n",
    "    return x\n",
    "\n",
    "x=\"AC\"\n",
    "z=addDC(x)\n"
   ],
   "metadata": {
    "collapsed": false
   }
  },
  {
   "cell_type": "code",
   "execution_count": 19,
   "outputs": [
    {
     "name": "stdout",
     "output_type": "stream",
     "text": [
      "2017\n"
     ]
    }
   ],
   "source": [
    "def Thriller():\n",
    "    date = 1982\n",
    "    return date\n",
    "\n",
    "date = 2017\n",
    "Thriller()\n",
    "print(date)\n"
   ],
   "metadata": {
    "collapsed": false
   }
  },
  {
   "cell_type": "code",
   "execution_count": 20,
   "outputs": [
    {
     "name": "stdout",
     "output_type": "stream",
     "text": [
      "9\n",
      "9\n"
     ]
    }
   ],
   "source": [
    "def ACDC(y):\n",
    "    print(rating)\n",
    "    return (rating + y)\n",
    "\n",
    "rating = 9\n",
    "\n",
    "z=ACDC(1)\n",
    "\n",
    "print(rating)\n"
   ],
   "metadata": {
    "collapsed": false
   }
  },
  {
   "cell_type": "code",
   "execution_count": 21,
   "outputs": [
    {
     "name": "stdout",
     "output_type": "stream",
     "text": [
      "45 million\n"
     ]
    }
   ],
   "source": [
    "def PinkFloyd():\n",
    "    global ClaimedSales\n",
    "    ClaimedSales= '45 million'\n",
    "    return ClaimedSales\n",
    "\n",
    "PinkFloyd()\n",
    "print(ClaimedSales)\n"
   ],
   "metadata": {
    "collapsed": false
   }
  },
  {
   "cell_type": "code",
   "execution_count": 22,
   "outputs": [
    {
     "name": "stdout",
     "output_type": "stream",
     "text": [
      "10\n",
      "20\n",
      "red\n"
     ]
    }
   ],
   "source": [
    "class Circle(object):\n",
    "    def __int__(self, radius, color):\n",
    "        self.radius = radius\n",
    "        self.color = color\n",
    "\n",
    "    def add_radius(self, r):\n",
    "        self.radius = self.radius + r\n",
    "        return self.radius\n",
    "\n",
    "\n",
    "c1 = Circle()\n",
    "\n",
    "c1.radius = 10\n",
    "print(c1.radius)\n",
    "\n",
    "c1.add_radius(10)\n",
    "print(c1.radius)\n",
    "\n",
    "c1.color = \"red\"\n",
    "print(c1.color)\n"
   ],
   "metadata": {
    "collapsed": false
   }
  },
  {
   "cell_type": "code",
   "execution_count": 22,
   "outputs": [],
   "source": [],
   "metadata": {
    "collapsed": false
   }
  }
 ],
 "metadata": {
  "kernelspec": {
   "display_name": "Python 3",
   "language": "python",
   "name": "python3"
  },
  "language_info": {
   "codemirror_mode": {
    "name": "ipython",
    "version": 2
   },
   "file_extension": ".py",
   "mimetype": "text/x-python",
   "name": "python",
   "nbconvert_exporter": "python",
   "pygments_lexer": "ipython2",
   "version": "2.7.6"
  }
 },
 "nbformat": 4,
 "nbformat_minor": 0
}
