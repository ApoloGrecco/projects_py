{
 "cells": [
  {
   "cell_type": "code",
   "execution_count": 1,
   "metadata": {
    "collapsed": true
   },
   "outputs": [],
   "source": [
    "# a.open() -> Faz a abertura de arquivos para o Python\n",
    "# a.name() -> Vem como resultado o caminho do arquivo e o seu nome.\n",
    "# a.mode() -> Vamos ter como resultado o modo/tipo de dado que esta vindo ou sendo usaod.\n",
    "# a.close() -> Fecha o arquivo assim parando a sua edição/leitura.\n",
    "# a.readline() -> leitura da linha do arquivo\n",
    "# a.write() -> Funçao para escrever no arquivo selecionado\n",
    "\n",
    "# PANDAS\n",
    "# read_csv() -> importa um arquivo CSV\n",
    "# a.DataFrame() -> transforma o arquivo em um Data Frame.\n",
    "# a.unique() -> Traz somente dados unicos, assim tirando os repetidos.\n",
    "# a.to_csv() -> Salva o Data Frame do Pandas em um arquivo CSV.\n"
   ]
  },
  {
   "cell_type": "code",
   "execution_count": null,
   "outputs": [],
   "source": [],
   "metadata": {
    "collapsed": false
   }
  }
 ],
 "metadata": {
  "kernelspec": {
   "display_name": "Python 3",
   "language": "python",
   "name": "python3"
  },
  "language_info": {
   "codemirror_mode": {
    "name": "ipython",
    "version": 2
   },
   "file_extension": ".py",
   "mimetype": "text/x-python",
   "name": "python",
   "nbconvert_exporter": "python",
   "pygments_lexer": "ipython2",
   "version": "2.7.6"
  }
 },
 "nbformat": 4,
 "nbformat_minor": 0
}
