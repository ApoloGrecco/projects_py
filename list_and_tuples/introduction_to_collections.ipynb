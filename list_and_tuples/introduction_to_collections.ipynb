{
  "nbformat": 4,
  "nbformat_minor": 0,
  "metadata": {
    "colab": {
      "name": "introduction_to_collections.ipynb",
      "provenance": [],
      "authorship_tag": "ABX9TyMuIJpKrJTUF3LVG2EcEOLi",
      "include_colab_link": true
    },
    "kernelspec": {
      "name": "python3",
      "display_name": "Python 3"
    },
    "language_info": {
      "name": "python"
    }
  },
  "cells": [
    {
      "cell_type": "markdown",
      "metadata": {
        "id": "view-in-github",
        "colab_type": "text"
      },
      "source": [
        "<a href=\"https://colab.research.google.com/github/ApoloGrecco/projects_py/blob/main/list_and_tuples/introduction_to_collections.ipynb\" target=\"_parent\"><img src=\"https://colab.research.google.com/assets/colab-badge.svg\" alt=\"Open In Colab\"/></a>"
      ]
    },
    {
      "cell_type": "code",
      "execution_count": 2,
      "metadata": {
        "id": "M2vdRiEzpiM-"
      },
      "outputs": [],
      "source": [
        "ages1 = 39\n",
        "ages2 = 30\n",
        "ages3 = 27\n",
        "ages4 = 18"
      ]
    },
    {
      "cell_type": "code",
      "source": [
        "print(ages1)\n",
        "print(ages2)\n",
        "print(ages3)\n",
        "print(ages4)"
      ],
      "metadata": {
        "colab": {
          "base_uri": "https://localhost:8080/"
        },
        "id": "IOfoZ4H3qCDB",
        "outputId": "c6023251-9b44-456a-d9cd-fa2de71612e1"
      },
      "execution_count": 3,
      "outputs": [
        {
          "output_type": "stream",
          "name": "stdout",
          "text": [
            "39\n",
            "30\n",
            "27\n",
            "18\n"
          ]
        }
      ]
    },
    {
      "cell_type": "code",
      "source": [
        "ages = [39, 30, 27, 18]"
      ],
      "metadata": {
        "id": "SGroRfzmqOQ1"
      },
      "execution_count": 4,
      "outputs": []
    },
    {
      "cell_type": "code",
      "source": [
        "print(type(ages))\n",
        "print(len(ages))\n",
        "print(ages[0])\n",
        "print(ages[1])\n",
        "print(ages[2])\n",
        "print(ages[3])"
      ],
      "metadata": {
        "colab": {
          "base_uri": "https://localhost:8080/"
        },
        "id": "tB4E3nbLqRkL",
        "outputId": "aff8b5d8-368a-4a0d-b83e-e5cd4f444671"
      },
      "execution_count": 5,
      "outputs": [
        {
          "output_type": "stream",
          "name": "stdout",
          "text": [
            "<class 'list'>\n",
            "4\n",
            "39\n",
            "30\n",
            "27\n",
            "18\n"
          ]
        }
      ]
    },
    {
      "cell_type": "code",
      "source": [
        "ages.append(15)\n",
        "print(ages)\n"
      ],
      "metadata": {
        "colab": {
          "base_uri": "https://localhost:8080/"
        },
        "id": "biy5JSSnqVKJ",
        "outputId": "9f53e0e7-e0d6-44cc-9ee2-f43442d625ce"
      },
      "execution_count": 6,
      "outputs": [
        {
          "output_type": "stream",
          "name": "stdout",
          "text": [
            "[39, 30, 27, 18, 15]\n"
          ]
        }
      ]
    },
    {
      "cell_type": "code",
      "source": [
        "print(ages[4])"
      ],
      "metadata": {
        "colab": {
          "base_uri": "https://localhost:8080/"
        },
        "id": "YGyT5qnlqYRQ",
        "outputId": "c3fcb6bc-4cde-4724-d768-e6c0b62089af"
      },
      "execution_count": 7,
      "outputs": [
        {
          "output_type": "stream",
          "name": "stdout",
          "text": [
            "15\n"
          ]
        }
      ]
    },
    {
      "cell_type": "code",
      "source": [
        "for age in ages:\n",
        "    print(age)"
      ],
      "metadata": {
        "colab": {
          "base_uri": "https://localhost:8080/"
        },
        "id": "d0GdjnYPqbI4",
        "outputId": "a19027d9-0412-4291-dc5b-6c120f139732"
      },
      "execution_count": 8,
      "outputs": [
        {
          "output_type": "stream",
          "name": "stdout",
          "text": [
            "39\n",
            "30\n",
            "27\n",
            "18\n",
            "15\n"
          ]
        }
      ]
    },
    {
      "cell_type": "code",
      "source": [
        "ages.remove(30)\n",
        "print(ages)"
      ],
      "metadata": {
        "colab": {
          "base_uri": "https://localhost:8080/"
        },
        "id": "nA9IS7WJqcow",
        "outputId": "efbba35e-0ca0-4d9b-b20e-e6380e913ec3"
      },
      "execution_count": 9,
      "outputs": [
        {
          "output_type": "stream",
          "name": "stdout",
          "text": [
            "[39, 27, 18, 15]\n"
          ]
        }
      ]
    },
    {
      "cell_type": "code",
      "source": [
        "ages.append(15)\n",
        "print(ages)\n",
        "ages.remove(15)\n",
        "print(ages)"
      ],
      "metadata": {
        "colab": {
          "base_uri": "https://localhost:8080/"
        },
        "id": "DiLgsLHEqfS6",
        "outputId": "f3e7cbe4-9562-4383-a35a-0da09534911a"
      },
      "execution_count": 10,
      "outputs": [
        {
          "output_type": "stream",
          "name": "stdout",
          "text": [
            "[39, 27, 18, 15, 15]\n",
            "[39, 27, 18, 15]\n"
          ]
        }
      ]
    },
    {
      "cell_type": "code",
      "source": [
        "ages.append(27)\n",
        "ages.remove(27)\n",
        "print(ages)"
      ],
      "metadata": {
        "colab": {
          "base_uri": "https://localhost:8080/"
        },
        "id": "qjticc21qj6s",
        "outputId": "ad57d0eb-cdc7-430a-b050-284d73b2ad8c"
      },
      "execution_count": 11,
      "outputs": [
        {
          "output_type": "stream",
          "name": "stdout",
          "text": [
            "[39, 18, 15, 27]\n"
          ]
        }
      ]
    },
    {
      "cell_type": "code",
      "source": [
        "ages.clear()\n",
        "print(ages)"
      ],
      "metadata": {
        "colab": {
          "base_uri": "https://localhost:8080/"
        },
        "id": "2Wx8SkPnqm0I",
        "outputId": "91c965b1-c54e-4b00-87d7-28d05cd75e0d"
      },
      "execution_count": 12,
      "outputs": [
        {
          "output_type": "stream",
          "name": "stdout",
          "text": [
            "[]\n"
          ]
        }
      ]
    },
    {
      "cell_type": "code",
      "source": [
        "ages = [39, 18, 15, 27]"
      ],
      "metadata": {
        "id": "hcN0a4eSqo-K"
      },
      "execution_count": 13,
      "outputs": []
    },
    {
      "cell_type": "code",
      "source": [
        "print(28 in ages)\n",
        "print(15 in ages)"
      ],
      "metadata": {
        "colab": {
          "base_uri": "https://localhost:8080/"
        },
        "id": "T8wfZUOcqrsv",
        "outputId": "4a10adf5-4729-4abf-b4b9-3e432720bd84"
      },
      "execution_count": 14,
      "outputs": [
        {
          "output_type": "stream",
          "name": "stdout",
          "text": [
            "False\n",
            "True\n"
          ]
        }
      ]
    },
    {
      "cell_type": "code",
      "source": [
        "if 15 in ages:\n",
        "    ages.remove(15)"
      ],
      "metadata": {
        "id": "sH4hzS8UquRk"
      },
      "execution_count": 15,
      "outputs": []
    },
    {
      "cell_type": "code",
      "source": [
        "print(ages)"
      ],
      "metadata": {
        "colab": {
          "base_uri": "https://localhost:8080/"
        },
        "id": "D26juNzwqwYL",
        "outputId": "45a30fd1-f6fa-4057-8b78-7b9179a5faa5"
      },
      "execution_count": 16,
      "outputs": [
        {
          "output_type": "stream",
          "name": "stdout",
          "text": [
            "[39, 18, 27]\n"
          ]
        }
      ]
    },
    {
      "cell_type": "code",
      "source": [
        "if 28 in ages:\n",
        "    ages.remove(28)"
      ],
      "metadata": {
        "id": "12SzG323qy9s"
      },
      "execution_count": 17,
      "outputs": []
    },
    {
      "cell_type": "code",
      "source": [
        "ages.append(19)\n",
        "print(ages)"
      ],
      "metadata": {
        "colab": {
          "base_uri": "https://localhost:8080/"
        },
        "id": "0SUeLDbXq07f",
        "outputId": "c3db9063-8edd-4668-d80d-c8e9d37e41e7"
      },
      "execution_count": 18,
      "outputs": [
        {
          "output_type": "stream",
          "name": "stdout",
          "text": [
            "[39, 18, 27, 19]\n"
          ]
        }
      ]
    },
    {
      "cell_type": "code",
      "source": [
        "ages.insert(0, 20)\n",
        "print(ages)"
      ],
      "metadata": {
        "colab": {
          "base_uri": "https://localhost:8080/"
        },
        "id": "efdGV2d3q2s1",
        "outputId": "297b77fa-d9fd-4a2b-b0b6-ea4487c67c85"
      },
      "execution_count": 19,
      "outputs": [
        {
          "output_type": "stream",
          "name": "stdout",
          "text": [
            "[20, 39, 18, 27, 19]\n"
          ]
        }
      ]
    },
    {
      "cell_type": "code",
      "source": [
        "ages = [20, 39, 18]\n",
        "print(ages)"
      ],
      "metadata": {
        "colab": {
          "base_uri": "https://localhost:8080/"
        },
        "id": "tdHioBzWq4wg",
        "outputId": "a74c4c3f-6b12-4d14-9753-adf951950252"
      },
      "execution_count": 20,
      "outputs": [
        {
          "output_type": "stream",
          "name": "stdout",
          "text": [
            "[20, 39, 18]\n"
          ]
        }
      ]
    },
    {
      "cell_type": "code",
      "source": [
        "ages.append([27, 19])\n",
        "print(ages)"
      ],
      "metadata": {
        "colab": {
          "base_uri": "https://localhost:8080/"
        },
        "id": "64t5sq7Bq6rt",
        "outputId": "104a21d0-34c7-41fa-c52c-4d9f1a4eb4c7"
      },
      "execution_count": 21,
      "outputs": [
        {
          "output_type": "stream",
          "name": "stdout",
          "text": [
            "[20, 39, 18, [27, 19]]\n"
          ]
        }
      ]
    },
    {
      "cell_type": "code",
      "source": [
        "for element in ages:\n",
        "    print(\"Recebi o elemento\", element)"
      ],
      "metadata": {
        "colab": {
          "base_uri": "https://localhost:8080/"
        },
        "id": "Fs5qoVAqq86o",
        "outputId": "bdd818ca-8b45-4b0a-c08d-748dfd0eb7b3"
      },
      "execution_count": 22,
      "outputs": [
        {
          "output_type": "stream",
          "name": "stdout",
          "text": [
            "Recebi o elemento 20\n",
            "Recebi o elemento 39\n",
            "Recebi o elemento 18\n",
            "Recebi o elemento [27, 19]\n"
          ]
        }
      ]
    },
    {
      "cell_type": "code",
      "source": [
        "ages = [20, 39, 18]\n",
        "ages.extend([27, 19])\n",
        "ages"
      ],
      "metadata": {
        "colab": {
          "base_uri": "https://localhost:8080/"
        },
        "id": "ONQTV8u6sZM8",
        "outputId": "8ecac7ba-766e-43b8-f7a7-3a58336d6dba"
      },
      "execution_count": 23,
      "outputs": [
        {
          "output_type": "execute_result",
          "data": {
            "text/plain": [
              "[20, 39, 18, 27, 19]"
            ]
          },
          "metadata": {},
          "execution_count": 23
        }
      ]
    },
    {
      "cell_type": "code",
      "source": [
        "for age in ages:\n",
        "  print(age + 1)"
      ],
      "metadata": {
        "colab": {
          "base_uri": "https://localhost:8080/"
        },
        "id": "ZdcXV-0as34W",
        "outputId": "e6d4033b-3863-470b-9f3e-242ed94feef3"
      },
      "execution_count": 25,
      "outputs": [
        {
          "output_type": "stream",
          "name": "stdout",
          "text": [
            "21\n",
            "40\n",
            "19\n",
            "28\n",
            "20\n"
          ]
        }
      ]
    },
    {
      "cell_type": "code",
      "source": [
        "ages_next_year = []\n",
        "for age in ages:\n",
        "  ages_next_year.append(age+1)\n",
        "ages_next_year"
      ],
      "metadata": {
        "colab": {
          "base_uri": "https://localhost:8080/"
        },
        "id": "vjs312bztSrj",
        "outputId": "484340fc-f91a-4dad-e5d9-cab5eb025732"
      },
      "execution_count": 27,
      "outputs": [
        {
          "output_type": "execute_result",
          "data": {
            "text/plain": [
              "[21, 40, 19, 28, 20]"
            ]
          },
          "metadata": {},
          "execution_count": 27
        }
      ]
    },
    {
      "cell_type": "code",
      "source": [
        "ages_next_year =[(age+1) for age in ages]\n",
        "print(ages_next_year)"
      ],
      "metadata": {
        "colab": {
          "base_uri": "https://localhost:8080/"
        },
        "id": "H9Essl_ptyWI",
        "outputId": "7a364285-1842-4766-fc96-b54a0f4f3c7a"
      },
      "execution_count": 31,
      "outputs": [
        {
          "output_type": "stream",
          "name": "stdout",
          "text": [
            "[21, 40, 19, 28, 20]\n"
          ]
        }
      ]
    },
    {
      "cell_type": "code",
      "source": [
        "[(age) for age in ages if age > 21]"
      ],
      "metadata": {
        "colab": {
          "base_uri": "https://localhost:8080/"
        },
        "id": "d1eLlqykuo0V",
        "outputId": "2d1c1e76-e776-4cba-9ec4-089432309d39"
      },
      "execution_count": 33,
      "outputs": [
        {
          "output_type": "execute_result",
          "data": {
            "text/plain": [
              "[39, 27]"
            ]
          },
          "metadata": {},
          "execution_count": 33
        }
      ]
    },
    {
      "cell_type": "code",
      "source": [
        "ages"
      ],
      "metadata": {
        "colab": {
          "base_uri": "https://localhost:8080/"
        },
        "id": "UQe2qdcQu9oL",
        "outputId": "912daf16-5356-4f28-8eb6-c2a74af143da"
      },
      "execution_count": 36,
      "outputs": [
        {
          "output_type": "execute_result",
          "data": {
            "text/plain": [
              "[20, 39, 18, 27, 19]"
            ]
          },
          "metadata": {},
          "execution_count": 36
        }
      ]
    },
    {
      "cell_type": "code",
      "source": [
        "def next_year(age):\n",
        "  return age+1\n",
        "\n",
        "[next_year(age) for age in ages if age > 21]"
      ],
      "metadata": {
        "colab": {
          "base_uri": "https://localhost:8080/"
        },
        "id": "Y3PfCIXa6A-C",
        "outputId": "f59fc90b-f562-4de8-a148-12afe4fb55f1"
      },
      "execution_count": 37,
      "outputs": [
        {
          "output_type": "execute_result",
          "data": {
            "text/plain": [
              "[40, 28]"
            ]
          },
          "metadata": {},
          "execution_count": 37
        }
      ]
    },
    {
      "cell_type": "code",
      "source": [
        "def view_processing(list):\n",
        "  print(len(list))\n",
        "  list.append(13)\n"
      ],
      "metadata": {
        "id": "3g9JtweU7Gqu"
      },
      "execution_count": 40,
      "outputs": []
    },
    {
      "cell_type": "code",
      "source": [
        "ages = [16, 21, 29, 56, 43]\n",
        "view_processing(ages)\n",
        "ages"
      ],
      "metadata": {
        "colab": {
          "base_uri": "https://localhost:8080/"
        },
        "id": "Js6NzGTd6s0v",
        "outputId": "d390f201-a5c0-49bc-905e-20bee1d87af1"
      },
      "execution_count": 41,
      "outputs": [
        {
          "output_type": "stream",
          "name": "stdout",
          "text": [
            "5\n"
          ]
        },
        {
          "output_type": "execute_result",
          "data": {
            "text/plain": [
              "[16, 21, 29, 56, 43, 13]"
            ]
          },
          "metadata": {},
          "execution_count": 41
        }
      ]
    },
    {
      "cell_type": "code",
      "source": [
        "def view_processing(list = []):\n",
        "  print(len(list))\n",
        "  list.append(13)"
      ],
      "metadata": {
        "id": "POEk6KoU67sq"
      },
      "execution_count": 42,
      "outputs": []
    },
    {
      "cell_type": "code",
      "source": [
        "view_processing()"
      ],
      "metadata": {
        "colab": {
          "base_uri": "https://localhost:8080/"
        },
        "id": "2uL5GtE779-X",
        "outputId": "1c971aea-6ab8-439f-e556-87ab79fb75ec"
      },
      "execution_count": 43,
      "outputs": [
        {
          "output_type": "stream",
          "name": "stdout",
          "text": [
            "0\n"
          ]
        }
      ]
    },
    {
      "cell_type": "code",
      "source": [
        "view_processing(ages)"
      ],
      "metadata": {
        "colab": {
          "base_uri": "https://localhost:8080/"
        },
        "id": "lJC4tZ_Y8Fjy",
        "outputId": "81a7cc63-c9b5-49dc-f592-63357f9fbfba"
      },
      "execution_count": 44,
      "outputs": [
        {
          "output_type": "stream",
          "name": "stdout",
          "text": [
            "6\n"
          ]
        }
      ]
    },
    {
      "cell_type": "code",
      "source": [
        "view_processing()"
      ],
      "metadata": {
        "colab": {
          "base_uri": "https://localhost:8080/"
        },
        "id": "JxxPuVsF8HUf",
        "outputId": "bee6b5bd-e246-42b0-c717-e24d8b21bc26"
      },
      "execution_count": 45,
      "outputs": [
        {
          "output_type": "stream",
          "name": "stdout",
          "text": [
            "1\n"
          ]
        }
      ]
    },
    {
      "cell_type": "code",
      "source": [
        "view_processing()"
      ],
      "metadata": {
        "colab": {
          "base_uri": "https://localhost:8080/"
        },
        "id": "AQSouafr8M0-",
        "outputId": "977d3481-f9c1-4a48-94d2-4de053264732"
      },
      "execution_count": 47,
      "outputs": [
        {
          "output_type": "stream",
          "name": "stdout",
          "text": [
            "3\n"
          ]
        }
      ]
    },
    {
      "cell_type": "code",
      "source": [
        "def view_processing(lista = list()):\n",
        "  print(len(lista))\n",
        "  print(lista)\n",
        "  lista.append(13)"
      ],
      "metadata": {
        "id": "9e8VWd_O8WCO"
      },
      "execution_count": 51,
      "outputs": []
    },
    {
      "cell_type": "code",
      "source": [
        "view_processing()"
      ],
      "metadata": {
        "colab": {
          "base_uri": "https://localhost:8080/"
        },
        "id": "-yRLC_jY8sY7",
        "outputId": "d0e2e0af-b1ef-40b9-e261-ae69760edfbe"
      },
      "execution_count": 52,
      "outputs": [
        {
          "output_type": "stream",
          "name": "stdout",
          "text": [
            "0\n",
            "[]\n"
          ]
        }
      ]
    },
    {
      "cell_type": "code",
      "source": [
        "view_processing()"
      ],
      "metadata": {
        "colab": {
          "base_uri": "https://localhost:8080/"
        },
        "id": "q5ML8edQ8tnv",
        "outputId": "5e8b27b1-d3b3-4dd4-9112-7b5dac92bbbc"
      },
      "execution_count": 53,
      "outputs": [
        {
          "output_type": "stream",
          "name": "stdout",
          "text": [
            "1\n",
            "[13]\n"
          ]
        }
      ]
    },
    {
      "cell_type": "code",
      "source": [
        "view_processing()"
      ],
      "metadata": {
        "colab": {
          "base_uri": "https://localhost:8080/"
        },
        "id": "IQVDvKsG8vv6",
        "outputId": "9683fbaf-08ab-41f2-db1d-8eef6097ca2c"
      },
      "execution_count": 54,
      "outputs": [
        {
          "output_type": "stream",
          "name": "stdout",
          "text": [
            "2\n",
            "[13, 13]\n"
          ]
        }
      ]
    },
    {
      "cell_type": "code",
      "source": [
        "view_processing()"
      ],
      "metadata": {
        "colab": {
          "base_uri": "https://localhost:8080/"
        },
        "id": "XyC-8UZp8xON",
        "outputId": "62b76855-8819-404b-c458-4ae79d7b7fec"
      },
      "execution_count": 55,
      "outputs": [
        {
          "output_type": "stream",
          "name": "stdout",
          "text": [
            "3\n",
            "[13, 13, 13]\n"
          ]
        }
      ]
    },
    {
      "cell_type": "code",
      "source": [
        "def view_processing(lista = None):\n",
        "  if lista == None:\n",
        "    lista = list()\n",
        "  print(len(lista))\n",
        "  print(lista)\n",
        "  lista.append(13)"
      ],
      "metadata": {
        "id": "Gm-hMQuz80Ee"
      },
      "execution_count": 57,
      "outputs": []
    },
    {
      "cell_type": "code",
      "source": [
        "view_processing()"
      ],
      "metadata": {
        "colab": {
          "base_uri": "https://localhost:8080/"
        },
        "id": "pkdAuufU9IkB",
        "outputId": "8c18999d-ad4e-4c5a-f274-6c4c0723b024"
      },
      "execution_count": 58,
      "outputs": [
        {
          "output_type": "stream",
          "name": "stdout",
          "text": [
            "0\n",
            "[]\n"
          ]
        }
      ]
    },
    {
      "cell_type": "code",
      "source": [
        "view_processing()"
      ],
      "metadata": {
        "colab": {
          "base_uri": "https://localhost:8080/"
        },
        "id": "aYOIPjeq9N20",
        "outputId": "2fd93825-188c-4ccc-8829-cdb44f964e27"
      },
      "execution_count": 59,
      "outputs": [
        {
          "output_type": "stream",
          "name": "stdout",
          "text": [
            "0\n",
            "[]\n"
          ]
        }
      ]
    },
    {
      "cell_type": "code",
      "source": [
        "view_processing()"
      ],
      "metadata": {
        "colab": {
          "base_uri": "https://localhost:8080/"
        },
        "id": "8IFL9UCk9PAW",
        "outputId": "44360d98-5ca1-4f09-eeb8-b3698e5a1d57"
      },
      "execution_count": 60,
      "outputs": [
        {
          "output_type": "stream",
          "name": "stdout",
          "text": [
            "0\n",
            "[]\n"
          ]
        }
      ]
    },
    {
      "cell_type": "markdown",
      "source": [
        "# Own Objects\n"
      ],
      "metadata": {
        "id": "JSDGOCVx_AxC"
      }
    },
    {
      "cell_type": "code",
      "source": [
        "class CheckingAccount:\n",
        "  def __init__(self, code):\n",
        "    self.code = code\n",
        "    self.balance = 0\n",
        "\n",
        "  def deposit(self, value):\n",
        "    self.balance += value;\n",
        "\n",
        "  def __str__(self):\n",
        "    return f\"[Código {self.code} Saldo {self.balance}<<]\""
      ],
      "metadata": {
        "id": "8QU_bjPm_Ja8"
      },
      "execution_count": 3,
      "outputs": []
    },
    {
      "cell_type": "code",
      "source": [
        "account_Gui = CheckingAccount(15)\n",
        "print(account_Gui)"
      ],
      "metadata": {
        "colab": {
          "base_uri": "https://localhost:8080/"
        },
        "id": "6FsYdXRei2Qm",
        "outputId": "8ae8d1a6-0ac3-4049-aeda-f9f9d4faeda2"
      },
      "execution_count": 4,
      "outputs": [
        {
          "output_type": "stream",
          "name": "stdout",
          "text": [
            "[Código 15 Saldo 0<<]\n"
          ]
        }
      ]
    },
    {
      "cell_type": "code",
      "source": [
        "account_Gui.deposit(500)\n",
        "print(account_Gui)"
      ],
      "metadata": {
        "colab": {
          "base_uri": "https://localhost:8080/"
        },
        "id": "rqEntazJjLQr",
        "outputId": "959520ed-c627-429b-c54f-35b711803b2a"
      },
      "execution_count": 5,
      "outputs": [
        {
          "output_type": "stream",
          "name": "stdout",
          "text": [
            "[Código 15 Saldo 500<<]\n"
          ]
        }
      ]
    },
    {
      "cell_type": "code",
      "source": [
        "account_Dri = CheckingAccount(47685)\n",
        "account_Dri.deposit(1000)\n",
        "print(account_Dri)"
      ],
      "metadata": {
        "colab": {
          "base_uri": "https://localhost:8080/"
        },
        "id": "5LG5Ro47jUCo",
        "outputId": "c72b4cca-e147-458b-f678-84ffcdc3ee92"
      },
      "execution_count": 6,
      "outputs": [
        {
          "output_type": "stream",
          "name": "stdout",
          "text": [
            "[Código 47685 Saldo 1000<<]\n"
          ]
        }
      ]
    },
    {
      "cell_type": "code",
      "source": [
        "accounts = [account_Gui, account_Dri]\n",
        "for account in accounts: \n",
        "  print(account)"
      ],
      "metadata": {
        "colab": {
          "base_uri": "https://localhost:8080/"
        },
        "id": "wMAsyt5wjkjd",
        "outputId": "4d414d3c-56fd-4bfb-e93b-cded632dcc93"
      },
      "execution_count": 9,
      "outputs": [
        {
          "output_type": "stream",
          "name": "stdout",
          "text": [
            "[Código 15 Saldo 500<<]\n",
            "[Código 47685 Saldo 1000<<]\n"
          ]
        }
      ]
    },
    {
      "cell_type": "code",
      "source": [
        "accounts = [account_Gui, account_Dri, account_Gui]"
      ],
      "metadata": {
        "id": "UT0aJA79kII_"
      },
      "execution_count": 10,
      "outputs": []
    },
    {
      "cell_type": "code",
      "source": [
        "print(accounts[0])"
      ],
      "metadata": {
        "colab": {
          "base_uri": "https://localhost:8080/"
        },
        "id": "sC7ERNOhkP1U",
        "outputId": "76979e01-4690-4096-baf6-5d6c798854a0"
      },
      "execution_count": 11,
      "outputs": [
        {
          "output_type": "stream",
          "name": "stdout",
          "text": [
            "[Código 15 Saldo 500<<]\n"
          ]
        }
      ]
    },
    {
      "cell_type": "code",
      "source": [
        "account_Gui.deposit(100)"
      ],
      "metadata": {
        "id": "6ZRjlUzBkTld"
      },
      "execution_count": 12,
      "outputs": []
    },
    {
      "cell_type": "code",
      "source": [
        "print(accounts[0])"
      ],
      "metadata": {
        "colab": {
          "base_uri": "https://localhost:8080/"
        },
        "id": "CWN5-rGHkajY",
        "outputId": "62d283b1-7773-4621-bb55-63a57897cfa4"
      },
      "execution_count": 14,
      "outputs": [
        {
          "output_type": "stream",
          "name": "stdout",
          "text": [
            "[Código 15 Saldo 600<<]\n"
          ]
        }
      ]
    },
    {
      "cell_type": "code",
      "source": [
        "print(accounts[2])"
      ],
      "metadata": {
        "colab": {
          "base_uri": "https://localhost:8080/"
        },
        "id": "SSH2zcYTk5nd",
        "outputId": "128d1521-df8a-423b-efe7-06a0c3efad26"
      },
      "execution_count": 15,
      "outputs": [
        {
          "output_type": "stream",
          "name": "stdout",
          "text": [
            "[Código 15 Saldo 600<<]\n"
          ]
        }
      ]
    },
    {
      "cell_type": "code",
      "source": [
        "accounts[2].deposit(300)"
      ],
      "metadata": {
        "id": "MkqbYceulGyu"
      },
      "execution_count": 17,
      "outputs": []
    },
    {
      "cell_type": "code",
      "source": [
        "print(account_Gui)"
      ],
      "metadata": {
        "colab": {
          "base_uri": "https://localhost:8080/"
        },
        "id": "pL0RLN-TlOLZ",
        "outputId": "4ffd8683-182f-45e4-e017-7c2258ce5233"
      },
      "execution_count": 18,
      "outputs": [
        {
          "output_type": "stream",
          "name": "stdout",
          "text": [
            "[Código 15 Saldo 900<<]\n"
          ]
        }
      ]
    },
    {
      "cell_type": "code",
      "source": [
        "def deposit_all_accounts(accounts):\n",
        "  for account in accounts:\n",
        "    account.deposit(100)\n",
        "\n",
        "accounts = [account_Gui, account_Dri]\n",
        "print(accounts[0], accounts[1])\n",
        "deposit_all_accounts(accounts)\n",
        "print(accounts[0], accounts[1])"
      ],
      "metadata": {
        "colab": {
          "base_uri": "https://localhost:8080/"
        },
        "id": "m_Ev9tcjlfJ7",
        "outputId": "9f6efc3d-5b70-4a4a-d380-2bb6832ed604"
      },
      "execution_count": 19,
      "outputs": [
        {
          "output_type": "stream",
          "name": "stdout",
          "text": [
            "[Código 15 Saldo 900<<] [Código 47685 Saldo 1000<<]\n",
            "[Código 15 Saldo 1000<<] [Código 47685 Saldo 1100<<]\n"
          ]
        }
      ]
    },
    {
      "cell_type": "code",
      "source": [
        "accounts.insert(0, 76)\n",
        "print(accounts[0], accounts[1], accounts[2])\n"
      ],
      "metadata": {
        "colab": {
          "base_uri": "https://localhost:8080/"
        },
        "id": "bXDA_C_RmifW",
        "outputId": "5270f6fe-9ad3-474e-afaf-c8e1cf696bb1"
      },
      "execution_count": 20,
      "outputs": [
        {
          "output_type": "stream",
          "name": "stdout",
          "text": [
            "76 [Código 15 Saldo 1000<<] [Código 47685 Saldo 1100<<]\n"
          ]
        }
      ]
    },
    {
      "cell_type": "code",
      "source": [
        "deposit_all_accounts(accounts)\n",
        "print(accounts[0], accounts[1], accounts[2])"
      ],
      "metadata": {
        "colab": {
          "base_uri": "https://localhost:8080/",
          "height": 300
        },
        "id": "JzT2xkBXm93p",
        "outputId": "78390a31-14ed-489d-9cb2-29c18a79abe5"
      },
      "execution_count": 21,
      "outputs": [
        {
          "output_type": "error",
          "ename": "AttributeError",
          "evalue": "ignored",
          "traceback": [
            "\u001b[0;31m---------------------------------------------------------------------------\u001b[0m",
            "\u001b[0;31mAttributeError\u001b[0m                            Traceback (most recent call last)",
            "\u001b[0;32m<ipython-input-21-62c49e100961>\u001b[0m in \u001b[0;36m<module>\u001b[0;34m()\u001b[0m\n\u001b[0;32m----> 1\u001b[0;31m \u001b[0mdeposit_all_accounts\u001b[0m\u001b[0;34m(\u001b[0m\u001b[0maccounts\u001b[0m\u001b[0;34m)\u001b[0m\u001b[0;34m\u001b[0m\u001b[0;34m\u001b[0m\u001b[0m\n\u001b[0m\u001b[1;32m      2\u001b[0m \u001b[0mprint\u001b[0m\u001b[0;34m(\u001b[0m\u001b[0maccounts\u001b[0m\u001b[0;34m[\u001b[0m\u001b[0;36m0\u001b[0m\u001b[0;34m]\u001b[0m\u001b[0;34m,\u001b[0m \u001b[0maccounts\u001b[0m\u001b[0;34m[\u001b[0m\u001b[0;36m1\u001b[0m\u001b[0;34m]\u001b[0m\u001b[0;34m,\u001b[0m \u001b[0maccounts\u001b[0m\u001b[0;34m[\u001b[0m\u001b[0;36m2\u001b[0m\u001b[0;34m]\u001b[0m\u001b[0;34m)\u001b[0m\u001b[0;34m\u001b[0m\u001b[0;34m\u001b[0m\u001b[0m\n",
            "\u001b[0;32m<ipython-input-19-6ed583d1fafc>\u001b[0m in \u001b[0;36mdeposit_all_accounts\u001b[0;34m(accounts)\u001b[0m\n\u001b[1;32m      1\u001b[0m \u001b[0;32mdef\u001b[0m \u001b[0mdeposit_all_accounts\u001b[0m\u001b[0;34m(\u001b[0m\u001b[0maccounts\u001b[0m\u001b[0;34m)\u001b[0m\u001b[0;34m:\u001b[0m\u001b[0;34m\u001b[0m\u001b[0;34m\u001b[0m\u001b[0m\n\u001b[1;32m      2\u001b[0m   \u001b[0;32mfor\u001b[0m \u001b[0maccount\u001b[0m \u001b[0;32min\u001b[0m \u001b[0maccounts\u001b[0m\u001b[0;34m:\u001b[0m\u001b[0;34m\u001b[0m\u001b[0;34m\u001b[0m\u001b[0m\n\u001b[0;32m----> 3\u001b[0;31m     \u001b[0maccount\u001b[0m\u001b[0;34m.\u001b[0m\u001b[0mdeposit\u001b[0m\u001b[0;34m(\u001b[0m\u001b[0;36m100\u001b[0m\u001b[0;34m)\u001b[0m\u001b[0;34m\u001b[0m\u001b[0;34m\u001b[0m\u001b[0m\n\u001b[0m\u001b[1;32m      4\u001b[0m \u001b[0;34m\u001b[0m\u001b[0m\n\u001b[1;32m      5\u001b[0m \u001b[0maccounts\u001b[0m \u001b[0;34m=\u001b[0m \u001b[0;34m[\u001b[0m\u001b[0maccount_Gui\u001b[0m\u001b[0;34m,\u001b[0m \u001b[0maccount_Dri\u001b[0m\u001b[0;34m]\u001b[0m\u001b[0;34m\u001b[0m\u001b[0;34m\u001b[0m\u001b[0m\n",
            "\u001b[0;31mAttributeError\u001b[0m: 'int' object has no attribute 'deposit'"
          ]
        }
      ]
    },
    {
      "cell_type": "code",
      "source": [
        "guilherme = ('Guilherme', 37, 1981) # Tupla\n",
        "daniela = ('Daniela', 31, 1987)\n",
        "# paulo = (39, 'Paulo', 1979) # Prática ruim"
      ],
      "metadata": {
        "id": "kNC7ZAG_nimz"
      },
      "execution_count": 22,
      "outputs": []
    },
    {
      "cell_type": "code",
      "source": [
        "guilherme.append(6754)"
      ],
      "metadata": {
        "colab": {
          "base_uri": "https://localhost:8080/",
          "height": 164
        },
        "id": "20M5pNECoQ0y",
        "outputId": "898403b4-28cd-4217-ebee-627a44e4c8d1"
      },
      "execution_count": 23,
      "outputs": [
        {
          "output_type": "error",
          "ename": "AttributeError",
          "evalue": "ignored",
          "traceback": [
            "\u001b[0;31m---------------------------------------------------------------------------\u001b[0m",
            "\u001b[0;31mAttributeError\u001b[0m                            Traceback (most recent call last)",
            "\u001b[0;32m<ipython-input-23-b58a3f93fa55>\u001b[0m in \u001b[0;36m<module>\u001b[0;34m()\u001b[0m\n\u001b[0;32m----> 1\u001b[0;31m \u001b[0mguilherme\u001b[0m\u001b[0;34m.\u001b[0m\u001b[0mappend\u001b[0m\u001b[0;34m(\u001b[0m\u001b[0;36m6754\u001b[0m\u001b[0;34m)\u001b[0m\u001b[0;34m\u001b[0m\u001b[0;34m\u001b[0m\u001b[0m\n\u001b[0m",
            "\u001b[0;31mAttributeError\u001b[0m: 'tuple' object has no attribute 'append'"
          ]
        }
      ]
    },
    {
      "cell_type": "code",
      "source": [
        "account_Gui = (15, 1000)\n",
        "# account_gui.deposit() # Variação OO\n",
        "\n",
        "# def deposit(account): # Variação Funcional\n",
        "account_Gui[1]"
      ],
      "metadata": {
        "colab": {
          "base_uri": "https://localhost:8080/"
        },
        "id": "RV4akN0Vp5B7",
        "outputId": "526744a3-7cf1-4649-f8ca-5ac81f6fb4ba"
      },
      "execution_count": 26,
      "outputs": [
        {
          "output_type": "execute_result",
          "data": {
            "text/plain": [
              "1000"
            ]
          },
          "metadata": {},
          "execution_count": 26
        }
      ]
    },
    {
      "cell_type": "code",
      "source": [
        "account_Gui[1] += 100"
      ],
      "metadata": {
        "colab": {
          "base_uri": "https://localhost:8080/",
          "height": 164
        },
        "id": "yOeYYkRPqjvR",
        "outputId": "4fc34c86-6753-4df6-a85b-0901c7f45784"
      },
      "execution_count": 27,
      "outputs": [
        {
          "output_type": "error",
          "ename": "TypeError",
          "evalue": "ignored",
          "traceback": [
            "\u001b[0;31m---------------------------------------------------------------------------\u001b[0m",
            "\u001b[0;31mTypeError\u001b[0m                                 Traceback (most recent call last)",
            "\u001b[0;32m<ipython-input-27-fda536f28612>\u001b[0m in \u001b[0;36m<module>\u001b[0;34m()\u001b[0m\n\u001b[0;32m----> 1\u001b[0;31m \u001b[0maccount_Gui\u001b[0m\u001b[0;34m[\u001b[0m\u001b[0;36m1\u001b[0m\u001b[0;34m]\u001b[0m \u001b[0;34m+=\u001b[0m \u001b[0;36m100\u001b[0m\u001b[0;34m\u001b[0m\u001b[0;34m\u001b[0m\u001b[0m\n\u001b[0m",
            "\u001b[0;31mTypeError\u001b[0m: 'tuple' object does not support item assignment"
          ]
        }
      ]
    },
    {
      "cell_type": "code",
      "source": [
        "def deposit(account): # Variação \"Funcionao\" (separando o comportamento dos dados)\n",
        "  new_balance = account_Gui[1] + 100\n",
        "  code = account[0]\n",
        "  return (code, new_balance)"
      ],
      "metadata": {
        "id": "KEuRCzAnqrrA"
      },
      "execution_count": 28,
      "outputs": []
    },
    {
      "cell_type": "code",
      "source": [
        "deposit(account_Gui)"
      ],
      "metadata": {
        "colab": {
          "base_uri": "https://localhost:8080/"
        },
        "id": "KnGOARDyrHP7",
        "outputId": "c6984525-86e3-49ec-fe3f-6b1725cac740"
      },
      "execution_count": 31,
      "outputs": [
        {
          "output_type": "execute_result",
          "data": {
            "text/plain": [
              "(15, 1100)"
            ]
          },
          "metadata": {},
          "execution_count": 31
        }
      ]
    },
    {
      "cell_type": "code",
      "source": [
        "account_Gui"
      ],
      "metadata": {
        "colab": {
          "base_uri": "https://localhost:8080/"
        },
        "id": "5abjEzOirTJD",
        "outputId": "e6d99877-d819-425b-e685-285032a02591"
      },
      "execution_count": 33,
      "outputs": [
        {
          "output_type": "execute_result",
          "data": {
            "text/plain": [
              "(15, 1000)"
            ]
          },
          "metadata": {},
          "execution_count": 33
        }
      ]
    },
    {
      "cell_type": "code",
      "source": [
        "account_Gui = deposit(account_Gui)\n",
        "account_Gui"
      ],
      "metadata": {
        "colab": {
          "base_uri": "https://localhost:8080/"
        },
        "id": "DegW2Y_TrYYi",
        "outputId": "888c6c3c-2f47-4ae4-a1ed-419f152a676b"
      },
      "execution_count": 37,
      "outputs": [
        {
          "output_type": "execute_result",
          "data": {
            "text/plain": [
              "(15, 1400)"
            ]
          },
          "metadata": {},
          "execution_count": 37
        }
      ]
    },
    {
      "cell_type": "code",
      "source": [
        "users = [guilherme, daniela]"
      ],
      "metadata": {
        "id": "M5wBORBPskcd"
      },
      "execution_count": 41,
      "outputs": []
    },
    {
      "cell_type": "code",
      "source": [
        "users.append(('Paulo', 39, 1979))"
      ],
      "metadata": {
        "id": "K-pemqqSscd4"
      },
      "execution_count": 43,
      "outputs": []
    },
    {
      "cell_type": "code",
      "source": [
        "users"
      ],
      "metadata": {
        "colab": {
          "base_uri": "https://localhost:8080/"
        },
        "id": "V6WFAQ0bsv7e",
        "outputId": "3c427618-8bfa-42cd-8ce0-2332aae6ceb0"
      },
      "execution_count": 44,
      "outputs": [
        {
          "output_type": "execute_result",
          "data": {
            "text/plain": [
              "[('Guilherme', 37, 1981), ('Daniela', 31, 1987), ('Paulo', 39, 1979)]"
            ]
          },
          "metadata": {},
          "execution_count": 44
        }
      ]
    },
    {
      "cell_type": "code",
      "source": [
        "users[0][0] = 'Guilherme Silveira'"
      ],
      "metadata": {
        "colab": {
          "base_uri": "https://localhost:8080/",
          "height": 164
        },
        "id": "zFq180IFsz8c",
        "outputId": "6886da2d-2d58-4b88-bc63-9b63adb42834"
      },
      "execution_count": 47,
      "outputs": [
        {
          "output_type": "error",
          "ename": "TypeError",
          "evalue": "ignored",
          "traceback": [
            "\u001b[0;31m---------------------------------------------------------------------------\u001b[0m",
            "\u001b[0;31mTypeError\u001b[0m                                 Traceback (most recent call last)",
            "\u001b[0;32m<ipython-input-47-28b8c51f6da6>\u001b[0m in \u001b[0;36m<module>\u001b[0;34m()\u001b[0m\n\u001b[0;32m----> 1\u001b[0;31m \u001b[0musers\u001b[0m\u001b[0;34m[\u001b[0m\u001b[0;36m0\u001b[0m\u001b[0;34m]\u001b[0m\u001b[0;34m[\u001b[0m\u001b[0;36m0\u001b[0m\u001b[0;34m]\u001b[0m \u001b[0;34m=\u001b[0m \u001b[0;34m'Guilherme Silveira'\u001b[0m\u001b[0;34m\u001b[0m\u001b[0;34m\u001b[0m\u001b[0m\n\u001b[0m",
            "\u001b[0;31mTypeError\u001b[0m: 'tuple' object does not support item assignment"
          ]
        }
      ]
    },
    {
      "cell_type": "code",
      "source": [
        "account_Gui = CheckingAccount(15)\n",
        "account_Gui.deposit(500)\n",
        "account_Dri = CheckingAccount(234876)\n",
        "account_Dri.deposit(1000)\n",
        "\n",
        "accounts = (account_Gui, account_Dri)"
      ],
      "metadata": {
        "id": "sGE_uKw3s57_"
      },
      "execution_count": 48,
      "outputs": []
    },
    {
      "cell_type": "code",
      "source": [
        "accounts"
      ],
      "metadata": {
        "colab": {
          "base_uri": "https://localhost:8080/"
        },
        "id": "1MtwmWDNttzg",
        "outputId": "def0ca8c-f775-4095-a2b7-db621fa8faeb"
      },
      "execution_count": 49,
      "outputs": [
        {
          "output_type": "execute_result",
          "data": {
            "text/plain": [
              "(<__main__.CheckingAccount at 0x7f52af115d50>,\n",
              " <__main__.CheckingAccount at 0x7f52af115910>)"
            ]
          },
          "metadata": {},
          "execution_count": 49
        }
      ]
    },
    {
      "cell_type": "code",
      "source": [
        "for account in accounts:\n",
        "  print(account)"
      ],
      "metadata": {
        "colab": {
          "base_uri": "https://localhost:8080/"
        },
        "id": "YYcVFoV_tw2v",
        "outputId": "15667eaa-563a-4639-a9bc-c1339ff00827"
      },
      "execution_count": 51,
      "outputs": [
        {
          "output_type": "stream",
          "name": "stdout",
          "text": [
            "[Código 15 Saldo 500<<]\n",
            "[Código 234876 Saldo 1000<<]\n"
          ]
        }
      ]
    },
    {
      "cell_type": "code",
      "source": [
        "accounts.append(234876)"
      ],
      "metadata": {
        "colab": {
          "base_uri": "https://localhost:8080/",
          "height": 164
        },
        "id": "Aym8ruI7t2_b",
        "outputId": "63ccf10d-1ee7-4c5c-ad21-a6b4fa00d5b8"
      },
      "execution_count": 52,
      "outputs": [
        {
          "output_type": "error",
          "ename": "AttributeError",
          "evalue": "ignored",
          "traceback": [
            "\u001b[0;31m---------------------------------------------------------------------------\u001b[0m",
            "\u001b[0;31mAttributeError\u001b[0m                            Traceback (most recent call last)",
            "\u001b[0;32m<ipython-input-52-d6677df71de5>\u001b[0m in \u001b[0;36m<module>\u001b[0;34m()\u001b[0m\n\u001b[0;32m----> 1\u001b[0;31m \u001b[0maccounts\u001b[0m\u001b[0;34m.\u001b[0m\u001b[0mappend\u001b[0m\u001b[0;34m(\u001b[0m\u001b[0;36m234876\u001b[0m\u001b[0;34m)\u001b[0m\u001b[0;34m\u001b[0m\u001b[0;34m\u001b[0m\u001b[0m\n\u001b[0m",
            "\u001b[0;31mAttributeError\u001b[0m: 'tuple' object has no attribute 'append'"
          ]
        }
      ]
    },
    {
      "cell_type": "code",
      "source": [
        "accounts[0].deposit(300)"
      ],
      "metadata": {
        "id": "v7hV61-ZuK4y"
      },
      "execution_count": 53,
      "outputs": []
    },
    {
      "cell_type": "code",
      "source": [
        "for account in accounts:\n",
        "  print(account)"
      ],
      "metadata": {
        "colab": {
          "base_uri": "https://localhost:8080/"
        },
        "id": "RF-yz9f7uOC1",
        "outputId": "93315853-d2bb-4bf6-81a4-fd36dbe770cf"
      },
      "execution_count": 54,
      "outputs": [
        {
          "output_type": "stream",
          "name": "stdout",
          "text": [
            "[Código 15 Saldo 800<<]\n",
            "[Código 234876 Saldo 1000<<]\n"
          ]
        }
      ]
    },
    {
      "cell_type": "code",
      "source": [
        ""
      ],
      "metadata": {
        "id": "Gn2uaosKuRDw"
      },
      "execution_count": null,
      "outputs": []
    }
  ]
}