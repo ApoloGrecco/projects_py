{
  "nbformat": 4,
  "nbformat_minor": 0,
  "metadata": {
    "colab": {
      "name": "introduction_to_collections.ipynb",
      "provenance": [],
      "authorship_tag": "ABX9TyOPMQ5iFtZqs2hh/FGp7rkn",
      "include_colab_link": true
    },
    "kernelspec": {
      "name": "python3",
      "display_name": "Python 3"
    },
    "language_info": {
      "name": "python"
    }
  },
  "cells": [
    {
      "cell_type": "markdown",
      "metadata": {
        "id": "view-in-github",
        "colab_type": "text"
      },
      "source": [
        "<a href=\"https://colab.research.google.com/github/ApoloGrecco/projects_py/blob/main/list_and_tuples/introduction_to_collections.ipynb\" target=\"_parent\"><img src=\"https://colab.research.google.com/assets/colab-badge.svg\" alt=\"Open In Colab\"/></a>"
      ]
    },
    {
      "cell_type": "code",
      "execution_count": 2,
      "metadata": {
        "id": "M2vdRiEzpiM-"
      },
      "outputs": [],
      "source": [
        "ages1 = 39\n",
        "ages2 = 30\n",
        "ages3 = 27\n",
        "ages4 = 18"
      ]
    },
    {
      "cell_type": "code",
      "source": [
        "print(ages1)\n",
        "print(ages2)\n",
        "print(ages3)\n",
        "print(ages4)"
      ],
      "metadata": {
        "colab": {
          "base_uri": "https://localhost:8080/"
        },
        "id": "IOfoZ4H3qCDB",
        "outputId": "c6023251-9b44-456a-d9cd-fa2de71612e1"
      },
      "execution_count": 3,
      "outputs": [
        {
          "output_type": "stream",
          "name": "stdout",
          "text": [
            "39\n",
            "30\n",
            "27\n",
            "18\n"
          ]
        }
      ]
    },
    {
      "cell_type": "code",
      "source": [
        "ages = [39, 30, 27, 18]"
      ],
      "metadata": {
        "id": "SGroRfzmqOQ1"
      },
      "execution_count": 4,
      "outputs": []
    },
    {
      "cell_type": "code",
      "source": [
        "print(type(ages))\n",
        "print(len(ages))\n",
        "print(ages[0])\n",
        "print(ages[1])\n",
        "print(ages[2])\n",
        "print(ages[3])"
      ],
      "metadata": {
        "colab": {
          "base_uri": "https://localhost:8080/"
        },
        "id": "tB4E3nbLqRkL",
        "outputId": "aff8b5d8-368a-4a0d-b83e-e5cd4f444671"
      },
      "execution_count": 5,
      "outputs": [
        {
          "output_type": "stream",
          "name": "stdout",
          "text": [
            "<class 'list'>\n",
            "4\n",
            "39\n",
            "30\n",
            "27\n",
            "18\n"
          ]
        }
      ]
    },
    {
      "cell_type": "code",
      "source": [
        "ages.append(15)\n",
        "print(ages)\n"
      ],
      "metadata": {
        "colab": {
          "base_uri": "https://localhost:8080/"
        },
        "id": "biy5JSSnqVKJ",
        "outputId": "9f53e0e7-e0d6-44cc-9ee2-f43442d625ce"
      },
      "execution_count": 6,
      "outputs": [
        {
          "output_type": "stream",
          "name": "stdout",
          "text": [
            "[39, 30, 27, 18, 15]\n"
          ]
        }
      ]
    },
    {
      "cell_type": "code",
      "source": [
        "print(ages[4])"
      ],
      "metadata": {
        "colab": {
          "base_uri": "https://localhost:8080/"
        },
        "id": "YGyT5qnlqYRQ",
        "outputId": "c3fcb6bc-4cde-4724-d768-e6c0b62089af"
      },
      "execution_count": 7,
      "outputs": [
        {
          "output_type": "stream",
          "name": "stdout",
          "text": [
            "15\n"
          ]
        }
      ]
    },
    {
      "cell_type": "code",
      "source": [
        "for age in ages:\n",
        "    print(age)"
      ],
      "metadata": {
        "colab": {
          "base_uri": "https://localhost:8080/"
        },
        "id": "d0GdjnYPqbI4",
        "outputId": "a19027d9-0412-4291-dc5b-6c120f139732"
      },
      "execution_count": 8,
      "outputs": [
        {
          "output_type": "stream",
          "name": "stdout",
          "text": [
            "39\n",
            "30\n",
            "27\n",
            "18\n",
            "15\n"
          ]
        }
      ]
    },
    {
      "cell_type": "code",
      "source": [
        "ages.remove(30)\n",
        "print(ages)"
      ],
      "metadata": {
        "colab": {
          "base_uri": "https://localhost:8080/"
        },
        "id": "nA9IS7WJqcow",
        "outputId": "efbba35e-0ca0-4d9b-b20e-e6380e913ec3"
      },
      "execution_count": 9,
      "outputs": [
        {
          "output_type": "stream",
          "name": "stdout",
          "text": [
            "[39, 27, 18, 15]\n"
          ]
        }
      ]
    },
    {
      "cell_type": "code",
      "source": [
        "ages.append(15)\n",
        "print(ages)\n",
        "ages.remove(15)\n",
        "print(ages)"
      ],
      "metadata": {
        "colab": {
          "base_uri": "https://localhost:8080/"
        },
        "id": "DiLgsLHEqfS6",
        "outputId": "f3e7cbe4-9562-4383-a35a-0da09534911a"
      },
      "execution_count": 10,
      "outputs": [
        {
          "output_type": "stream",
          "name": "stdout",
          "text": [
            "[39, 27, 18, 15, 15]\n",
            "[39, 27, 18, 15]\n"
          ]
        }
      ]
    },
    {
      "cell_type": "code",
      "source": [
        "ages.append(27)\n",
        "ages.remove(27)\n",
        "print(ages)"
      ],
      "metadata": {
        "colab": {
          "base_uri": "https://localhost:8080/"
        },
        "id": "qjticc21qj6s",
        "outputId": "ad57d0eb-cdc7-430a-b050-284d73b2ad8c"
      },
      "execution_count": 11,
      "outputs": [
        {
          "output_type": "stream",
          "name": "stdout",
          "text": [
            "[39, 18, 15, 27]\n"
          ]
        }
      ]
    },
    {
      "cell_type": "code",
      "source": [
        "ages.clear()\n",
        "print(ages)"
      ],
      "metadata": {
        "colab": {
          "base_uri": "https://localhost:8080/"
        },
        "id": "2Wx8SkPnqm0I",
        "outputId": "91c965b1-c54e-4b00-87d7-28d05cd75e0d"
      },
      "execution_count": 12,
      "outputs": [
        {
          "output_type": "stream",
          "name": "stdout",
          "text": [
            "[]\n"
          ]
        }
      ]
    },
    {
      "cell_type": "code",
      "source": [
        "ages = [39, 18, 15, 27]"
      ],
      "metadata": {
        "id": "hcN0a4eSqo-K"
      },
      "execution_count": 13,
      "outputs": []
    },
    {
      "cell_type": "code",
      "source": [
        "print(28 in ages)\n",
        "print(15 in ages)"
      ],
      "metadata": {
        "colab": {
          "base_uri": "https://localhost:8080/"
        },
        "id": "T8wfZUOcqrsv",
        "outputId": "4a10adf5-4729-4abf-b4b9-3e432720bd84"
      },
      "execution_count": 14,
      "outputs": [
        {
          "output_type": "stream",
          "name": "stdout",
          "text": [
            "False\n",
            "True\n"
          ]
        }
      ]
    },
    {
      "cell_type": "code",
      "source": [
        "if 15 in ages:\n",
        "    ages.remove(15)"
      ],
      "metadata": {
        "id": "sH4hzS8UquRk"
      },
      "execution_count": 15,
      "outputs": []
    },
    {
      "cell_type": "code",
      "source": [
        "print(ages)"
      ],
      "metadata": {
        "colab": {
          "base_uri": "https://localhost:8080/"
        },
        "id": "D26juNzwqwYL",
        "outputId": "45a30fd1-f6fa-4057-8b78-7b9179a5faa5"
      },
      "execution_count": 16,
      "outputs": [
        {
          "output_type": "stream",
          "name": "stdout",
          "text": [
            "[39, 18, 27]\n"
          ]
        }
      ]
    },
    {
      "cell_type": "code",
      "source": [
        "if 28 in ages:\n",
        "    ages.remove(28)"
      ],
      "metadata": {
        "id": "12SzG323qy9s"
      },
      "execution_count": 17,
      "outputs": []
    },
    {
      "cell_type": "code",
      "source": [
        "ages.append(19)\n",
        "print(ages)"
      ],
      "metadata": {
        "colab": {
          "base_uri": "https://localhost:8080/"
        },
        "id": "0SUeLDbXq07f",
        "outputId": "c3db9063-8edd-4668-d80d-c8e9d37e41e7"
      },
      "execution_count": 18,
      "outputs": [
        {
          "output_type": "stream",
          "name": "stdout",
          "text": [
            "[39, 18, 27, 19]\n"
          ]
        }
      ]
    },
    {
      "cell_type": "code",
      "source": [
        "ages.insert(0, 20)\n",
        "print(ages)"
      ],
      "metadata": {
        "colab": {
          "base_uri": "https://localhost:8080/"
        },
        "id": "efdGV2d3q2s1",
        "outputId": "297b77fa-d9fd-4a2b-b0b6-ea4487c67c85"
      },
      "execution_count": 19,
      "outputs": [
        {
          "output_type": "stream",
          "name": "stdout",
          "text": [
            "[20, 39, 18, 27, 19]\n"
          ]
        }
      ]
    },
    {
      "cell_type": "code",
      "source": [
        "ages = [20, 39, 18]\n",
        "print(ages)"
      ],
      "metadata": {
        "colab": {
          "base_uri": "https://localhost:8080/"
        },
        "id": "tdHioBzWq4wg",
        "outputId": "a74c4c3f-6b12-4d14-9753-adf951950252"
      },
      "execution_count": 20,
      "outputs": [
        {
          "output_type": "stream",
          "name": "stdout",
          "text": [
            "[20, 39, 18]\n"
          ]
        }
      ]
    },
    {
      "cell_type": "code",
      "source": [
        "ages.append([27, 19])\n",
        "print(ages)"
      ],
      "metadata": {
        "colab": {
          "base_uri": "https://localhost:8080/"
        },
        "id": "64t5sq7Bq6rt",
        "outputId": "104a21d0-34c7-41fa-c52c-4d9f1a4eb4c7"
      },
      "execution_count": 21,
      "outputs": [
        {
          "output_type": "stream",
          "name": "stdout",
          "text": [
            "[20, 39, 18, [27, 19]]\n"
          ]
        }
      ]
    },
    {
      "cell_type": "code",
      "source": [
        "for element in ages:\n",
        "    print(\"Recebi o elemento\", element)"
      ],
      "metadata": {
        "colab": {
          "base_uri": "https://localhost:8080/"
        },
        "id": "Fs5qoVAqq86o",
        "outputId": "bdd818ca-8b45-4b0a-c08d-748dfd0eb7b3"
      },
      "execution_count": 22,
      "outputs": [
        {
          "output_type": "stream",
          "name": "stdout",
          "text": [
            "Recebi o elemento 20\n",
            "Recebi o elemento 39\n",
            "Recebi o elemento 18\n",
            "Recebi o elemento [27, 19]\n"
          ]
        }
      ]
    }
  ]
}