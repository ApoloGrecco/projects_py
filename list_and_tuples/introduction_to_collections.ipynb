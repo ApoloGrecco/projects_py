{
  "nbformat": 4,
  "nbformat_minor": 0,
  "metadata": {
    "colab": {
      "name": "introduction_to_collections.ipynb",
      "provenance": [],
      "collapsed_sections": [
        "Svb3A9SCz5rh"
      ],
      "authorship_tag": "ABX9TyONVcZ8xev0SKu6zzzkOPZK",
      "include_colab_link": true
    },
    "kernelspec": {
      "name": "python3",
      "display_name": "Python 3"
    },
    "language_info": {
      "name": "python"
    }
  },
  "cells": [
    {
      "cell_type": "markdown",
      "metadata": {
        "id": "view-in-github",
        "colab_type": "text"
      },
      "source": [
        "<a href=\"https://colab.research.google.com/github/ApoloGrecco/projects_py/blob/main/list_and_tuples/introduction_to_collections.ipynb\" target=\"_parent\"><img src=\"https://colab.research.google.com/assets/colab-badge.svg\" alt=\"Open In Colab\"/></a>"
      ]
    },
    {
      "cell_type": "code",
      "execution_count": 4,
      "metadata": {
        "id": "M2vdRiEzpiM-"
      },
      "outputs": [],
      "source": [
        "ages1 = 39\n",
        "ages2 = 30\n",
        "ages3 = 27\n",
        "ages4 = 18"
      ]
    },
    {
      "cell_type": "code",
      "source": [
        "print(ages1)\n",
        "print(ages2)\n",
        "print(ages3)\n",
        "print(ages4)"
      ],
      "metadata": {
        "colab": {
          "base_uri": "https://localhost:8080/"
        },
        "id": "IOfoZ4H3qCDB",
        "outputId": "35c4abbb-e499-4aec-bb48-a4a86a0edda8"
      },
      "execution_count": 5,
      "outputs": [
        {
          "output_type": "stream",
          "name": "stdout",
          "text": [
            "39\n",
            "30\n",
            "27\n",
            "18\n"
          ]
        }
      ]
    },
    {
      "cell_type": "code",
      "source": [
        "ages = [39, 30, 27, 18]"
      ],
      "metadata": {
        "id": "SGroRfzmqOQ1"
      },
      "execution_count": 6,
      "outputs": []
    },
    {
      "cell_type": "code",
      "source": [
        "print(type(ages))\n",
        "print(len(ages))\n",
        "print(ages[0])\n",
        "print(ages[1])\n",
        "print(ages[2])\n",
        "print(ages[3])"
      ],
      "metadata": {
        "colab": {
          "base_uri": "https://localhost:8080/"
        },
        "id": "tB4E3nbLqRkL",
        "outputId": "aff8b5d8-368a-4a0d-b83e-e5cd4f444671"
      },
      "execution_count": null,
      "outputs": [
        {
          "output_type": "stream",
          "name": "stdout",
          "text": [
            "<class 'list'>\n",
            "4\n",
            "39\n",
            "30\n",
            "27\n",
            "18\n"
          ]
        }
      ]
    },
    {
      "cell_type": "code",
      "source": [
        "ages.append(15)\n",
        "print(ages)\n"
      ],
      "metadata": {
        "colab": {
          "base_uri": "https://localhost:8080/"
        },
        "id": "biy5JSSnqVKJ",
        "outputId": "1ed340ca-4006-482f-83c5-d3f6ee9cbb59"
      },
      "execution_count": 7,
      "outputs": [
        {
          "output_type": "stream",
          "name": "stdout",
          "text": [
            "[39, 30, 27, 18, 15]\n"
          ]
        }
      ]
    },
    {
      "cell_type": "code",
      "source": [
        "print(ages[4])"
      ],
      "metadata": {
        "colab": {
          "base_uri": "https://localhost:8080/"
        },
        "id": "YGyT5qnlqYRQ",
        "outputId": "34f228e5-d04f-4122-bf26-4c450b3d49c3"
      },
      "execution_count": 8,
      "outputs": [
        {
          "output_type": "stream",
          "name": "stdout",
          "text": [
            "15\n"
          ]
        }
      ]
    },
    {
      "cell_type": "code",
      "source": [
        "for age in ages:\n",
        "    print(age)"
      ],
      "metadata": {
        "colab": {
          "base_uri": "https://localhost:8080/"
        },
        "id": "d0GdjnYPqbI4",
        "outputId": "9a956932-d313-42a3-c614-efc7daa95576"
      },
      "execution_count": 9,
      "outputs": [
        {
          "output_type": "stream",
          "name": "stdout",
          "text": [
            "39\n",
            "30\n",
            "27\n",
            "18\n",
            "15\n"
          ]
        }
      ]
    },
    {
      "cell_type": "code",
      "source": [
        "ages.remove(30)\n",
        "print(ages)"
      ],
      "metadata": {
        "colab": {
          "base_uri": "https://localhost:8080/"
        },
        "id": "nA9IS7WJqcow",
        "outputId": "2172e293-e109-4613-a010-e6b0be6678a3"
      },
      "execution_count": 10,
      "outputs": [
        {
          "output_type": "stream",
          "name": "stdout",
          "text": [
            "[39, 27, 18, 15]\n"
          ]
        }
      ]
    },
    {
      "cell_type": "code",
      "source": [
        "ages.append(15)\n",
        "print(ages)\n",
        "ages.remove(15)\n",
        "print(ages)"
      ],
      "metadata": {
        "colab": {
          "base_uri": "https://localhost:8080/"
        },
        "id": "DiLgsLHEqfS6",
        "outputId": "cd64d02e-191b-49b4-af21-550eeac36f3a"
      },
      "execution_count": 11,
      "outputs": [
        {
          "output_type": "stream",
          "name": "stdout",
          "text": [
            "[39, 27, 18, 15, 15]\n",
            "[39, 27, 18, 15]\n"
          ]
        }
      ]
    },
    {
      "cell_type": "code",
      "source": [
        "ages.append(27)\n",
        "ages.remove(27)\n",
        "print(ages)"
      ],
      "metadata": {
        "colab": {
          "base_uri": "https://localhost:8080/"
        },
        "id": "qjticc21qj6s",
        "outputId": "b8b6a161-46ea-4274-9af7-a2b9cc6f7684"
      },
      "execution_count": 12,
      "outputs": [
        {
          "output_type": "stream",
          "name": "stdout",
          "text": [
            "[39, 18, 15, 27]\n"
          ]
        }
      ]
    },
    {
      "cell_type": "code",
      "source": [
        "ages.clear()\n",
        "print(ages)"
      ],
      "metadata": {
        "colab": {
          "base_uri": "https://localhost:8080/"
        },
        "id": "2Wx8SkPnqm0I",
        "outputId": "90f8064a-a629-4e60-eed3-e89955ffd2d7"
      },
      "execution_count": 13,
      "outputs": [
        {
          "output_type": "stream",
          "name": "stdout",
          "text": [
            "[]\n"
          ]
        }
      ]
    },
    {
      "cell_type": "code",
      "source": [
        "ages = [39, 18, 15, 27]"
      ],
      "metadata": {
        "id": "hcN0a4eSqo-K"
      },
      "execution_count": 14,
      "outputs": []
    },
    {
      "cell_type": "code",
      "source": [
        "print(28 in ages)\n",
        "print(15 in ages)"
      ],
      "metadata": {
        "colab": {
          "base_uri": "https://localhost:8080/"
        },
        "id": "T8wfZUOcqrsv",
        "outputId": "c19d7f52-83f0-4563-f41b-41faf012922a"
      },
      "execution_count": 15,
      "outputs": [
        {
          "output_type": "stream",
          "name": "stdout",
          "text": [
            "False\n",
            "True\n"
          ]
        }
      ]
    },
    {
      "cell_type": "code",
      "source": [
        "if 15 in ages:\n",
        "    ages.remove(15)"
      ],
      "metadata": {
        "id": "sH4hzS8UquRk"
      },
      "execution_count": 16,
      "outputs": []
    },
    {
      "cell_type": "code",
      "source": [
        "print(ages)"
      ],
      "metadata": {
        "colab": {
          "base_uri": "https://localhost:8080/"
        },
        "id": "D26juNzwqwYL",
        "outputId": "fa0ab16f-59ee-45e9-9fcf-aaf5ca44ab3d"
      },
      "execution_count": 17,
      "outputs": [
        {
          "output_type": "stream",
          "name": "stdout",
          "text": [
            "[39, 18, 27]\n"
          ]
        }
      ]
    },
    {
      "cell_type": "code",
      "source": [
        "if 28 in ages:\n",
        "    ages.remove(28)"
      ],
      "metadata": {
        "id": "12SzG323qy9s"
      },
      "execution_count": 18,
      "outputs": []
    },
    {
      "cell_type": "code",
      "source": [
        "ages.append(19)\n",
        "print(ages)"
      ],
      "metadata": {
        "colab": {
          "base_uri": "https://localhost:8080/"
        },
        "id": "0SUeLDbXq07f",
        "outputId": "8c883198-e04b-49ec-c660-50a6b5996219"
      },
      "execution_count": 19,
      "outputs": [
        {
          "output_type": "stream",
          "name": "stdout",
          "text": [
            "[39, 18, 27, 19]\n"
          ]
        }
      ]
    },
    {
      "cell_type": "code",
      "source": [
        "ages.insert(0, 20)\n",
        "print(ages)"
      ],
      "metadata": {
        "colab": {
          "base_uri": "https://localhost:8080/"
        },
        "id": "efdGV2d3q2s1",
        "outputId": "c4c10784-b913-49a7-fc8e-62a34e2c2ac5"
      },
      "execution_count": 20,
      "outputs": [
        {
          "output_type": "stream",
          "name": "stdout",
          "text": [
            "[20, 39, 18, 27, 19]\n"
          ]
        }
      ]
    },
    {
      "cell_type": "code",
      "source": [
        "ages = [20, 39, 18]\n",
        "print(ages)"
      ],
      "metadata": {
        "colab": {
          "base_uri": "https://localhost:8080/"
        },
        "id": "tdHioBzWq4wg",
        "outputId": "776deafe-dfaf-4026-a47e-7a980f398be4"
      },
      "execution_count": 21,
      "outputs": [
        {
          "output_type": "stream",
          "name": "stdout",
          "text": [
            "[20, 39, 18]\n"
          ]
        }
      ]
    },
    {
      "cell_type": "code",
      "source": [
        "ages.append([27, 19])\n",
        "print(ages)"
      ],
      "metadata": {
        "colab": {
          "base_uri": "https://localhost:8080/"
        },
        "id": "64t5sq7Bq6rt",
        "outputId": "849d8bac-3c6e-4265-aa23-aa29114d1a41"
      },
      "execution_count": 22,
      "outputs": [
        {
          "output_type": "stream",
          "name": "stdout",
          "text": [
            "[20, 39, 18, [27, 19]]\n"
          ]
        }
      ]
    },
    {
      "cell_type": "code",
      "source": [
        "for element in ages:\n",
        "    print(\"Recebi o elemento\", element)"
      ],
      "metadata": {
        "colab": {
          "base_uri": "https://localhost:8080/"
        },
        "id": "Fs5qoVAqq86o",
        "outputId": "f72d9e0d-217f-4940-dcb2-4e2da7141e7e"
      },
      "execution_count": 23,
      "outputs": [
        {
          "output_type": "stream",
          "name": "stdout",
          "text": [
            "Recebi o elemento 20\n",
            "Recebi o elemento 39\n",
            "Recebi o elemento 18\n",
            "Recebi o elemento [27, 19]\n"
          ]
        }
      ]
    },
    {
      "cell_type": "code",
      "source": [
        "ages = [20, 39, 18]\n",
        "ages.extend([27, 19])\n",
        "ages"
      ],
      "metadata": {
        "colab": {
          "base_uri": "https://localhost:8080/"
        },
        "id": "ONQTV8u6sZM8",
        "outputId": "5fdebc67-ed06-4087-9020-95d83290f037"
      },
      "execution_count": 24,
      "outputs": [
        {
          "output_type": "execute_result",
          "data": {
            "text/plain": [
              "[20, 39, 18, 27, 19]"
            ]
          },
          "metadata": {},
          "execution_count": 24
        }
      ]
    },
    {
      "cell_type": "code",
      "source": [
        "for age in ages:\n",
        "  print(age + 1)"
      ],
      "metadata": {
        "colab": {
          "base_uri": "https://localhost:8080/"
        },
        "id": "ZdcXV-0as34W",
        "outputId": "271f4094-3df5-4a7d-e67c-f58853a4a5fd"
      },
      "execution_count": 25,
      "outputs": [
        {
          "output_type": "stream",
          "name": "stdout",
          "text": [
            "21\n",
            "40\n",
            "19\n",
            "28\n",
            "20\n"
          ]
        }
      ]
    },
    {
      "cell_type": "code",
      "source": [
        "ages_next_year = []\n",
        "for age in ages:\n",
        "  ages_next_year.append(age+1)\n",
        "ages_next_year"
      ],
      "metadata": {
        "colab": {
          "base_uri": "https://localhost:8080/"
        },
        "id": "vjs312bztSrj",
        "outputId": "af571344-5e2f-4d43-acdd-8514dde8c018"
      },
      "execution_count": 26,
      "outputs": [
        {
          "output_type": "execute_result",
          "data": {
            "text/plain": [
              "[21, 40, 19, 28, 20]"
            ]
          },
          "metadata": {},
          "execution_count": 26
        }
      ]
    },
    {
      "cell_type": "code",
      "source": [
        "ages_next_year =[(age+1) for age in ages]\n",
        "print(ages_next_year)"
      ],
      "metadata": {
        "colab": {
          "base_uri": "https://localhost:8080/"
        },
        "id": "H9Essl_ptyWI",
        "outputId": "e664dd55-a967-4a06-8f6e-4b821e0e2ca6"
      },
      "execution_count": 27,
      "outputs": [
        {
          "output_type": "stream",
          "name": "stdout",
          "text": [
            "[21, 40, 19, 28, 20]\n"
          ]
        }
      ]
    },
    {
      "cell_type": "code",
      "source": [
        "[(age) for age in ages if age > 21]"
      ],
      "metadata": {
        "colab": {
          "base_uri": "https://localhost:8080/"
        },
        "id": "d1eLlqykuo0V",
        "outputId": "845ca96c-e019-4569-99b1-4761dfb24ae9"
      },
      "execution_count": 28,
      "outputs": [
        {
          "output_type": "execute_result",
          "data": {
            "text/plain": [
              "[39, 27]"
            ]
          },
          "metadata": {},
          "execution_count": 28
        }
      ]
    },
    {
      "cell_type": "code",
      "source": [
        "ages"
      ],
      "metadata": {
        "colab": {
          "base_uri": "https://localhost:8080/"
        },
        "id": "UQe2qdcQu9oL",
        "outputId": "faef3e3c-eb1f-4a16-d67f-30259e39cfdf"
      },
      "execution_count": 29,
      "outputs": [
        {
          "output_type": "execute_result",
          "data": {
            "text/plain": [
              "[20, 39, 18, 27, 19]"
            ]
          },
          "metadata": {},
          "execution_count": 29
        }
      ]
    },
    {
      "cell_type": "code",
      "source": [
        "def next_year(age):\n",
        "  return age+1\n",
        "\n",
        "[next_year(age) for age in ages if age > 21]"
      ],
      "metadata": {
        "colab": {
          "base_uri": "https://localhost:8080/"
        },
        "id": "Y3PfCIXa6A-C",
        "outputId": "706a712f-bfac-4a53-a132-92d292173a24"
      },
      "execution_count": 30,
      "outputs": [
        {
          "output_type": "execute_result",
          "data": {
            "text/plain": [
              "[40, 28]"
            ]
          },
          "metadata": {},
          "execution_count": 30
        }
      ]
    },
    {
      "cell_type": "code",
      "source": [
        "def view_processing(list):\n",
        "  print(len(list))\n",
        "  list.append(13)\n"
      ],
      "metadata": {
        "id": "3g9JtweU7Gqu"
      },
      "execution_count": 31,
      "outputs": []
    },
    {
      "cell_type": "code",
      "source": [
        "ages = [16, 21, 29, 56, 43]\n",
        "view_processing(ages)\n",
        "ages"
      ],
      "metadata": {
        "colab": {
          "base_uri": "https://localhost:8080/"
        },
        "id": "Js6NzGTd6s0v",
        "outputId": "bd1fd30a-e843-4bd1-8378-c33ee8987380"
      },
      "execution_count": 32,
      "outputs": [
        {
          "output_type": "stream",
          "name": "stdout",
          "text": [
            "5\n"
          ]
        },
        {
          "output_type": "execute_result",
          "data": {
            "text/plain": [
              "[16, 21, 29, 56, 43, 13]"
            ]
          },
          "metadata": {},
          "execution_count": 32
        }
      ]
    },
    {
      "cell_type": "code",
      "source": [
        "def view_processing(list = []):\n",
        "  print(len(list))\n",
        "  list.append(13)"
      ],
      "metadata": {
        "id": "POEk6KoU67sq"
      },
      "execution_count": 33,
      "outputs": []
    },
    {
      "cell_type": "code",
      "source": [
        "view_processing()"
      ],
      "metadata": {
        "colab": {
          "base_uri": "https://localhost:8080/"
        },
        "id": "2uL5GtE779-X",
        "outputId": "fecce724-e14c-44c7-e401-d8ab0a63e47f"
      },
      "execution_count": 34,
      "outputs": [
        {
          "output_type": "stream",
          "name": "stdout",
          "text": [
            "0\n"
          ]
        }
      ]
    },
    {
      "cell_type": "code",
      "source": [
        "view_processing(ages)"
      ],
      "metadata": {
        "colab": {
          "base_uri": "https://localhost:8080/"
        },
        "id": "lJC4tZ_Y8Fjy",
        "outputId": "76ae21ee-a590-49e3-816b-e08fe981506f"
      },
      "execution_count": 35,
      "outputs": [
        {
          "output_type": "stream",
          "name": "stdout",
          "text": [
            "6\n"
          ]
        }
      ]
    },
    {
      "cell_type": "code",
      "source": [
        "view_processing()"
      ],
      "metadata": {
        "colab": {
          "base_uri": "https://localhost:8080/"
        },
        "id": "JxxPuVsF8HUf",
        "outputId": "6269d3ce-995c-4154-ed16-7faf723790d9"
      },
      "execution_count": 36,
      "outputs": [
        {
          "output_type": "stream",
          "name": "stdout",
          "text": [
            "1\n"
          ]
        }
      ]
    },
    {
      "cell_type": "code",
      "source": [
        "view_processing()"
      ],
      "metadata": {
        "colab": {
          "base_uri": "https://localhost:8080/"
        },
        "id": "AQSouafr8M0-",
        "outputId": "ca1c2d29-1737-4582-f610-2d2bc5828a5b"
      },
      "execution_count": 37,
      "outputs": [
        {
          "output_type": "stream",
          "name": "stdout",
          "text": [
            "2\n"
          ]
        }
      ]
    },
    {
      "cell_type": "code",
      "source": [
        "def view_processing(lista = list()):\n",
        "  print(len(lista))\n",
        "  print(lista)\n",
        "  lista.append(13)"
      ],
      "metadata": {
        "id": "9e8VWd_O8WCO"
      },
      "execution_count": 38,
      "outputs": []
    },
    {
      "cell_type": "code",
      "source": [
        "view_processing()"
      ],
      "metadata": {
        "colab": {
          "base_uri": "https://localhost:8080/"
        },
        "id": "-yRLC_jY8sY7",
        "outputId": "a1a45cc3-db97-47ca-ea92-fe16b59b475d"
      },
      "execution_count": 39,
      "outputs": [
        {
          "output_type": "stream",
          "name": "stdout",
          "text": [
            "0\n",
            "[]\n"
          ]
        }
      ]
    },
    {
      "cell_type": "code",
      "source": [
        "view_processing()"
      ],
      "metadata": {
        "colab": {
          "base_uri": "https://localhost:8080/"
        },
        "id": "q5ML8edQ8tnv",
        "outputId": "bb024946-25d3-44ef-d54c-0ec62b5f5d05"
      },
      "execution_count": 40,
      "outputs": [
        {
          "output_type": "stream",
          "name": "stdout",
          "text": [
            "1\n",
            "[13]\n"
          ]
        }
      ]
    },
    {
      "cell_type": "code",
      "source": [
        "view_processing()"
      ],
      "metadata": {
        "colab": {
          "base_uri": "https://localhost:8080/"
        },
        "id": "IQVDvKsG8vv6",
        "outputId": "e2ce15dc-1acc-4fe6-8186-aafab430115f"
      },
      "execution_count": 41,
      "outputs": [
        {
          "output_type": "stream",
          "name": "stdout",
          "text": [
            "2\n",
            "[13, 13]\n"
          ]
        }
      ]
    },
    {
      "cell_type": "code",
      "source": [
        "view_processing()"
      ],
      "metadata": {
        "colab": {
          "base_uri": "https://localhost:8080/"
        },
        "id": "XyC-8UZp8xON",
        "outputId": "c682ec97-28a5-4cac-b1d2-d0806eed3d9a"
      },
      "execution_count": 42,
      "outputs": [
        {
          "output_type": "stream",
          "name": "stdout",
          "text": [
            "3\n",
            "[13, 13, 13]\n"
          ]
        }
      ]
    },
    {
      "cell_type": "code",
      "source": [
        "def view_processing(lista = None):\n",
        "  if lista == None:\n",
        "    lista = list()\n",
        "  print(len(lista))\n",
        "  print(lista)\n",
        "  lista.append(13)"
      ],
      "metadata": {
        "id": "Gm-hMQuz80Ee"
      },
      "execution_count": 43,
      "outputs": []
    },
    {
      "cell_type": "code",
      "source": [
        "view_processing()"
      ],
      "metadata": {
        "colab": {
          "base_uri": "https://localhost:8080/"
        },
        "id": "pkdAuufU9IkB",
        "outputId": "ab243c54-8ed6-4b59-d291-0df90aaaa7d0"
      },
      "execution_count": 44,
      "outputs": [
        {
          "output_type": "stream",
          "name": "stdout",
          "text": [
            "0\n",
            "[]\n"
          ]
        }
      ]
    },
    {
      "cell_type": "code",
      "source": [
        "view_processing()"
      ],
      "metadata": {
        "colab": {
          "base_uri": "https://localhost:8080/"
        },
        "id": "aYOIPjeq9N20",
        "outputId": "ca84e78e-bbfc-4f70-8c88-22574d17ab0b"
      },
      "execution_count": 45,
      "outputs": [
        {
          "output_type": "stream",
          "name": "stdout",
          "text": [
            "0\n",
            "[]\n"
          ]
        }
      ]
    },
    {
      "cell_type": "code",
      "source": [
        "view_processing()"
      ],
      "metadata": {
        "colab": {
          "base_uri": "https://localhost:8080/"
        },
        "id": "8IFL9UCk9PAW",
        "outputId": "827a9337-cd03-4b0a-bb97-ad67776abb80"
      },
      "execution_count": 46,
      "outputs": [
        {
          "output_type": "stream",
          "name": "stdout",
          "text": [
            "0\n",
            "[]\n"
          ]
        }
      ]
    },
    {
      "cell_type": "markdown",
      "source": [
        "# Own Objects\n"
      ],
      "metadata": {
        "id": "JSDGOCVx_AxC"
      }
    },
    {
      "cell_type": "code",
      "source": [
        "class CheckingAccount:\n",
        "  def __init__(self, code):\n",
        "    self.code = code\n",
        "    self.balance = 0\n",
        "\n",
        "  def deposit(self, value):\n",
        "    self.balance += value;\n",
        "\n",
        "  def __str__(self):\n",
        "    return f\"[Código {self.code} Saldo {self.balance}<<]\""
      ],
      "metadata": {
        "id": "8QU_bjPm_Ja8"
      },
      "execution_count": 47,
      "outputs": []
    },
    {
      "cell_type": "code",
      "source": [
        "account_Gui = CheckingAccount(15)\n",
        "print(account_Gui)"
      ],
      "metadata": {
        "colab": {
          "base_uri": "https://localhost:8080/"
        },
        "id": "6FsYdXRei2Qm",
        "outputId": "0ac61c77-ef41-4fe0-b312-c77684e845e4"
      },
      "execution_count": 48,
      "outputs": [
        {
          "output_type": "stream",
          "name": "stdout",
          "text": [
            "[Código 15 Saldo 0<<]\n"
          ]
        }
      ]
    },
    {
      "cell_type": "code",
      "source": [
        "account_Gui.deposit(500)\n",
        "print(account_Gui)"
      ],
      "metadata": {
        "colab": {
          "base_uri": "https://localhost:8080/"
        },
        "id": "rqEntazJjLQr",
        "outputId": "edf1d786-27a0-475a-f69a-fce0a097ad44"
      },
      "execution_count": 49,
      "outputs": [
        {
          "output_type": "stream",
          "name": "stdout",
          "text": [
            "[Código 15 Saldo 500<<]\n"
          ]
        }
      ]
    },
    {
      "cell_type": "code",
      "source": [
        "account_Dri = CheckingAccount(47685)\n",
        "account_Dri.deposit(1000)\n",
        "print(account_Dri)"
      ],
      "metadata": {
        "colab": {
          "base_uri": "https://localhost:8080/"
        },
        "id": "5LG5Ro47jUCo",
        "outputId": "dc4e07c6-2501-4056-ce99-edf57f2b6e5d"
      },
      "execution_count": 50,
      "outputs": [
        {
          "output_type": "stream",
          "name": "stdout",
          "text": [
            "[Código 47685 Saldo 1000<<]\n"
          ]
        }
      ]
    },
    {
      "cell_type": "code",
      "source": [
        "accounts = [account_Gui, account_Dri]\n",
        "for account in accounts: \n",
        "  print(account)"
      ],
      "metadata": {
        "colab": {
          "base_uri": "https://localhost:8080/"
        },
        "id": "wMAsyt5wjkjd",
        "outputId": "54855baa-69ab-4253-d943-96232f343b20"
      },
      "execution_count": 51,
      "outputs": [
        {
          "output_type": "stream",
          "name": "stdout",
          "text": [
            "[Código 15 Saldo 500<<]\n",
            "[Código 47685 Saldo 1000<<]\n"
          ]
        }
      ]
    },
    {
      "cell_type": "code",
      "source": [
        "accounts = [account_Gui, account_Dri, account_Gui]"
      ],
      "metadata": {
        "id": "UT0aJA79kII_"
      },
      "execution_count": 52,
      "outputs": []
    },
    {
      "cell_type": "code",
      "source": [
        "print(accounts[0])"
      ],
      "metadata": {
        "colab": {
          "base_uri": "https://localhost:8080/"
        },
        "id": "sC7ERNOhkP1U",
        "outputId": "74625aa6-3d0c-4c43-f800-6b2495508580"
      },
      "execution_count": 53,
      "outputs": [
        {
          "output_type": "stream",
          "name": "stdout",
          "text": [
            "[Código 15 Saldo 500<<]\n"
          ]
        }
      ]
    },
    {
      "cell_type": "code",
      "source": [
        "account_Gui.deposit(100)"
      ],
      "metadata": {
        "id": "6ZRjlUzBkTld"
      },
      "execution_count": 54,
      "outputs": []
    },
    {
      "cell_type": "code",
      "source": [
        "print(accounts[0])"
      ],
      "metadata": {
        "colab": {
          "base_uri": "https://localhost:8080/"
        },
        "id": "CWN5-rGHkajY",
        "outputId": "c4ea34b1-bf3b-413d-ec36-bfc8ff2dfd67"
      },
      "execution_count": 55,
      "outputs": [
        {
          "output_type": "stream",
          "name": "stdout",
          "text": [
            "[Código 15 Saldo 600<<]\n"
          ]
        }
      ]
    },
    {
      "cell_type": "code",
      "source": [
        "print(accounts[2])"
      ],
      "metadata": {
        "colab": {
          "base_uri": "https://localhost:8080/"
        },
        "id": "SSH2zcYTk5nd",
        "outputId": "2cd6404b-88ce-4a69-c5fa-db22e826ac59"
      },
      "execution_count": 56,
      "outputs": [
        {
          "output_type": "stream",
          "name": "stdout",
          "text": [
            "[Código 15 Saldo 600<<]\n"
          ]
        }
      ]
    },
    {
      "cell_type": "code",
      "source": [
        "accounts[2].deposit(300)"
      ],
      "metadata": {
        "id": "MkqbYceulGyu"
      },
      "execution_count": 57,
      "outputs": []
    },
    {
      "cell_type": "code",
      "source": [
        "print(account_Gui)"
      ],
      "metadata": {
        "colab": {
          "base_uri": "https://localhost:8080/"
        },
        "id": "pL0RLN-TlOLZ",
        "outputId": "16726ee7-a2a2-4ec3-d6bd-694543cb0975"
      },
      "execution_count": 58,
      "outputs": [
        {
          "output_type": "stream",
          "name": "stdout",
          "text": [
            "[Código 15 Saldo 900<<]\n"
          ]
        }
      ]
    },
    {
      "cell_type": "code",
      "source": [
        "def deposit_all_accounts(accounts):\n",
        "  for account in accounts:\n",
        "    account.deposit(100)\n",
        "\n",
        "accounts = [account_Gui, account_Dri]\n",
        "print(accounts[0], accounts[1])\n",
        "deposit_all_accounts(accounts)\n",
        "print(accounts[0], accounts[1])"
      ],
      "metadata": {
        "colab": {
          "base_uri": "https://localhost:8080/"
        },
        "id": "m_Ev9tcjlfJ7",
        "outputId": "f0727e1c-2718-43ac-efa4-f714eec39e6f"
      },
      "execution_count": 59,
      "outputs": [
        {
          "output_type": "stream",
          "name": "stdout",
          "text": [
            "[Código 15 Saldo 900<<] [Código 47685 Saldo 1000<<]\n",
            "[Código 15 Saldo 1000<<] [Código 47685 Saldo 1100<<]\n"
          ]
        }
      ]
    },
    {
      "cell_type": "code",
      "source": [
        "accounts.insert(0, 76)\n",
        "print(accounts[0], accounts[1], accounts[2])\n"
      ],
      "metadata": {
        "colab": {
          "base_uri": "https://localhost:8080/"
        },
        "id": "bXDA_C_RmifW",
        "outputId": "b6322d70-f612-4a45-f51d-085cfccf71bb"
      },
      "execution_count": 60,
      "outputs": [
        {
          "output_type": "stream",
          "name": "stdout",
          "text": [
            "76 [Código 15 Saldo 1000<<] [Código 47685 Saldo 1100<<]\n"
          ]
        }
      ]
    },
    {
      "cell_type": "code",
      "source": [
        "deposit_all_accounts(accounts)\n",
        "print(accounts[0], accounts[1], accounts[2])"
      ],
      "metadata": {
        "colab": {
          "base_uri": "https://localhost:8080/",
          "height": 304
        },
        "id": "JzT2xkBXm93p",
        "outputId": "7f29d98d-0b8b-4054-dd97-c775b5d5e799"
      },
      "execution_count": 61,
      "outputs": [
        {
          "output_type": "error",
          "ename": "AttributeError",
          "evalue": "ignored",
          "traceback": [
            "\u001b[0;31m---------------------------------------------------------------------------\u001b[0m",
            "\u001b[0;31mAttributeError\u001b[0m                            Traceback (most recent call last)",
            "\u001b[0;32m<ipython-input-61-62c49e100961>\u001b[0m in \u001b[0;36m<module>\u001b[0;34m()\u001b[0m\n\u001b[0;32m----> 1\u001b[0;31m \u001b[0mdeposit_all_accounts\u001b[0m\u001b[0;34m(\u001b[0m\u001b[0maccounts\u001b[0m\u001b[0;34m)\u001b[0m\u001b[0;34m\u001b[0m\u001b[0;34m\u001b[0m\u001b[0m\n\u001b[0m\u001b[1;32m      2\u001b[0m \u001b[0mprint\u001b[0m\u001b[0;34m(\u001b[0m\u001b[0maccounts\u001b[0m\u001b[0;34m[\u001b[0m\u001b[0;36m0\u001b[0m\u001b[0;34m]\u001b[0m\u001b[0;34m,\u001b[0m \u001b[0maccounts\u001b[0m\u001b[0;34m[\u001b[0m\u001b[0;36m1\u001b[0m\u001b[0;34m]\u001b[0m\u001b[0;34m,\u001b[0m \u001b[0maccounts\u001b[0m\u001b[0;34m[\u001b[0m\u001b[0;36m2\u001b[0m\u001b[0;34m]\u001b[0m\u001b[0;34m)\u001b[0m\u001b[0;34m\u001b[0m\u001b[0;34m\u001b[0m\u001b[0m\n",
            "\u001b[0;32m<ipython-input-59-6ed583d1fafc>\u001b[0m in \u001b[0;36mdeposit_all_accounts\u001b[0;34m(accounts)\u001b[0m\n\u001b[1;32m      1\u001b[0m \u001b[0;32mdef\u001b[0m \u001b[0mdeposit_all_accounts\u001b[0m\u001b[0;34m(\u001b[0m\u001b[0maccounts\u001b[0m\u001b[0;34m)\u001b[0m\u001b[0;34m:\u001b[0m\u001b[0;34m\u001b[0m\u001b[0;34m\u001b[0m\u001b[0m\n\u001b[1;32m      2\u001b[0m   \u001b[0;32mfor\u001b[0m \u001b[0maccount\u001b[0m \u001b[0;32min\u001b[0m \u001b[0maccounts\u001b[0m\u001b[0;34m:\u001b[0m\u001b[0;34m\u001b[0m\u001b[0;34m\u001b[0m\u001b[0m\n\u001b[0;32m----> 3\u001b[0;31m     \u001b[0maccount\u001b[0m\u001b[0;34m.\u001b[0m\u001b[0mdeposit\u001b[0m\u001b[0;34m(\u001b[0m\u001b[0;36m100\u001b[0m\u001b[0;34m)\u001b[0m\u001b[0;34m\u001b[0m\u001b[0;34m\u001b[0m\u001b[0m\n\u001b[0m\u001b[1;32m      4\u001b[0m \u001b[0;34m\u001b[0m\u001b[0m\n\u001b[1;32m      5\u001b[0m \u001b[0maccounts\u001b[0m \u001b[0;34m=\u001b[0m \u001b[0;34m[\u001b[0m\u001b[0maccount_Gui\u001b[0m\u001b[0;34m,\u001b[0m \u001b[0maccount_Dri\u001b[0m\u001b[0;34m]\u001b[0m\u001b[0;34m\u001b[0m\u001b[0;34m\u001b[0m\u001b[0m\n",
            "\u001b[0;31mAttributeError\u001b[0m: 'int' object has no attribute 'deposit'"
          ]
        }
      ]
    },
    {
      "cell_type": "code",
      "source": [
        "guilherme = ('Guilherme', 37, 1981) # Tupla\n",
        "daniela = ('Daniela', 31, 1987)\n",
        "# paulo = (39, 'Paulo', 1979) # Prática ruim"
      ],
      "metadata": {
        "id": "kNC7ZAG_nimz"
      },
      "execution_count": 62,
      "outputs": []
    },
    {
      "cell_type": "code",
      "source": [
        "guilherme.append(6754)"
      ],
      "metadata": {
        "colab": {
          "base_uri": "https://localhost:8080/",
          "height": 165
        },
        "id": "20M5pNECoQ0y",
        "outputId": "3e3f8408-2789-4030-83c2-5544a505f58b"
      },
      "execution_count": 63,
      "outputs": [
        {
          "output_type": "error",
          "ename": "AttributeError",
          "evalue": "ignored",
          "traceback": [
            "\u001b[0;31m---------------------------------------------------------------------------\u001b[0m",
            "\u001b[0;31mAttributeError\u001b[0m                            Traceback (most recent call last)",
            "\u001b[0;32m<ipython-input-63-b58a3f93fa55>\u001b[0m in \u001b[0;36m<module>\u001b[0;34m()\u001b[0m\n\u001b[0;32m----> 1\u001b[0;31m \u001b[0mguilherme\u001b[0m\u001b[0;34m.\u001b[0m\u001b[0mappend\u001b[0m\u001b[0;34m(\u001b[0m\u001b[0;36m6754\u001b[0m\u001b[0;34m)\u001b[0m\u001b[0;34m\u001b[0m\u001b[0;34m\u001b[0m\u001b[0m\n\u001b[0m",
            "\u001b[0;31mAttributeError\u001b[0m: 'tuple' object has no attribute 'append'"
          ]
        }
      ]
    },
    {
      "cell_type": "code",
      "source": [
        "account_Gui = (15, 1000)\n",
        "# account_gui.deposit() # Variação OO\n",
        "\n",
        "# def deposit(account): # Variação Funcional\n",
        "account_Gui[1]"
      ],
      "metadata": {
        "colab": {
          "base_uri": "https://localhost:8080/"
        },
        "id": "RV4akN0Vp5B7",
        "outputId": "65f3b049-75d6-4c59-d272-adaa3960dab4"
      },
      "execution_count": 64,
      "outputs": [
        {
          "output_type": "execute_result",
          "data": {
            "text/plain": [
              "1000"
            ]
          },
          "metadata": {},
          "execution_count": 64
        }
      ]
    },
    {
      "cell_type": "code",
      "source": [
        "account_Gui[1] += 100"
      ],
      "metadata": {
        "colab": {
          "base_uri": "https://localhost:8080/",
          "height": 165
        },
        "id": "yOeYYkRPqjvR",
        "outputId": "fa4e1d4d-ce47-4962-be30-ae7da3a898ee"
      },
      "execution_count": 65,
      "outputs": [
        {
          "output_type": "error",
          "ename": "TypeError",
          "evalue": "ignored",
          "traceback": [
            "\u001b[0;31m---------------------------------------------------------------------------\u001b[0m",
            "\u001b[0;31mTypeError\u001b[0m                                 Traceback (most recent call last)",
            "\u001b[0;32m<ipython-input-65-fda536f28612>\u001b[0m in \u001b[0;36m<module>\u001b[0;34m()\u001b[0m\n\u001b[0;32m----> 1\u001b[0;31m \u001b[0maccount_Gui\u001b[0m\u001b[0;34m[\u001b[0m\u001b[0;36m1\u001b[0m\u001b[0;34m]\u001b[0m \u001b[0;34m+=\u001b[0m \u001b[0;36m100\u001b[0m\u001b[0;34m\u001b[0m\u001b[0;34m\u001b[0m\u001b[0m\n\u001b[0m",
            "\u001b[0;31mTypeError\u001b[0m: 'tuple' object does not support item assignment"
          ]
        }
      ]
    },
    {
      "cell_type": "code",
      "source": [
        "def deposit(account): # Variação \"Funcionao\" (separando o comportamento dos dados)\n",
        "  new_balance = account_Gui[1] + 100\n",
        "  code = account[0]\n",
        "  return (code, new_balance)"
      ],
      "metadata": {
        "id": "KEuRCzAnqrrA"
      },
      "execution_count": 66,
      "outputs": []
    },
    {
      "cell_type": "code",
      "source": [
        "deposit(account_Gui)"
      ],
      "metadata": {
        "colab": {
          "base_uri": "https://localhost:8080/"
        },
        "id": "KnGOARDyrHP7",
        "outputId": "1a5aca66-a802-40a6-e145-445461aea7a4"
      },
      "execution_count": 67,
      "outputs": [
        {
          "output_type": "execute_result",
          "data": {
            "text/plain": [
              "(15, 1100)"
            ]
          },
          "metadata": {},
          "execution_count": 67
        }
      ]
    },
    {
      "cell_type": "code",
      "source": [
        "account_Gui"
      ],
      "metadata": {
        "id": "5abjEzOirTJD"
      },
      "execution_count": null,
      "outputs": []
    },
    {
      "cell_type": "code",
      "source": [
        "account_Gui = deposit(account_Gui)\n",
        "account_Gui"
      ],
      "metadata": {
        "colab": {
          "base_uri": "https://localhost:8080/"
        },
        "id": "DegW2Y_TrYYi",
        "outputId": "465e03ec-e3f8-4699-a59d-79ee0ac523d2"
      },
      "execution_count": 69,
      "outputs": [
        {
          "output_type": "execute_result",
          "data": {
            "text/plain": [
              "(15, 1100)"
            ]
          },
          "metadata": {},
          "execution_count": 69
        }
      ]
    },
    {
      "cell_type": "code",
      "source": [
        "users = [guilherme, daniela]"
      ],
      "metadata": {
        "id": "M5wBORBPskcd"
      },
      "execution_count": 70,
      "outputs": []
    },
    {
      "cell_type": "code",
      "source": [
        "users.append(('Paulo', 39, 1979))"
      ],
      "metadata": {
        "id": "K-pemqqSscd4"
      },
      "execution_count": 71,
      "outputs": []
    },
    {
      "cell_type": "code",
      "source": [
        "users"
      ],
      "metadata": {
        "colab": {
          "base_uri": "https://localhost:8080/"
        },
        "id": "V6WFAQ0bsv7e",
        "outputId": "2d1b86bf-a741-4ad9-d79c-cb5702f68179"
      },
      "execution_count": 72,
      "outputs": [
        {
          "output_type": "execute_result",
          "data": {
            "text/plain": [
              "[('Guilherme', 37, 1981), ('Daniela', 31, 1987), ('Paulo', 39, 1979)]"
            ]
          },
          "metadata": {},
          "execution_count": 72
        }
      ]
    },
    {
      "cell_type": "code",
      "source": [
        "users[0][0] = 'Guilherme Silveira'"
      ],
      "metadata": {
        "colab": {
          "base_uri": "https://localhost:8080/",
          "height": 165
        },
        "id": "zFq180IFsz8c",
        "outputId": "7eaff331-763a-49ce-82c6-d680196cb53b"
      },
      "execution_count": 73,
      "outputs": [
        {
          "output_type": "error",
          "ename": "TypeError",
          "evalue": "ignored",
          "traceback": [
            "\u001b[0;31m---------------------------------------------------------------------------\u001b[0m",
            "\u001b[0;31mTypeError\u001b[0m                                 Traceback (most recent call last)",
            "\u001b[0;32m<ipython-input-73-28b8c51f6da6>\u001b[0m in \u001b[0;36m<module>\u001b[0;34m()\u001b[0m\n\u001b[0;32m----> 1\u001b[0;31m \u001b[0musers\u001b[0m\u001b[0;34m[\u001b[0m\u001b[0;36m0\u001b[0m\u001b[0;34m]\u001b[0m\u001b[0;34m[\u001b[0m\u001b[0;36m0\u001b[0m\u001b[0;34m]\u001b[0m \u001b[0;34m=\u001b[0m \u001b[0;34m'Guilherme Silveira'\u001b[0m\u001b[0;34m\u001b[0m\u001b[0;34m\u001b[0m\u001b[0m\n\u001b[0m",
            "\u001b[0;31mTypeError\u001b[0m: 'tuple' object does not support item assignment"
          ]
        }
      ]
    },
    {
      "cell_type": "code",
      "source": [
        "account_Gui = CheckingAccount(15)\n",
        "account_Gui.deposit(500)\n",
        "account_Dri = CheckingAccount(234876)\n",
        "account_Dri.deposit(1000)\n",
        "\n",
        "accounts = (account_Gui, account_Dri)"
      ],
      "metadata": {
        "id": "sGE_uKw3s57_"
      },
      "execution_count": 74,
      "outputs": []
    },
    {
      "cell_type": "code",
      "source": [
        "accounts"
      ],
      "metadata": {
        "colab": {
          "base_uri": "https://localhost:8080/"
        },
        "id": "1MtwmWDNttzg",
        "outputId": "87c556d5-6099-4b5e-87e2-fc66a9d152c6"
      },
      "execution_count": 75,
      "outputs": [
        {
          "output_type": "execute_result",
          "data": {
            "text/plain": [
              "(<__main__.CheckingAccount at 0x7fb1594ce0d0>,\n",
              " <__main__.CheckingAccount at 0x7fb1594ce150>)"
            ]
          },
          "metadata": {},
          "execution_count": 75
        }
      ]
    },
    {
      "cell_type": "code",
      "source": [
        "for account in accounts:\n",
        "  print(account)"
      ],
      "metadata": {
        "colab": {
          "base_uri": "https://localhost:8080/"
        },
        "id": "YYcVFoV_tw2v",
        "outputId": "b67191e8-e12d-429c-e991-4aca3e81ffa0"
      },
      "execution_count": 76,
      "outputs": [
        {
          "output_type": "stream",
          "name": "stdout",
          "text": [
            "[Código 15 Saldo 500<<]\n",
            "[Código 234876 Saldo 1000<<]\n"
          ]
        }
      ]
    },
    {
      "cell_type": "code",
      "source": [
        "accounts.append(234876)"
      ],
      "metadata": {
        "colab": {
          "base_uri": "https://localhost:8080/",
          "height": 165
        },
        "id": "Aym8ruI7t2_b",
        "outputId": "5961aa69-96f8-4069-efa7-7ae052fda2e7"
      },
      "execution_count": 77,
      "outputs": [
        {
          "output_type": "error",
          "ename": "AttributeError",
          "evalue": "ignored",
          "traceback": [
            "\u001b[0;31m---------------------------------------------------------------------------\u001b[0m",
            "\u001b[0;31mAttributeError\u001b[0m                            Traceback (most recent call last)",
            "\u001b[0;32m<ipython-input-77-d6677df71de5>\u001b[0m in \u001b[0;36m<module>\u001b[0;34m()\u001b[0m\n\u001b[0;32m----> 1\u001b[0;31m \u001b[0maccounts\u001b[0m\u001b[0;34m.\u001b[0m\u001b[0mappend\u001b[0m\u001b[0;34m(\u001b[0m\u001b[0;36m234876\u001b[0m\u001b[0;34m)\u001b[0m\u001b[0;34m\u001b[0m\u001b[0;34m\u001b[0m\u001b[0m\n\u001b[0m",
            "\u001b[0;31mAttributeError\u001b[0m: 'tuple' object has no attribute 'append'"
          ]
        }
      ]
    },
    {
      "cell_type": "code",
      "source": [
        "accounts[0].deposit(300)"
      ],
      "metadata": {
        "id": "v7hV61-ZuK4y"
      },
      "execution_count": 78,
      "outputs": []
    },
    {
      "cell_type": "code",
      "source": [
        "for account in accounts:\n",
        "  print(account)"
      ],
      "metadata": {
        "colab": {
          "base_uri": "https://localhost:8080/"
        },
        "id": "RF-yz9f7uOC1",
        "outputId": "ad9595ca-3adc-4756-cac1-817e079cf336"
      },
      "execution_count": 79,
      "outputs": [
        {
          "output_type": "stream",
          "name": "stdout",
          "text": [
            "[Código 15 Saldo 800<<]\n",
            "[Código 234876 Saldo 1000<<]\n"
          ]
        }
      ]
    },
    {
      "cell_type": "markdown",
      "source": [
        "# Working with inheritance and polymorphism"
      ],
      "metadata": {
        "id": "DJi4lU0rwkaw"
      }
    },
    {
      "cell_type": "code",
      "source": [
        "from abc import ABCMeta, abstractmethod\n",
        "\n",
        "class Account(metaclass=ABCMeta):\n",
        "  def __init__(self, code):\n",
        "    self._code = code\n",
        "    self._balance = 0\n",
        "\n",
        "  def deposit(self, value):\n",
        "    self._balance += value;\n",
        "\n",
        "  @abstractmethod\n",
        "  def month_passes(self):\n",
        "    pass\n",
        "\n",
        "  def __str__(self):\n",
        "    return f\"[Código {self._code} Saldo {self._balance}<<]\""
      ],
      "metadata": {
        "id": "nR8vKgsHwpxK"
      },
      "execution_count": 80,
      "outputs": []
    },
    {
      "cell_type": "code",
      "source": [
        "print(Account(88))"
      ],
      "metadata": {
        "colab": {
          "base_uri": "https://localhost:8080/",
          "height": 165
        },
        "id": "dSFJkJbixGEb",
        "outputId": "edee8bbc-f2ac-4476-d21f-b9d2781341e2"
      },
      "execution_count": 81,
      "outputs": [
        {
          "output_type": "error",
          "ename": "TypeError",
          "evalue": "ignored",
          "traceback": [
            "\u001b[0;31m---------------------------------------------------------------------------\u001b[0m",
            "\u001b[0;31mTypeError\u001b[0m                                 Traceback (most recent call last)",
            "\u001b[0;32m<ipython-input-81-ca409f7af67a>\u001b[0m in \u001b[0;36m<module>\u001b[0;34m()\u001b[0m\n\u001b[0;32m----> 1\u001b[0;31m \u001b[0mprint\u001b[0m\u001b[0;34m(\u001b[0m\u001b[0mAccount\u001b[0m\u001b[0;34m(\u001b[0m\u001b[0;36m88\u001b[0m\u001b[0;34m)\u001b[0m\u001b[0;34m)\u001b[0m\u001b[0;34m\u001b[0m\u001b[0;34m\u001b[0m\u001b[0m\n\u001b[0m",
            "\u001b[0;31mTypeError\u001b[0m: Can't instantiate abstract class Account with abstract methods month_passes"
          ]
        }
      ]
    },
    {
      "cell_type": "code",
      "source": [
        "class CheckingAccount(Account):\n",
        "\n",
        "    def month_passes(self):\n",
        "      self._balance -= 2\n",
        "\n",
        "class SavingsAccount(Account):\n",
        "\n",
        "    def month_passes(self):\n",
        "      self._balance *= 1.01\n",
        "      self._balance -= 3\n",
        "\n",
        "class InvestmentAccount(Account):\n",
        "    pass"
      ],
      "metadata": {
        "id": "RUXbyz7gxM-I"
      },
      "execution_count": 82,
      "outputs": []
    },
    {
      "cell_type": "code",
      "source": [
        "InvestmentAccount(765)"
      ],
      "metadata": {
        "colab": {
          "base_uri": "https://localhost:8080/",
          "height": 165
        },
        "id": "JSzdOZot22kY",
        "outputId": "27e8f5a0-3db6-4668-a524-2bab2dd65495"
      },
      "execution_count": 83,
      "outputs": [
        {
          "output_type": "error",
          "ename": "TypeError",
          "evalue": "ignored",
          "traceback": [
            "\u001b[0;31m---------------------------------------------------------------------------\u001b[0m",
            "\u001b[0;31mTypeError\u001b[0m                                 Traceback (most recent call last)",
            "\u001b[0;32m<ipython-input-83-511f2c6bd09f>\u001b[0m in \u001b[0;36m<module>\u001b[0;34m()\u001b[0m\n\u001b[0;32m----> 1\u001b[0;31m \u001b[0mInvestmentAccount\u001b[0m\u001b[0;34m(\u001b[0m\u001b[0;36m765\u001b[0m\u001b[0;34m)\u001b[0m\u001b[0;34m\u001b[0m\u001b[0;34m\u001b[0m\u001b[0m\n\u001b[0m",
            "\u001b[0;31mTypeError\u001b[0m: Can't instantiate abstract class InvestmentAccount with abstract methods month_passes"
          ]
        }
      ]
    },
    {
      "cell_type": "code",
      "source": [
        "account16 = CheckingAccount(16)\n",
        "account16.deposit(1000)\n",
        "account16.month_passes()\n",
        "print(account16)"
      ],
      "metadata": {
        "colab": {
          "base_uri": "https://localhost:8080/"
        },
        "id": "tpG2kO6fx-m4",
        "outputId": "9b3ab802-2662-4d8d-a9bb-b89b9f79c92c"
      },
      "execution_count": 84,
      "outputs": [
        {
          "output_type": "stream",
          "name": "stdout",
          "text": [
            "[Código 16 Saldo 998<<]\n"
          ]
        }
      ]
    },
    {
      "cell_type": "code",
      "source": [
        "account17 = SavingsAccount(17)\n",
        "account17.deposit(1000)\n",
        "account17.month_passes()\n",
        "print(account17)"
      ],
      "metadata": {
        "colab": {
          "base_uri": "https://localhost:8080/"
        },
        "id": "vP0lokdLypxJ",
        "outputId": "f85613f4-8a15-49ee-859a-71d598491ab1"
      },
      "execution_count": 85,
      "outputs": [
        {
          "output_type": "stream",
          "name": "stdout",
          "text": [
            "[Código 17 Saldo 1007.0<<]\n"
          ]
        }
      ]
    },
    {
      "cell_type": "code",
      "source": [
        "account16 = CheckingAccount(16)\n",
        "account16.deposit(1000)\n",
        "account17 = SavingsAccount(17)\n",
        "account17.deposit(1000)\n",
        "accounts = [account16, account17]\n",
        "\n",
        "for account in accounts:\n",
        "  account.month_passes()  # duck type\n",
        "  print(account)"
      ],
      "metadata": {
        "colab": {
          "base_uri": "https://localhost:8080/"
        },
        "id": "AzPknHIWzCHZ",
        "outputId": "63f3fec7-f405-4703-abc1-ec2dd686eb2b"
      },
      "execution_count": 86,
      "outputs": [
        {
          "output_type": "stream",
          "name": "stdout",
          "text": [
            "[Código 16 Saldo 998<<]\n",
            "[Código 17 Saldo 1007.0<<]\n"
          ]
        }
      ]
    },
    {
      "cell_type": "markdown",
      "source": [
        "# Array, we will avoid using\n"
      ],
      "metadata": {
        "id": "Svb3A9SCz5rh"
      }
    },
    {
      "cell_type": "markdown",
      "source": [
        "# we will avoid using pure array, if we need to work with numeric, it is customary to use NumPy"
      ],
      "metadata": {
        "id": "pGxDilMJ2XAN"
      }
    },
    {
      "cell_type": "code",
      "source": [
        "import array as arr\n",
        "\n",
        "arr.array('d', [1, 3.5])"
      ],
      "metadata": {
        "colab": {
          "base_uri": "https://localhost:8080/"
        },
        "id": "xcoTMBqozyll",
        "outputId": "2471ae81-8d45-40eb-971f-ec75d0ef94f9"
      },
      "execution_count": 87,
      "outputs": [
        {
          "output_type": "execute_result",
          "data": {
            "text/plain": [
              "array('d', [1.0, 3.5])"
            ]
          },
          "metadata": {},
          "execution_count": 87
        }
      ]
    },
    {
      "cell_type": "code",
      "source": [
        "!pip install numpy"
      ],
      "metadata": {
        "colab": {
          "base_uri": "https://localhost:8080/"
        },
        "id": "WykDwZ2S1rjt",
        "outputId": "249df86e-920d-48b7-b913-4eaed204630a"
      },
      "execution_count": 88,
      "outputs": [
        {
          "output_type": "stream",
          "name": "stdout",
          "text": [
            "Requirement already satisfied: numpy in /usr/local/lib/python3.7/dist-packages (1.21.6)\n"
          ]
        }
      ]
    },
    {
      "cell_type": "code",
      "source": [
        "import numpy as np\n",
        "\n",
        "numbers = np.array([1, 3.5])\n",
        "numbers"
      ],
      "metadata": {
        "colab": {
          "base_uri": "https://localhost:8080/"
        },
        "id": "PD6XLv3c1ns5",
        "outputId": "aa241b57-c51b-41af-a622-df62ff20c9bb"
      },
      "execution_count": 89,
      "outputs": [
        {
          "output_type": "execute_result",
          "data": {
            "text/plain": [
              "array([1. , 3.5])"
            ]
          },
          "metadata": {},
          "execution_count": 89
        }
      ]
    },
    {
      "cell_type": "code",
      "source": [
        "numbers + 3"
      ],
      "metadata": {
        "colab": {
          "base_uri": "https://localhost:8080/"
        },
        "id": "lkdBy9wy13TR",
        "outputId": "7d07098a-5108-4bb1-8186-31c259f80a46"
      },
      "execution_count": 90,
      "outputs": [
        {
          "output_type": "execute_result",
          "data": {
            "text/plain": [
              "array([4. , 6.5])"
            ]
          },
          "metadata": {},
          "execution_count": 90
        }
      ]
    },
    {
      "cell_type": "code",
      "source": [
        "class SalaryAccount:\n",
        "\n",
        "  def __init__(self, code):\n",
        "    self._code = code\n",
        "    self._balance = 0\n",
        "\n",
        "  def __eq__(self, other):\n",
        "    return self._code == other._code\n",
        "\n",
        "  def deposit(self, value):\n",
        "    self._balance += value\n",
        "\n",
        "  def __str__(self):\n",
        "    return f\"[>>Código: {self._code} - Saldo: R${self._balance}<<]\""
      ],
      "metadata": {
        "id": "okZx8Iuy2Yzf"
      },
      "execution_count": 91,
      "outputs": []
    },
    {
      "cell_type": "code",
      "source": [
        "account1 = SalaryAccount(37)\n",
        "print(account1)"
      ],
      "metadata": {
        "colab": {
          "base_uri": "https://localhost:8080/"
        },
        "id": "qKhtY_jp-foi",
        "outputId": "bc93e904-aaf5-4131-8f51-c2864ac4d268"
      },
      "execution_count": 92,
      "outputs": [
        {
          "output_type": "stream",
          "name": "stdout",
          "text": [
            "[>>Código: 37 - Saldo: R$0<<]\n"
          ]
        }
      ]
    },
    {
      "cell_type": "code",
      "source": [
        "account2 = SalaryAccount(37)\n",
        "print(account2)"
      ],
      "metadata": {
        "colab": {
          "base_uri": "https://localhost:8080/"
        },
        "id": "NFTbQSh1-ruh",
        "outputId": "f78987da-5ea1-47da-c86b-dbef8f6ac923"
      },
      "execution_count": 93,
      "outputs": [
        {
          "output_type": "stream",
          "name": "stdout",
          "text": [
            "[>>Código: 37 - Saldo: R$0<<]\n"
          ]
        }
      ]
    },
    {
      "cell_type": "code",
      "source": [
        "account1 == account2"
      ],
      "metadata": {
        "colab": {
          "base_uri": "https://localhost:8080/"
        },
        "id": "xrRowVQ1-3W4",
        "outputId": "1b5a17b7-ddef-4fcd-aca6-529c40b9ee2d"
      },
      "execution_count": 94,
      "outputs": [
        {
          "output_type": "execute_result",
          "data": {
            "text/plain": [
              "True"
            ]
          },
          "metadata": {},
          "execution_count": 94
        }
      ]
    },
    {
      "cell_type": "code",
      "source": [
        "accounts = [account1]\n",
        "account1 in accounts"
      ],
      "metadata": {
        "colab": {
          "base_uri": "https://localhost:8080/"
        },
        "id": "eBA-h_Lk-6YJ",
        "outputId": "e6376c81-0971-4de3-9981-26d14b05c4a4"
      },
      "execution_count": 95,
      "outputs": [
        {
          "output_type": "execute_result",
          "data": {
            "text/plain": [
              "True"
            ]
          },
          "metadata": {},
          "execution_count": 95
        }
      ]
    },
    {
      "cell_type": "code",
      "source": [
        "account2 in accounts"
      ],
      "metadata": {
        "colab": {
          "base_uri": "https://localhost:8080/"
        },
        "id": "Qj5yBIj__H3S",
        "outputId": "d27e0f9d-bf12-4351-895c-dc4632a9ab38"
      },
      "execution_count": 96,
      "outputs": [
        {
          "output_type": "execute_result",
          "data": {
            "text/plain": [
              "True"
            ]
          },
          "metadata": {},
          "execution_count": 96
        }
      ]
    },
    {
      "cell_type": "code",
      "source": [
        "account1 in [account2]\n",
        "account2 in [account1]"
      ],
      "metadata": {
        "colab": {
          "base_uri": "https://localhost:8080/"
        },
        "id": "h2tiWueC_KTi",
        "outputId": "9f05c680-99df-47f4-9c4a-117cabae31f9"
      },
      "execution_count": 97,
      "outputs": [
        {
          "output_type": "execute_result",
          "data": {
            "text/plain": [
              "True"
            ]
          },
          "metadata": {},
          "execution_count": 97
        }
      ]
    },
    {
      "cell_type": "code",
      "source": [
        "class SalaryAccount:\n",
        "\n",
        "  def __init__(self, code):\n",
        "    self._code = code\n",
        "    self._balance = 0\n",
        "\n",
        "  def __eq__(self, other):\n",
        "    return self._code == other._code and self._balance == other._balance\n",
        "\n",
        "  def deposit(self, value):\n",
        "    self._balance += value\n",
        "\n",
        "  def __str__(self):\n",
        "    return f\"[>>Código: {self._code} - Saldo: R${self._balance}<<]\""
      ],
      "metadata": {
        "id": "kQ-7qqEzBhCx"
      },
      "execution_count": 98,
      "outputs": []
    },
    {
      "cell_type": "code",
      "source": [
        "account1 = SalaryAccount(37)\n",
        "account2 = SalaryAccount(37)\n",
        "account1 == account2"
      ],
      "metadata": {
        "colab": {
          "base_uri": "https://localhost:8080/"
        },
        "id": "NfXtY-bLBs7-",
        "outputId": "24d696bc-d531-419b-ea3e-35c4359ac4f5"
      },
      "execution_count": 99,
      "outputs": [
        {
          "output_type": "execute_result",
          "data": {
            "text/plain": [
              "True"
            ]
          },
          "metadata": {},
          "execution_count": 99
        }
      ]
    },
    {
      "cell_type": "code",
      "source": [
        "account1.deposit(10)"
      ],
      "metadata": {
        "id": "cqyH0o46B4P-"
      },
      "execution_count": 100,
      "outputs": []
    },
    {
      "cell_type": "code",
      "source": [
        "account1 == account2"
      ],
      "metadata": {
        "colab": {
          "base_uri": "https://localhost:8080/"
        },
        "id": "wmApbwpRCBTB",
        "outputId": "23bb9f62-b044-4c42-da90-adb05891f72d"
      },
      "execution_count": 101,
      "outputs": [
        {
          "output_type": "execute_result",
          "data": {
            "text/plain": [
              "False"
            ]
          },
          "metadata": {},
          "execution_count": 101
        }
      ]
    },
    {
      "cell_type": "code",
      "source": [
        "class SalaryAccount:\n",
        "\n",
        "  def __init__(self, code):\n",
        "    self._code = code\n",
        "    self._balance = 0\n",
        "\n",
        "  def __eq__(self, other):\n",
        "    if type(other) != SalaryAccount:\n",
        "      return False\n",
        "\n",
        "    return self._code == other._code and self._balance == other._balance\n",
        "\n",
        "  def deposit(self, value):\n",
        "    self._balance += value\n",
        "\n",
        "  def __str__(self):\n",
        "    return f\"[>>Código: {self._code} - Saldo: R${self._balance}<<]\""
      ],
      "metadata": {
        "id": "QybuU0w4CC60"
      },
      "execution_count": 102,
      "outputs": []
    },
    {
      "cell_type": "code",
      "source": [
        "account1 = SalaryAccount(37)\n",
        "account2 = CheckingAccount(37)\n"
      ],
      "metadata": {
        "id": "3T82vYt6Cfeb"
      },
      "execution_count": 103,
      "outputs": []
    },
    {
      "cell_type": "code",
      "source": [
        "account1 == account2"
      ],
      "metadata": {
        "colab": {
          "base_uri": "https://localhost:8080/"
        },
        "id": "g3UatXLGCrv-",
        "outputId": "ae6c6e2a-cda8-4db8-8401-7a975c8d81c8"
      },
      "execution_count": 104,
      "outputs": [
        {
          "output_type": "execute_result",
          "data": {
            "text/plain": [
              "False"
            ]
          },
          "metadata": {},
          "execution_count": 104
        }
      ]
    },
    {
      "cell_type": "code",
      "source": [
        "class SalaryAccount:\n",
        "\n",
        "  def __init__(self, code):\n",
        "    self._code = code\n",
        "    self._balance = 0\n",
        "\n",
        "  def __eq__(self, other):\n",
        "    if type(other) != SalaryAccount:\n",
        "      return False\n",
        "\n",
        "    return self._code == other._code and self._balance == other._balance\n",
        "\n",
        "  def deposit(self, value):\n",
        "    self._balance += value\n",
        "\n",
        "  def __str__(self):\n",
        "    return f\"[>>Código: {self._code} - Saldo: R${self._balance}<<]\"\n",
        "\n",
        "class MultipleSalaryAccount(SalaryAccount):\n",
        "  pass\n"
      ],
      "metadata": {
        "id": "9PclK72ZCyYD"
      },
      "execution_count": 105,
      "outputs": []
    },
    {
      "cell_type": "code",
      "source": [
        "account1 = SalaryAccount(37)\n",
        "account2 = CheckingAccount(37)\n",
        "isinstance(CheckingAccount(34), CheckingAccount)"
      ],
      "metadata": {
        "colab": {
          "base_uri": "https://localhost:8080/"
        },
        "id": "9FPA5tExDDQR",
        "outputId": "2f20ead5-736c-4638-c1fc-9be40337cceb"
      },
      "execution_count": 106,
      "outputs": [
        {
          "output_type": "execute_result",
          "data": {
            "text/plain": [
              "True"
            ]
          },
          "metadata": {},
          "execution_count": 106
        }
      ]
    },
    {
      "cell_type": "code",
      "source": [
        "isinstance(CheckingAccount(34), Account)"
      ],
      "metadata": {
        "colab": {
          "base_uri": "https://localhost:8080/"
        },
        "id": "37jRXf76Db7N",
        "outputId": "247702d7-0b8c-468e-b4b7-ee6cb5bf3b72"
      },
      "execution_count": 107,
      "outputs": [
        {
          "output_type": "execute_result",
          "data": {
            "text/plain": [
              "True"
            ]
          },
          "metadata": {},
          "execution_count": 107
        }
      ]
    },
    {
      "cell_type": "code",
      "source": [
        "ages = [15, 87, 32, 65, 56, 32, 49, 37]\n",
        "\n",
        "for i in range(len(ages)):\n",
        "  print(i, ages[i])"
      ],
      "metadata": {
        "colab": {
          "base_uri": "https://localhost:8080/"
        },
        "id": "x-V0-uI4DjSq",
        "outputId": "1a630827-ca10-4248-dc26-7c0a69b8b29a"
      },
      "execution_count": 108,
      "outputs": [
        {
          "output_type": "stream",
          "name": "stdout",
          "text": [
            "0 15\n",
            "1 87\n",
            "2 32\n",
            "3 65\n",
            "4 56\n",
            "5 32\n",
            "6 49\n",
            "7 37\n"
          ]
        }
      ]
    },
    {
      "cell_type": "code",
      "source": [
        "enumerate(ages) # lazy...."
      ],
      "metadata": {
        "colab": {
          "base_uri": "https://localhost:8080/"
        },
        "id": "GcHLgHMvENrf",
        "outputId": "00423dac-20c4-4ce5-e77f-12c0bf6eef60"
      },
      "execution_count": 109,
      "outputs": [
        {
          "output_type": "execute_result",
          "data": {
            "text/plain": [
              "<enumerate at 0x7fb1594d90a0>"
            ]
          },
          "metadata": {},
          "execution_count": 109
        }
      ]
    },
    {
      "cell_type": "code",
      "source": [
        "range(len(ages)) # lazy...."
      ],
      "metadata": {
        "colab": {
          "base_uri": "https://localhost:8080/"
        },
        "id": "6yZiN0nMFj6i",
        "outputId": "21b96049-816f-4316-be88-bb56b525f777"
      },
      "execution_count": 110,
      "outputs": [
        {
          "output_type": "execute_result",
          "data": {
            "text/plain": [
              "range(0, 8)"
            ]
          },
          "metadata": {},
          "execution_count": 110
        }
      ]
    },
    {
      "cell_type": "code",
      "source": [
        "list(range(len(ages))) # forced the generation of values"
      ],
      "metadata": {
        "colab": {
          "base_uri": "https://localhost:8080/"
        },
        "id": "tqrvWFmqFpbw",
        "outputId": "50624979-20e7-4bb2-abf9-bbeff8507205"
      },
      "execution_count": 111,
      "outputs": [
        {
          "output_type": "execute_result",
          "data": {
            "text/plain": [
              "[0, 1, 2, 3, 4, 5, 6, 7]"
            ]
          },
          "metadata": {},
          "execution_count": 111
        }
      ]
    },
    {
      "cell_type": "code",
      "source": [
        "list(enumerate(ages))"
      ],
      "metadata": {
        "colab": {
          "base_uri": "https://localhost:8080/"
        },
        "id": "pdzBgn10GUEF",
        "outputId": "2ec0b04c-5de3-4de3-e45e-b70cd7731e03"
      },
      "execution_count": 112,
      "outputs": [
        {
          "output_type": "execute_result",
          "data": {
            "text/plain": [
              "[(0, 15), (1, 87), (2, 32), (3, 65), (4, 56), (5, 32), (6, 49), (7, 37)]"
            ]
          },
          "metadata": {},
          "execution_count": 112
        }
      ]
    },
    {
      "cell_type": "code",
      "source": [
        "for indice, age in enumerate(ages): #unpacking tupla\n",
        "  print(indice, \"x\", age)"
      ],
      "metadata": {
        "colab": {
          "base_uri": "https://localhost:8080/"
        },
        "id": "CkmrA41bGgo7",
        "outputId": "e3cd7358-6d33-46ad-e9b5-e72779aed7a0"
      },
      "execution_count": 113,
      "outputs": [
        {
          "output_type": "stream",
          "name": "stdout",
          "text": [
            "0 x 15\n",
            "1 x 87\n",
            "2 x 32\n",
            "3 x 65\n",
            "4 x 56\n",
            "5 x 32\n",
            "6 x 49\n",
            "7 x 37\n"
          ]
        }
      ]
    },
    {
      "cell_type": "code",
      "source": [
        "users = [\n",
        "         (\"Guilherme\", 37, 1981),\n",
        "         (\"Daniela\", 31, 1971),\n",
        "         (\"Paulo\", 39, 1979)\n",
        "]\n",
        "for name, age, birth in users: # already unpacking\n",
        "  print(name)"
      ],
      "metadata": {
        "colab": {
          "base_uri": "https://localhost:8080/"
        },
        "id": "LsiPMOaxGwCO",
        "outputId": "d20e015b-ed17-4716-d018-bc40279c7be2"
      },
      "execution_count": 114,
      "outputs": [
        {
          "output_type": "stream",
          "name": "stdout",
          "text": [
            "Guilherme\n",
            "Daniela\n",
            "Paulo\n"
          ]
        }
      ]
    },
    {
      "cell_type": "code",
      "source": [
        "for name, _, _ in users: # already unpacking, ignoring the rest\n",
        "  print(name)"
      ],
      "metadata": {
        "colab": {
          "base_uri": "https://localhost:8080/"
        },
        "id": "rauflZ7PHnFf",
        "outputId": "17e347bd-479e-4c25-b956-def81324f388"
      },
      "execution_count": 115,
      "outputs": [
        {
          "output_type": "stream",
          "name": "stdout",
          "text": [
            "Guilherme\n",
            "Daniela\n",
            "Paulo\n"
          ]
        }
      ]
    },
    {
      "cell_type": "code",
      "source": [
        "ages"
      ],
      "metadata": {
        "id": "gKe_AynTIhLD",
        "colab": {
          "base_uri": "https://localhost:8080/"
        },
        "outputId": "fea7225d-6cae-4313-ca06-174498e5bd7f"
      },
      "execution_count": 116,
      "outputs": [
        {
          "output_type": "execute_result",
          "data": {
            "text/plain": [
              "[15, 87, 32, 65, 56, 32, 49, 37]"
            ]
          },
          "metadata": {},
          "execution_count": 116
        }
      ]
    },
    {
      "cell_type": "code",
      "source": [
        "sorted(ages)"
      ],
      "metadata": {
        "colab": {
          "base_uri": "https://localhost:8080/"
        },
        "id": "c9mKpl7NM4pw",
        "outputId": "6d949ac9-7944-4a84-b7d7-0a0645fc32b1"
      },
      "execution_count": 117,
      "outputs": [
        {
          "output_type": "execute_result",
          "data": {
            "text/plain": [
              "[15, 32, 32, 37, 49, 56, 65, 87]"
            ]
          },
          "metadata": {},
          "execution_count": 117
        }
      ]
    },
    {
      "cell_type": "markdown",
      "source": [
        "15 < 32"
      ],
      "metadata": {
        "id": "CajSC55UM8oY"
      }
    },
    {
      "cell_type": "code",
      "source": [
        "list(reversed(ages))"
      ],
      "metadata": {
        "colab": {
          "base_uri": "https://localhost:8080/"
        },
        "id": "W08rFjWLNEtH",
        "outputId": "e020b7d0-a9f4-463d-8b9e-6ccc00d76763"
      },
      "execution_count": 119,
      "outputs": [
        {
          "output_type": "execute_result",
          "data": {
            "text/plain": [
              "[37, 49, 32, 56, 65, 32, 87, 15]"
            ]
          },
          "metadata": {},
          "execution_count": 119
        }
      ]
    },
    {
      "cell_type": "code",
      "source": [
        "sorted(ages, reverse=True)"
      ],
      "metadata": {
        "colab": {
          "base_uri": "https://localhost:8080/"
        },
        "id": "vjAAP-pJNLq9",
        "outputId": "2928de82-32fb-4dd1-eff9-9a7851d0e84b"
      },
      "execution_count": 120,
      "outputs": [
        {
          "output_type": "execute_result",
          "data": {
            "text/plain": [
              "[87, 65, 56, 49, 37, 32, 32, 15]"
            ]
          },
          "metadata": {},
          "execution_count": 120
        }
      ]
    },
    {
      "cell_type": "code",
      "source": [
        "list(reversed(sorted(ages)))"
      ],
      "metadata": {
        "colab": {
          "base_uri": "https://localhost:8080/"
        },
        "id": "mdol4Jf9NUaV",
        "outputId": "cc95bfb3-17b9-48bd-ef24-a8524640de96"
      },
      "execution_count": 121,
      "outputs": [
        {
          "output_type": "execute_result",
          "data": {
            "text/plain": [
              "[87, 65, 56, 49, 37, 32, 32, 15]"
            ]
          },
          "metadata": {},
          "execution_count": 121
        }
      ]
    },
    {
      "cell_type": "code",
      "source": [
        "ages"
      ],
      "metadata": {
        "colab": {
          "base_uri": "https://localhost:8080/"
        },
        "id": "40cAcL8kNh5y",
        "outputId": "60e1f3e9-e4a7-4a68-b944-0fc917db556e"
      },
      "execution_count": 122,
      "outputs": [
        {
          "output_type": "execute_result",
          "data": {
            "text/plain": [
              "[15, 87, 32, 65, 56, 32, 49, 37]"
            ]
          },
          "metadata": {},
          "execution_count": 122
        }
      ]
    },
    {
      "cell_type": "code",
      "source": [
        "ages.sort()"
      ],
      "metadata": {
        "id": "su3BEPnmNs-w"
      },
      "execution_count": 123,
      "outputs": []
    },
    {
      "cell_type": "code",
      "source": [
        "ages"
      ],
      "metadata": {
        "colab": {
          "base_uri": "https://localhost:8080/"
        },
        "id": "VoxVZDcjN2AZ",
        "outputId": "8c8883de-d925-4355-f613-acee53db4461"
      },
      "execution_count": 124,
      "outputs": [
        {
          "output_type": "execute_result",
          "data": {
            "text/plain": [
              "[15, 32, 32, 37, 49, 56, 65, 87]"
            ]
          },
          "metadata": {},
          "execution_count": 124
        }
      ]
    },
    {
      "cell_type": "code",
      "source": [
        "names = [\"guilherme\", \"Daniela\", \"Paulo\"]\n",
        "sorted(names)"
      ],
      "metadata": {
        "colab": {
          "base_uri": "https://localhost:8080/"
        },
        "id": "Iy4j_rHkN2p4",
        "outputId": "0a5f710c-e3d6-4292-9ed8-1b52e908eb80"
      },
      "execution_count": 126,
      "outputs": [
        {
          "output_type": "execute_result",
          "data": {
            "text/plain": [
              "['Daniela', 'Paulo', 'guilherme']"
            ]
          },
          "metadata": {},
          "execution_count": 126
        }
      ]
    },
    {
      "cell_type": "code",
      "source": [
        "class SalaryAccount:\n",
        "\n",
        "  def __init__(self, code):\n",
        "    self._code = code\n",
        "    self._balance = 0\n",
        "\n",
        "  def __eq__(self, other):\n",
        "    if type(other) != SalaryAccount:\n",
        "      return False\n",
        "\n",
        "    return self._code == other._code and self._balance == other._balance\n",
        "\n",
        "  def deposit(self, value):\n",
        "    self._balance += value\n",
        "\n",
        "  def __str__(self):\n",
        "    return f\"[>>Código: {self._code} - Saldo: R${self._balance}<<]\""
      ],
      "metadata": {
        "id": "wEoj-QctPOIb"
      },
      "execution_count": 127,
      "outputs": []
    },
    {
      "cell_type": "code",
      "source": [
        "account_guilherme = SalaryAccount(17)\n",
        "account_guilherme.deposit(500)\n",
        "\n",
        "account_daniela = SalaryAccount(3)\n",
        "account_daniela.deposit(1000)\n",
        "\n",
        "account_paulo = SalaryAccount(133)\n",
        "account_paulo.deposit(510)\n",
        "\n",
        "accounts = [account_guilherme, account_daniela, account_paulo]"
      ],
      "metadata": {
        "id": "fMUS30JVcSvn"
      },
      "execution_count": 128,
      "outputs": []
    },
    {
      "cell_type": "code",
      "source": [
        "for account in accounts:\n",
        "  print(account)"
      ],
      "metadata": {
        "colab": {
          "base_uri": "https://localhost:8080/"
        },
        "id": "D_cUMSo3c19I",
        "outputId": "caa9c4fd-e251-49ea-ffe3-9f6363c264ba"
      },
      "execution_count": 129,
      "outputs": [
        {
          "output_type": "stream",
          "name": "stdout",
          "text": [
            "[>>Código: 17 - Saldo: R$500<<]\n",
            "[>>Código: 3 - Saldo: R$1000<<]\n",
            "[>>Código: 133 - Saldo: R$510<<]\n"
          ]
        }
      ]
    },
    {
      "cell_type": "code",
      "source": [
        "sorted(account)"
      ],
      "metadata": {
        "colab": {
          "base_uri": "https://localhost:8080/",
          "height": 165
        },
        "id": "AjXJwZuCc5xA",
        "outputId": "4d060f47-59b3-4005-e3f3-80bef5d7b120"
      },
      "execution_count": 130,
      "outputs": [
        {
          "output_type": "error",
          "ename": "TypeError",
          "evalue": "ignored",
          "traceback": [
            "\u001b[0;31m---------------------------------------------------------------------------\u001b[0m",
            "\u001b[0;31mTypeError\u001b[0m                                 Traceback (most recent call last)",
            "\u001b[0;32m<ipython-input-130-8b4f40f28424>\u001b[0m in \u001b[0;36m<module>\u001b[0;34m()\u001b[0m\n\u001b[0;32m----> 1\u001b[0;31m \u001b[0msorted\u001b[0m\u001b[0;34m(\u001b[0m\u001b[0maccount\u001b[0m\u001b[0;34m)\u001b[0m\u001b[0;34m\u001b[0m\u001b[0;34m\u001b[0m\u001b[0m\n\u001b[0m",
            "\u001b[0;31mTypeError\u001b[0m: 'SalaryAccount' object is not iterable"
          ]
        }
      ]
    },
    {
      "cell_type": "code",
      "source": [
        "account_guilherme < account_daniela"
      ],
      "metadata": {
        "colab": {
          "base_uri": "https://localhost:8080/",
          "height": 165
        },
        "id": "OAgCVO3Yc8dk",
        "outputId": "c7f03384-aed9-42a3-b9fa-91fbbba5cab0"
      },
      "execution_count": 131,
      "outputs": [
        {
          "output_type": "error",
          "ename": "TypeError",
          "evalue": "ignored",
          "traceback": [
            "\u001b[0;31m---------------------------------------------------------------------------\u001b[0m",
            "\u001b[0;31mTypeError\u001b[0m                                 Traceback (most recent call last)",
            "\u001b[0;32m<ipython-input-131-7a6de4064e77>\u001b[0m in \u001b[0;36m<module>\u001b[0;34m()\u001b[0m\n\u001b[0;32m----> 1\u001b[0;31m \u001b[0maccount_guilherme\u001b[0m \u001b[0;34m<\u001b[0m \u001b[0maccount_daniela\u001b[0m\u001b[0;34m\u001b[0m\u001b[0;34m\u001b[0m\u001b[0m\n\u001b[0m",
            "\u001b[0;31mTypeError\u001b[0m: '<' not supported between instances of 'SalaryAccount' and 'SalaryAccount'"
          ]
        }
      ]
    },
    {
      "cell_type": "code",
      "source": [
        "def extract_balance(account):\n",
        "  return account._balance\n",
        "\n",
        "for account in sorted(accounts, key=extract_balance):\n",
        "  print(account)"
      ],
      "metadata": {
        "colab": {
          "base_uri": "https://localhost:8080/"
        },
        "id": "kRqbbDtPdCzD",
        "outputId": "cb6589b3-a6c9-4af3-a9a7-1cf00da825bc"
      },
      "execution_count": 133,
      "outputs": [
        {
          "output_type": "stream",
          "name": "stdout",
          "text": [
            "[>>Código: 17 - Saldo: R$500<<]\n",
            "[>>Código: 133 - Saldo: R$510<<]\n",
            "[>>Código: 3 - Saldo: R$1000<<]\n"
          ]
        }
      ]
    },
    {
      "cell_type": "code",
      "source": [
        "from operator import attrgetter\n",
        "\n",
        "for account in sorted(accounts, key=attrgetter(\"_balance\")):\n",
        "  print(account)"
      ],
      "metadata": {
        "colab": {
          "base_uri": "https://localhost:8080/"
        },
        "id": "LRozly14odLC",
        "outputId": "30f07b52-af7f-47d9-8530-ad40b4a790ec"
      },
      "execution_count": 134,
      "outputs": [
        {
          "output_type": "stream",
          "name": "stdout",
          "text": [
            "[>>Código: 17 - Saldo: R$500<<]\n",
            "[>>Código: 133 - Saldo: R$510<<]\n",
            "[>>Código: 3 - Saldo: R$1000<<]\n"
          ]
        }
      ]
    },
    {
      "cell_type": "code",
      "source": [
        "account_guilherme < account_daniela"
      ],
      "metadata": {
        "colab": {
          "base_uri": "https://localhost:8080/",
          "height": 165
        },
        "id": "EWpNmxtypP05",
        "outputId": "9384f6dc-a6f6-4050-d34d-bd4636c9a382"
      },
      "execution_count": 135,
      "outputs": [
        {
          "output_type": "error",
          "ename": "TypeError",
          "evalue": "ignored",
          "traceback": [
            "\u001b[0;31m---------------------------------------------------------------------------\u001b[0m",
            "\u001b[0;31mTypeError\u001b[0m                                 Traceback (most recent call last)",
            "\u001b[0;32m<ipython-input-135-7a6de4064e77>\u001b[0m in \u001b[0;36m<module>\u001b[0;34m()\u001b[0m\n\u001b[0;32m----> 1\u001b[0;31m \u001b[0maccount_guilherme\u001b[0m \u001b[0;34m<\u001b[0m \u001b[0maccount_daniela\u001b[0m\u001b[0;34m\u001b[0m\u001b[0;34m\u001b[0m\u001b[0m\n\u001b[0m",
            "\u001b[0;31mTypeError\u001b[0m: '<' not supported between instances of 'SalaryAccount' and 'SalaryAccount'"
          ]
        }
      ]
    },
    {
      "cell_type": "code",
      "source": [
        "class SalaryAccount:\n",
        "\n",
        "  def __init__(self, code):\n",
        "    self._code = code\n",
        "    self._balance = 0\n",
        "\n",
        "  def __eq__(self, other):\n",
        "    if type(other) != SalaryAccount:\n",
        "      return False\n",
        "\n",
        "    return self._code == other._code and self._balance == other._balance\n",
        "\n",
        "  def __lt__(self, other):\n",
        "    return self._balance < other._balance\n",
        "\n",
        "  def deposit(self, value):\n",
        "    self._balance += value\n",
        "\n",
        "  def __str__(self):\n",
        "    return f\"[>>Código: {self._code} - Saldo: R${self._balance}<<]\""
      ],
      "metadata": {
        "id": "N9Ieovahpuzi"
      },
      "execution_count": 144,
      "outputs": []
    },
    {
      "cell_type": "code",
      "source": [
        "account_guilherme = SalaryAccount(17)\n",
        "account_guilherme.deposit(500)\n",
        "\n",
        "account_daniela = SalaryAccount(3)\n",
        "account_daniela.deposit(1000)\n",
        "\n",
        "account_paulo = SalaryAccount(133)\n",
        "account_paulo.deposit(510)\n",
        "\n",
        "accounts = [account_guilherme, account_daniela, account_paulo]"
      ],
      "metadata": {
        "id": "c-MSL3dGqH_H"
      },
      "execution_count": 145,
      "outputs": []
    },
    {
      "cell_type": "code",
      "source": [
        "account_guilherme < account_daniela"
      ],
      "metadata": {
        "colab": {
          "base_uri": "https://localhost:8080/"
        },
        "id": "ug4SqNLcqIjY",
        "outputId": "85821291-1fca-4de1-9f76-fb4d8aac0788"
      },
      "execution_count": 147,
      "outputs": [
        {
          "output_type": "execute_result",
          "data": {
            "text/plain": [
              "True"
            ]
          },
          "metadata": {},
          "execution_count": 147
        }
      ]
    },
    {
      "cell_type": "code",
      "source": [
        "account_guilherme > account_daniela"
      ],
      "metadata": {
        "colab": {
          "base_uri": "https://localhost:8080/"
        },
        "id": "88yQlwmhrICy",
        "outputId": "89c8cdb6-5917-43ca-fb78-9d32fdbe9659"
      },
      "execution_count": 148,
      "outputs": [
        {
          "output_type": "execute_result",
          "data": {
            "text/plain": [
              "False"
            ]
          },
          "metadata": {},
          "execution_count": 148
        }
      ]
    },
    {
      "cell_type": "code",
      "source": [
        "for account in sorted(accounts):\n",
        "  print(account)"
      ],
      "metadata": {
        "colab": {
          "base_uri": "https://localhost:8080/"
        },
        "id": "_VT6sxzjrKV7",
        "outputId": "70e8cdb7-3d0a-4926-848f-404f28a02f5e"
      },
      "execution_count": 151,
      "outputs": [
        {
          "output_type": "stream",
          "name": "stdout",
          "text": [
            "[>>Código: 17 - Saldo: R$500<<]\n",
            "[>>Código: 133 - Saldo: R$510<<]\n",
            "[>>Código: 3 - Saldo: R$1000<<]\n"
          ]
        }
      ]
    },
    {
      "cell_type": "code",
      "source": [
        "for account in sorted(accounts, reverse=True):\n",
        "  print(account)"
      ],
      "metadata": {
        "colab": {
          "base_uri": "https://localhost:8080/"
        },
        "id": "iTXglG5ardq7",
        "outputId": "adb031fa-331b-4ce1-9986-65f950f53498"
      },
      "execution_count": 152,
      "outputs": [
        {
          "output_type": "stream",
          "name": "stdout",
          "text": [
            "[>>Código: 3 - Saldo: R$1000<<]\n",
            "[>>Código: 133 - Saldo: R$510<<]\n",
            "[>>Código: 17 - Saldo: R$500<<]\n"
          ]
        }
      ]
    },
    {
      "cell_type": "code",
      "source": [
        "account_guilherme = SalaryAccount(1700)\n",
        "account_guilherme.deposit(500)\n",
        "\n",
        "account_daniela = SalaryAccount(3)\n",
        "account_daniela.deposit(1000)\n",
        "\n",
        "account_paulo = SalaryAccount(133)\n",
        "account_paulo.deposit(500)\n",
        "\n",
        "accounts = [account_guilherme, account_daniela, account_paulo]"
      ],
      "metadata": {
        "id": "LlLgudo6reYq"
      },
      "execution_count": 153,
      "outputs": []
    },
    {
      "cell_type": "code",
      "source": [
        "for account in sorted(accounts, key=attrgetter(\"_balance\", \"_code\")):\n",
        "  print(account)\n",
        "                      "
      ],
      "metadata": {
        "colab": {
          "base_uri": "https://localhost:8080/"
        },
        "id": "Xb2SejTNsZuE",
        "outputId": "7cae26af-d938-4eed-f1a1-80da4d633b92"
      },
      "execution_count": 158,
      "outputs": [
        {
          "output_type": "stream",
          "name": "stdout",
          "text": [
            "[>>Código: 133 - Saldo: R$500<<]\n",
            "[>>Código: 1700 - Saldo: R$500<<]\n",
            "[>>Código: 3 - Saldo: R$1000<<]\n"
          ]
        }
      ]
    },
    {
      "cell_type": "code",
      "source": [
        "class SalaryAccount:\n",
        "\n",
        "  def __init__(self, code):\n",
        "    self._code = code\n",
        "    self._balance = 0\n",
        "\n",
        "  def __eq__(self, other):\n",
        "    if type(other) != SalaryAccount:\n",
        "      return False\n",
        "\n",
        "    return self._code == other._code and self._balance == other._balance\n",
        "\n",
        "  def __lt__(self, other):\n",
        "    if self._balance != other._balance:\n",
        "      return self._balance < other._balance\n",
        "    return self._code < other._code\n",
        "\n",
        "  def deposit(self, value):\n",
        "    self._balance += value\n",
        "\n",
        "  def __str__(self):\n",
        "    return f\"[>>Código: {self._code} - Saldo: R${self._balance}<<]\""
      ],
      "metadata": {
        "id": "W9Sw0bY_skLw"
      },
      "execution_count": 160,
      "outputs": []
    },
    {
      "cell_type": "code",
      "source": [
        "account_guilherme = SalaryAccount(1700)\n",
        "account_guilherme.deposit(500)\n",
        "\n",
        "account_daniela = SalaryAccount(3)\n",
        "account_daniela.deposit(500)\n",
        "\n",
        "account_paulo = SalaryAccount(133)\n",
        "account_paulo.deposit(500)\n",
        "\n",
        "accounts = [account_guilherme, account_daniela, account_paulo]"
      ],
      "metadata": {
        "id": "901Yrv7ltQiI"
      },
      "execution_count": 163,
      "outputs": []
    },
    {
      "cell_type": "code",
      "source": [
        "for account in sorted(accounts):\n",
        "  print(account)"
      ],
      "metadata": {
        "colab": {
          "base_uri": "https://localhost:8080/"
        },
        "id": "F3pwNIQ4tRAW",
        "outputId": "fc5b1b08-0545-4768-c258-89a118b68590"
      },
      "execution_count": 164,
      "outputs": [
        {
          "output_type": "stream",
          "name": "stdout",
          "text": [
            "[>>Código: 3 - Saldo: R$500<<]\n",
            "[>>Código: 133 - Saldo: R$500<<]\n",
            "[>>Código: 1700 - Saldo: R$500<<]\n"
          ]
        }
      ]
    },
    {
      "cell_type": "code",
      "source": [
        "account_guilherme = SalaryAccount(1700)\n",
        "account_guilherme.deposit(500)\n",
        "\n",
        "account_daniela = SalaryAccount(3)\n",
        "account_daniela.deposit(1000)\n",
        "\n",
        "account_paulo = SalaryAccount(133)\n",
        "account_paulo.deposit(500)\n",
        "\n",
        "accounts = [account_guilherme, account_daniela, account_paulo]"
      ],
      "metadata": {
        "id": "ANyfvq4ItVa0"
      },
      "execution_count": 166,
      "outputs": []
    },
    {
      "cell_type": "code",
      "source": [
        "for account in sorted(accounts):\n",
        "  print(account)"
      ],
      "metadata": {
        "colab": {
          "base_uri": "https://localhost:8080/"
        },
        "id": "uaT8CfNVtgl6",
        "outputId": "cf97481c-e17d-4aaf-df1d-8ec60e64e258"
      },
      "execution_count": 167,
      "outputs": [
        {
          "output_type": "stream",
          "name": "stdout",
          "text": [
            "[>>Código: 133 - Saldo: R$500<<]\n",
            "[>>Código: 1700 - Saldo: R$500<<]\n",
            "[>>Código: 3 - Saldo: R$1000<<]\n"
          ]
        }
      ]
    },
    {
      "cell_type": "code",
      "source": [
        "from functools import total_ordering\n",
        "\n",
        "@total_ordering\n",
        "class SalaryAccount:\n",
        "\n",
        "  def __init__(self, code):\n",
        "    self._code = code\n",
        "    self._balance = 0\n",
        "\n",
        "  def __eq__(self, other):\n",
        "    if type(other) != SalaryAccount:\n",
        "      return False\n",
        "\n",
        "    return self._code == other._code and self._balance == other._balance\n",
        "\n",
        "  def __lt__(self, other):\n",
        "    if self._balance != other._balance:\n",
        "      return self._balance < other._balance\n",
        "    return self._code < other._code\n",
        "\n",
        "  def deposit(self, value):\n",
        "    self._balance += value\n",
        "\n",
        "  def __str__(self):\n",
        "    return f\"[>>Código: {self._code} - Saldo: R${self._balance}<<]\""
      ],
      "metadata": {
        "id": "DXXXdpUjthXi"
      },
      "execution_count": 172,
      "outputs": []
    },
    {
      "cell_type": "code",
      "source": [
        "account_guilherme = SalaryAccount(1700)\n",
        "account_guilherme.deposit(500)\n",
        "\n",
        "account_daniela = SalaryAccount(3)\n",
        "account_daniela.deposit(1000)\n",
        "\n",
        "account_paulo = SalaryAccount(133)\n",
        "account_paulo.deposit(500)\n",
        "\n",
        "accounts = [account_guilherme, account_daniela, account_paulo]"
      ],
      "metadata": {
        "id": "56xf62svypTf"
      },
      "execution_count": 173,
      "outputs": []
    },
    {
      "cell_type": "code",
      "source": [
        "account_guilherme <= account_daniela"
      ],
      "metadata": {
        "colab": {
          "base_uri": "https://localhost:8080/"
        },
        "id": "xKOhIje9ys0I",
        "outputId": "9ac231c6-0fcf-488a-d181-2559f02b24a4"
      },
      "execution_count": 174,
      "outputs": [
        {
          "output_type": "execute_result",
          "data": {
            "text/plain": [
              "True"
            ]
          },
          "metadata": {},
          "execution_count": 174
        }
      ]
    },
    {
      "cell_type": "code",
      "source": [
        "account_guilherme <= account_paulo"
      ],
      "metadata": {
        "colab": {
          "base_uri": "https://localhost:8080/"
        },
        "id": "0bJYoyyWyv9A",
        "outputId": "863e7742-3702-4101-f29b-32e2c645c8ac"
      },
      "execution_count": 175,
      "outputs": [
        {
          "output_type": "execute_result",
          "data": {
            "text/plain": [
              "False"
            ]
          },
          "metadata": {},
          "execution_count": 175
        }
      ]
    },
    {
      "cell_type": "code",
      "source": [
        "account_guilherme < account_guilherme"
      ],
      "metadata": {
        "colab": {
          "base_uri": "https://localhost:8080/"
        },
        "id": "v6Twy-l2yxtN",
        "outputId": "8c7ab730-7810-4f48-bc16-432d27e2af9e"
      },
      "execution_count": 176,
      "outputs": [
        {
          "output_type": "execute_result",
          "data": {
            "text/plain": [
              "False"
            ]
          },
          "metadata": {},
          "execution_count": 176
        }
      ]
    },
    {
      "cell_type": "code",
      "source": [
        "account_guilherme == account_guilherme"
      ],
      "metadata": {
        "colab": {
          "base_uri": "https://localhost:8080/"
        },
        "id": "unkugkYiy1bL",
        "outputId": "d7f4cf22-4f02-4f49-d8b5-d913449f6e47"
      },
      "execution_count": 178,
      "outputs": [
        {
          "output_type": "execute_result",
          "data": {
            "text/plain": [
              "True"
            ]
          },
          "metadata": {},
          "execution_count": 178
        }
      ]
    },
    {
      "cell_type": "code",
      "source": [
        "account_guilherme <= account_guilherme"
      ],
      "metadata": {
        "colab": {
          "base_uri": "https://localhost:8080/"
        },
        "id": "citJlVgXy3fh",
        "outputId": "7e9fa7c4-b4d8-4360-9847-8b6351a4627d"
      },
      "execution_count": 179,
      "outputs": [
        {
          "output_type": "execute_result",
          "data": {
            "text/plain": [
              "True"
            ]
          },
          "metadata": {},
          "execution_count": 179
        }
      ]
    },
    {
      "cell_type": "code",
      "source": [
        ""
      ],
      "metadata": {
        "id": "-wrZpWbyy7er"
      },
      "execution_count": null,
      "outputs": []
    }
  ]
}